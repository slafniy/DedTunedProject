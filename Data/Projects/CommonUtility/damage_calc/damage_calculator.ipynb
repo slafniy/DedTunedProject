{
 "cells": [
  {
   "metadata": {
    "ExecuteTime": {
     "end_time": "2024-11-13T18:38:45.971013Z",
     "start_time": "2024-11-13T18:38:40.704765Z"
    }
   },
   "cell_type": "code",
   "source": [
    "from character import ALL_PROGRESSIONS, TWO_WEAPONS_CROSSBOWS_NO_FEATS, TWO_WEAPONS_CROSSBOWS_SS_VANILLA\n",
    "import simulator\n",
    "\n",
    "raw_data = simulator.simulate_combat(\n",
    "    ALL_PROGRESSIONS,\n",
    "    # [TWO_WEAPONS_CROSSBOWS_NO_FEATS, TWO_WEAPONS_CROSSBOWS_SS_VANILLA],\n",
    "    target_ac=13,\n",
    "    iterations=5000\n",
    ")"
   ],
   "id": "5e10ae07aef939e7",
   "outputs": [],
   "execution_count": 11
  },
  {
   "metadata": {
    "ExecuteTime": {
     "end_time": "2024-11-13T18:38:46.949371Z",
     "start_time": "2024-11-13T18:38:45.978290Z"
    }
   },
   "cell_type": "code",
   "source": [
    "import pandas as pd\n",
    "\n",
    "df = pd.DataFrame(raw_data)\n",
    "df"
   ],
   "id": "d74be4c7ba44d9f1",
   "outputs": [
    {
     "data": {
      "text/plain": [
       "         iteration_number  round_number                            name  \\\n",
       "0                       0             1       Ranger_Archery_SS_Vanilla   \n",
       "1                       0             2       Ranger_Archery_SS_Vanilla   \n",
       "2                       0             3       Ranger_Archery_SS_Vanilla   \n",
       "3                       0             4       Ranger_Archery_SS_Vanilla   \n",
       "4                       0             5       Ranger_Archery_SS_Vanilla   \n",
       "...                   ...           ...                             ...   \n",
       "1199995              4999             1  Ranger_TwoCrossbows_SS_Vanilla   \n",
       "1199996              4999             2  Ranger_TwoCrossbows_SS_Vanilla   \n",
       "1199997              4999             3  Ranger_TwoCrossbows_SS_Vanilla   \n",
       "1199998              4999             4  Ranger_TwoCrossbows_SS_Vanilla   \n",
       "1199999              4999             5  Ranger_TwoCrossbows_SS_Vanilla   \n",
       "\n",
       "         level  round_damage  \n",
       "0            1             9  \n",
       "1            1            10  \n",
       "2            1            16  \n",
       "3            1             8  \n",
       "4            1            13  \n",
       "...        ...           ...  \n",
       "1199995     12             0  \n",
       "1199996     12            18  \n",
       "1199997     12            52  \n",
       "1199998     12             0  \n",
       "1199999     12            17  \n",
       "\n",
       "[1200000 rows x 5 columns]"
      ],
      "text/html": [
       "<div>\n",
       "<style scoped>\n",
       "    .dataframe tbody tr th:only-of-type {\n",
       "        vertical-align: middle;\n",
       "    }\n",
       "\n",
       "    .dataframe tbody tr th {\n",
       "        vertical-align: top;\n",
       "    }\n",
       "\n",
       "    .dataframe thead th {\n",
       "        text-align: right;\n",
       "    }\n",
       "</style>\n",
       "<table border=\"1\" class=\"dataframe\">\n",
       "  <thead>\n",
       "    <tr style=\"text-align: right;\">\n",
       "      <th></th>\n",
       "      <th>iteration_number</th>\n",
       "      <th>round_number</th>\n",
       "      <th>name</th>\n",
       "      <th>level</th>\n",
       "      <th>round_damage</th>\n",
       "    </tr>\n",
       "  </thead>\n",
       "  <tbody>\n",
       "    <tr>\n",
       "      <th>0</th>\n",
       "      <td>0</td>\n",
       "      <td>1</td>\n",
       "      <td>Ranger_Archery_SS_Vanilla</td>\n",
       "      <td>1</td>\n",
       "      <td>9</td>\n",
       "    </tr>\n",
       "    <tr>\n",
       "      <th>1</th>\n",
       "      <td>0</td>\n",
       "      <td>2</td>\n",
       "      <td>Ranger_Archery_SS_Vanilla</td>\n",
       "      <td>1</td>\n",
       "      <td>10</td>\n",
       "    </tr>\n",
       "    <tr>\n",
       "      <th>2</th>\n",
       "      <td>0</td>\n",
       "      <td>3</td>\n",
       "      <td>Ranger_Archery_SS_Vanilla</td>\n",
       "      <td>1</td>\n",
       "      <td>16</td>\n",
       "    </tr>\n",
       "    <tr>\n",
       "      <th>3</th>\n",
       "      <td>0</td>\n",
       "      <td>4</td>\n",
       "      <td>Ranger_Archery_SS_Vanilla</td>\n",
       "      <td>1</td>\n",
       "      <td>8</td>\n",
       "    </tr>\n",
       "    <tr>\n",
       "      <th>4</th>\n",
       "      <td>0</td>\n",
       "      <td>5</td>\n",
       "      <td>Ranger_Archery_SS_Vanilla</td>\n",
       "      <td>1</td>\n",
       "      <td>13</td>\n",
       "    </tr>\n",
       "    <tr>\n",
       "      <th>...</th>\n",
       "      <td>...</td>\n",
       "      <td>...</td>\n",
       "      <td>...</td>\n",
       "      <td>...</td>\n",
       "      <td>...</td>\n",
       "    </tr>\n",
       "    <tr>\n",
       "      <th>1199995</th>\n",
       "      <td>4999</td>\n",
       "      <td>1</td>\n",
       "      <td>Ranger_TwoCrossbows_SS_Vanilla</td>\n",
       "      <td>12</td>\n",
       "      <td>0</td>\n",
       "    </tr>\n",
       "    <tr>\n",
       "      <th>1199996</th>\n",
       "      <td>4999</td>\n",
       "      <td>2</td>\n",
       "      <td>Ranger_TwoCrossbows_SS_Vanilla</td>\n",
       "      <td>12</td>\n",
       "      <td>18</td>\n",
       "    </tr>\n",
       "    <tr>\n",
       "      <th>1199997</th>\n",
       "      <td>4999</td>\n",
       "      <td>3</td>\n",
       "      <td>Ranger_TwoCrossbows_SS_Vanilla</td>\n",
       "      <td>12</td>\n",
       "      <td>52</td>\n",
       "    </tr>\n",
       "    <tr>\n",
       "      <th>1199998</th>\n",
       "      <td>4999</td>\n",
       "      <td>4</td>\n",
       "      <td>Ranger_TwoCrossbows_SS_Vanilla</td>\n",
       "      <td>12</td>\n",
       "      <td>0</td>\n",
       "    </tr>\n",
       "    <tr>\n",
       "      <th>1199999</th>\n",
       "      <td>4999</td>\n",
       "      <td>5</td>\n",
       "      <td>Ranger_TwoCrossbows_SS_Vanilla</td>\n",
       "      <td>12</td>\n",
       "      <td>17</td>\n",
       "    </tr>\n",
       "  </tbody>\n",
       "</table>\n",
       "<p>1200000 rows × 5 columns</p>\n",
       "</div>"
      ]
     },
     "execution_count": 12,
     "metadata": {},
     "output_type": "execute_result"
    }
   ],
   "execution_count": 12
  },
  {
   "metadata": {
    "ExecuteTime": {
     "end_time": "2024-11-13T18:40:39.422848Z",
     "start_time": "2024-11-13T18:38:46.985147Z"
    }
   },
   "cell_type": "code",
   "source": [
    "df_per_round_stats = df.groupby(['iteration_number', 'level', 'name']).agg(\n",
    "    # mean_round_damage=('round_damage', 'mean'),\n",
    "    median_round_damage=('round_damage', 'median'),\n",
    "    # max_round_damage=('round_damage', 'max'),\n",
    "    percentile_10_round_damage=('round_damage', lambda x: x.quantile(0.1)),\n",
    "    percentile_90_round_damage=('round_damage', lambda x: x.quantile(0.9))\n",
    ").reset_index()\n",
    "\n",
    "df_per_round_stats\n"
   ],
   "id": "5ae21c896c0d9f05",
   "outputs": [
    {
     "data": {
      "text/plain": [
       "        iteration_number  level                            name  \\\n",
       "0                      0      1          Ranger_Archery_NoFeats   \n",
       "1                      0      1       Ranger_Archery_SS_Vanilla   \n",
       "2                      0      1     Ranger_TwoCrossbows_NoFeats   \n",
       "3                      0      1  Ranger_TwoCrossbows_SS_Vanilla   \n",
       "4                      0      2          Ranger_Archery_NoFeats   \n",
       "...                  ...    ...                             ...   \n",
       "239995              4999     11  Ranger_TwoCrossbows_SS_Vanilla   \n",
       "239996              4999     12          Ranger_Archery_NoFeats   \n",
       "239997              4999     12       Ranger_Archery_SS_Vanilla   \n",
       "239998              4999     12     Ranger_TwoCrossbows_NoFeats   \n",
       "239999              4999     12  Ranger_TwoCrossbows_SS_Vanilla   \n",
       "\n",
       "        median_round_damage  percentile_10_round_damage  \\\n",
       "0                       7.0                         2.0   \n",
       "1                      10.0                         8.4   \n",
       "2                      14.0                        12.4   \n",
       "3                      12.0                         8.0   \n",
       "4                       8.0                         2.4   \n",
       "...                     ...                         ...   \n",
       "239995                 17.0                         6.4   \n",
       "239996                 19.0                         5.8   \n",
       "239997                 23.0                         0.0   \n",
       "239998                 20.0                        15.2   \n",
       "239999                 17.0                         0.0   \n",
       "\n",
       "        percentile_90_round_damage  \n",
       "0                             10.6  \n",
       "1                             14.8  \n",
       "2                             14.6  \n",
       "3                             18.0  \n",
       "4                             13.2  \n",
       "...                            ...  \n",
       "239995                        37.2  \n",
       "239996                        23.8  \n",
       "239997                        37.0  \n",
       "239998                        22.6  \n",
       "239999                        38.4  \n",
       "\n",
       "[240000 rows x 6 columns]"
      ],
      "text/html": [
       "<div>\n",
       "<style scoped>\n",
       "    .dataframe tbody tr th:only-of-type {\n",
       "        vertical-align: middle;\n",
       "    }\n",
       "\n",
       "    .dataframe tbody tr th {\n",
       "        vertical-align: top;\n",
       "    }\n",
       "\n",
       "    .dataframe thead th {\n",
       "        text-align: right;\n",
       "    }\n",
       "</style>\n",
       "<table border=\"1\" class=\"dataframe\">\n",
       "  <thead>\n",
       "    <tr style=\"text-align: right;\">\n",
       "      <th></th>\n",
       "      <th>iteration_number</th>\n",
       "      <th>level</th>\n",
       "      <th>name</th>\n",
       "      <th>median_round_damage</th>\n",
       "      <th>percentile_10_round_damage</th>\n",
       "      <th>percentile_90_round_damage</th>\n",
       "    </tr>\n",
       "  </thead>\n",
       "  <tbody>\n",
       "    <tr>\n",
       "      <th>0</th>\n",
       "      <td>0</td>\n",
       "      <td>1</td>\n",
       "      <td>Ranger_Archery_NoFeats</td>\n",
       "      <td>7.0</td>\n",
       "      <td>2.0</td>\n",
       "      <td>10.6</td>\n",
       "    </tr>\n",
       "    <tr>\n",
       "      <th>1</th>\n",
       "      <td>0</td>\n",
       "      <td>1</td>\n",
       "      <td>Ranger_Archery_SS_Vanilla</td>\n",
       "      <td>10.0</td>\n",
       "      <td>8.4</td>\n",
       "      <td>14.8</td>\n",
       "    </tr>\n",
       "    <tr>\n",
       "      <th>2</th>\n",
       "      <td>0</td>\n",
       "      <td>1</td>\n",
       "      <td>Ranger_TwoCrossbows_NoFeats</td>\n",
       "      <td>14.0</td>\n",
       "      <td>12.4</td>\n",
       "      <td>14.6</td>\n",
       "    </tr>\n",
       "    <tr>\n",
       "      <th>3</th>\n",
       "      <td>0</td>\n",
       "      <td>1</td>\n",
       "      <td>Ranger_TwoCrossbows_SS_Vanilla</td>\n",
       "      <td>12.0</td>\n",
       "      <td>8.0</td>\n",
       "      <td>18.0</td>\n",
       "    </tr>\n",
       "    <tr>\n",
       "      <th>4</th>\n",
       "      <td>0</td>\n",
       "      <td>2</td>\n",
       "      <td>Ranger_Archery_NoFeats</td>\n",
       "      <td>8.0</td>\n",
       "      <td>2.4</td>\n",
       "      <td>13.2</td>\n",
       "    </tr>\n",
       "    <tr>\n",
       "      <th>...</th>\n",
       "      <td>...</td>\n",
       "      <td>...</td>\n",
       "      <td>...</td>\n",
       "      <td>...</td>\n",
       "      <td>...</td>\n",
       "      <td>...</td>\n",
       "    </tr>\n",
       "    <tr>\n",
       "      <th>239995</th>\n",
       "      <td>4999</td>\n",
       "      <td>11</td>\n",
       "      <td>Ranger_TwoCrossbows_SS_Vanilla</td>\n",
       "      <td>17.0</td>\n",
       "      <td>6.4</td>\n",
       "      <td>37.2</td>\n",
       "    </tr>\n",
       "    <tr>\n",
       "      <th>239996</th>\n",
       "      <td>4999</td>\n",
       "      <td>12</td>\n",
       "      <td>Ranger_Archery_NoFeats</td>\n",
       "      <td>19.0</td>\n",
       "      <td>5.8</td>\n",
       "      <td>23.8</td>\n",
       "    </tr>\n",
       "    <tr>\n",
       "      <th>239997</th>\n",
       "      <td>4999</td>\n",
       "      <td>12</td>\n",
       "      <td>Ranger_Archery_SS_Vanilla</td>\n",
       "      <td>23.0</td>\n",
       "      <td>0.0</td>\n",
       "      <td>37.0</td>\n",
       "    </tr>\n",
       "    <tr>\n",
       "      <th>239998</th>\n",
       "      <td>4999</td>\n",
       "      <td>12</td>\n",
       "      <td>Ranger_TwoCrossbows_NoFeats</td>\n",
       "      <td>20.0</td>\n",
       "      <td>15.2</td>\n",
       "      <td>22.6</td>\n",
       "    </tr>\n",
       "    <tr>\n",
       "      <th>239999</th>\n",
       "      <td>4999</td>\n",
       "      <td>12</td>\n",
       "      <td>Ranger_TwoCrossbows_SS_Vanilla</td>\n",
       "      <td>17.0</td>\n",
       "      <td>0.0</td>\n",
       "      <td>38.4</td>\n",
       "    </tr>\n",
       "  </tbody>\n",
       "</table>\n",
       "<p>240000 rows × 6 columns</p>\n",
       "</div>"
      ]
     },
     "execution_count": 13,
     "metadata": {},
     "output_type": "execute_result"
    }
   ],
   "execution_count": 13
  },
  {
   "metadata": {
    "ExecuteTime": {
     "end_time": "2024-11-13T18:40:39.537869Z",
     "start_time": "2024-11-13T18:40:39.481543Z"
    }
   },
   "cell_type": "code",
   "source": [
    "df_overall = df_per_round_stats.groupby(['level', 'name']).agg(\n",
    "    median_DPR=('median_round_damage', 'mean'),\n",
    "    percentile_10_DPR=('percentile_10_round_damage', 'mean'),\n",
    "    percentile_90_DPR=('percentile_90_round_damage', 'mean')\n",
    ").reset_index()\n",
    "\n",
    "df_overall"
   ],
   "id": "7c6b7613264c041f",
   "outputs": [
    {
     "data": {
      "text/plain": [
       "    level                            name  median_DPR  percentile_10_DPR  \\\n",
       "0       1          Ranger_Archery_NoFeats      8.2654            3.40468   \n",
       "1       1       Ranger_Archery_SS_Vanilla      8.1968            3.43988   \n",
       "2       1     Ranger_TwoCrossbows_NoFeats     11.0298            5.78120   \n",
       "3       1  Ranger_TwoCrossbows_SS_Vanilla     11.0354            5.81408   \n",
       "4       2          Ranger_Archery_NoFeats      8.2056            3.35780   \n",
       "5       2       Ranger_Archery_SS_Vanilla      8.2762            3.49888   \n",
       "6       2     Ranger_TwoCrossbows_NoFeats     10.9700            5.76264   \n",
       "7       2  Ranger_TwoCrossbows_SS_Vanilla     10.9660            5.78020   \n",
       "8       3          Ranger_Archery_NoFeats      8.2662            3.37724   \n",
       "9       3       Ranger_Archery_SS_Vanilla      8.2006            3.39256   \n",
       "10      3     Ranger_TwoCrossbows_NoFeats     10.9816            5.72564   \n",
       "11      3  Ranger_TwoCrossbows_SS_Vanilla     10.9454            5.74848   \n",
       "12      4          Ranger_Archery_NoFeats      8.2660            3.34844   \n",
       "13      4       Ranger_Archery_SS_Vanilla      9.9530            2.07132   \n",
       "14      4     Ranger_TwoCrossbows_NoFeats     10.9828            5.73276   \n",
       "15      4  Ranger_TwoCrossbows_SS_Vanilla     14.7228            4.73048   \n",
       "16      5          Ranger_Archery_NoFeats     15.9972            9.45408   \n",
       "17      5       Ranger_Archery_SS_Vanilla     20.8034            8.52444   \n",
       "18      5     Ranger_TwoCrossbows_NoFeats     16.5378           10.12848   \n",
       "19      5  Ranger_TwoCrossbows_SS_Vanilla     21.9778            9.52324   \n",
       "20      6          Ranger_Archery_NoFeats     16.0254            9.52288   \n",
       "21      6       Ranger_Archery_SS_Vanilla     20.8692            8.65080   \n",
       "22      6     Ranger_TwoCrossbows_NoFeats     16.2918           10.07324   \n",
       "23      6  Ranger_TwoCrossbows_SS_Vanilla     22.0990            9.48632   \n",
       "24      7          Ranger_Archery_NoFeats     16.0148            9.46844   \n",
       "25      7       Ranger_Archery_SS_Vanilla     20.9980            8.78632   \n",
       "26      7     Ranger_TwoCrossbows_NoFeats     16.4146           10.05892   \n",
       "27      7  Ranger_TwoCrossbows_SS_Vanilla     22.0526            9.57112   \n",
       "28      8          Ranger_Archery_NoFeats     15.9864            9.38112   \n",
       "29      8       Ranger_Archery_SS_Vanilla     20.7880            8.52464   \n",
       "30      8     Ranger_TwoCrossbows_NoFeats     16.3910           10.06620   \n",
       "31      8  Ranger_TwoCrossbows_SS_Vanilla     22.2332            9.65220   \n",
       "32      9          Ranger_Archery_NoFeats     16.0362            9.39788   \n",
       "33      9       Ranger_Archery_SS_Vanilla     20.8306            8.72288   \n",
       "34      9     Ranger_TwoCrossbows_NoFeats     16.3594           10.05848   \n",
       "35      9  Ranger_TwoCrossbows_SS_Vanilla     21.8368            9.41296   \n",
       "36     10          Ranger_Archery_NoFeats     15.9682            9.45516   \n",
       "37     10       Ranger_Archery_SS_Vanilla     20.8162            8.75728   \n",
       "38     10     Ranger_TwoCrossbows_NoFeats     16.4108           10.09208   \n",
       "39     10  Ranger_TwoCrossbows_SS_Vanilla     22.0760            9.59808   \n",
       "40     11          Ranger_Archery_NoFeats     15.8710            9.32048   \n",
       "41     11       Ranger_Archery_SS_Vanilla     20.8070            8.47772   \n",
       "42     11     Ranger_TwoCrossbows_NoFeats     16.3638            9.96868   \n",
       "43     11  Ranger_TwoCrossbows_SS_Vanilla     22.0274            9.46592   \n",
       "44     12          Ranger_Archery_NoFeats     16.0346            9.45300   \n",
       "45     12       Ranger_Archery_SS_Vanilla     20.7502            8.59972   \n",
       "46     12     Ranger_TwoCrossbows_NoFeats     16.4316           10.11708   \n",
       "47     12  Ranger_TwoCrossbows_SS_Vanilla     22.2698            9.64772   \n",
       "\n",
       "    percentile_90_DPR  \n",
       "0            12.09796  \n",
       "1            12.12632  \n",
       "2            15.78552  \n",
       "3            15.77448  \n",
       "4            12.11244  \n",
       "5            12.12660  \n",
       "6            15.77136  \n",
       "7            15.78456  \n",
       "8            12.14880  \n",
       "9            12.15432  \n",
       "10           15.74912  \n",
       "11           15.78656  \n",
       "12           12.18716  \n",
       "13           19.12276  \n",
       "14           15.81028  \n",
       "15           25.98664  \n",
       "16           21.87892  \n",
       "17           33.52428  \n",
       "18           22.39452  \n",
       "19           36.03000  \n",
       "20           21.90296  \n",
       "21           33.61064  \n",
       "22           22.27360  \n",
       "23           35.98932  \n",
       "24           21.91064  \n",
       "25           33.63812  \n",
       "26           22.34324  \n",
       "27           36.02808  \n",
       "28           21.90840  \n",
       "29           33.40372  \n",
       "30           22.33684  \n",
       "31           36.08880  \n",
       "32           21.88836  \n",
       "33           33.55560  \n",
       "34           22.27552  \n",
       "35           35.94548  \n",
       "36           21.91260  \n",
       "37           33.43340  \n",
       "38           22.35904  \n",
       "39           35.96920  \n",
       "40           21.82416  \n",
       "41           33.60740  \n",
       "42           22.29644  \n",
       "43           36.12032  \n",
       "44           21.90192  \n",
       "45           33.42060  \n",
       "46           22.37224  \n",
       "47           36.14480  "
      ],
      "text/html": [
       "<div>\n",
       "<style scoped>\n",
       "    .dataframe tbody tr th:only-of-type {\n",
       "        vertical-align: middle;\n",
       "    }\n",
       "\n",
       "    .dataframe tbody tr th {\n",
       "        vertical-align: top;\n",
       "    }\n",
       "\n",
       "    .dataframe thead th {\n",
       "        text-align: right;\n",
       "    }\n",
       "</style>\n",
       "<table border=\"1\" class=\"dataframe\">\n",
       "  <thead>\n",
       "    <tr style=\"text-align: right;\">\n",
       "      <th></th>\n",
       "      <th>level</th>\n",
       "      <th>name</th>\n",
       "      <th>median_DPR</th>\n",
       "      <th>percentile_10_DPR</th>\n",
       "      <th>percentile_90_DPR</th>\n",
       "    </tr>\n",
       "  </thead>\n",
       "  <tbody>\n",
       "    <tr>\n",
       "      <th>0</th>\n",
       "      <td>1</td>\n",
       "      <td>Ranger_Archery_NoFeats</td>\n",
       "      <td>8.2654</td>\n",
       "      <td>3.40468</td>\n",
       "      <td>12.09796</td>\n",
       "    </tr>\n",
       "    <tr>\n",
       "      <th>1</th>\n",
       "      <td>1</td>\n",
       "      <td>Ranger_Archery_SS_Vanilla</td>\n",
       "      <td>8.1968</td>\n",
       "      <td>3.43988</td>\n",
       "      <td>12.12632</td>\n",
       "    </tr>\n",
       "    <tr>\n",
       "      <th>2</th>\n",
       "      <td>1</td>\n",
       "      <td>Ranger_TwoCrossbows_NoFeats</td>\n",
       "      <td>11.0298</td>\n",
       "      <td>5.78120</td>\n",
       "      <td>15.78552</td>\n",
       "    </tr>\n",
       "    <tr>\n",
       "      <th>3</th>\n",
       "      <td>1</td>\n",
       "      <td>Ranger_TwoCrossbows_SS_Vanilla</td>\n",
       "      <td>11.0354</td>\n",
       "      <td>5.81408</td>\n",
       "      <td>15.77448</td>\n",
       "    </tr>\n",
       "    <tr>\n",
       "      <th>4</th>\n",
       "      <td>2</td>\n",
       "      <td>Ranger_Archery_NoFeats</td>\n",
       "      <td>8.2056</td>\n",
       "      <td>3.35780</td>\n",
       "      <td>12.11244</td>\n",
       "    </tr>\n",
       "    <tr>\n",
       "      <th>5</th>\n",
       "      <td>2</td>\n",
       "      <td>Ranger_Archery_SS_Vanilla</td>\n",
       "      <td>8.2762</td>\n",
       "      <td>3.49888</td>\n",
       "      <td>12.12660</td>\n",
       "    </tr>\n",
       "    <tr>\n",
       "      <th>6</th>\n",
       "      <td>2</td>\n",
       "      <td>Ranger_TwoCrossbows_NoFeats</td>\n",
       "      <td>10.9700</td>\n",
       "      <td>5.76264</td>\n",
       "      <td>15.77136</td>\n",
       "    </tr>\n",
       "    <tr>\n",
       "      <th>7</th>\n",
       "      <td>2</td>\n",
       "      <td>Ranger_TwoCrossbows_SS_Vanilla</td>\n",
       "      <td>10.9660</td>\n",
       "      <td>5.78020</td>\n",
       "      <td>15.78456</td>\n",
       "    </tr>\n",
       "    <tr>\n",
       "      <th>8</th>\n",
       "      <td>3</td>\n",
       "      <td>Ranger_Archery_NoFeats</td>\n",
       "      <td>8.2662</td>\n",
       "      <td>3.37724</td>\n",
       "      <td>12.14880</td>\n",
       "    </tr>\n",
       "    <tr>\n",
       "      <th>9</th>\n",
       "      <td>3</td>\n",
       "      <td>Ranger_Archery_SS_Vanilla</td>\n",
       "      <td>8.2006</td>\n",
       "      <td>3.39256</td>\n",
       "      <td>12.15432</td>\n",
       "    </tr>\n",
       "    <tr>\n",
       "      <th>10</th>\n",
       "      <td>3</td>\n",
       "      <td>Ranger_TwoCrossbows_NoFeats</td>\n",
       "      <td>10.9816</td>\n",
       "      <td>5.72564</td>\n",
       "      <td>15.74912</td>\n",
       "    </tr>\n",
       "    <tr>\n",
       "      <th>11</th>\n",
       "      <td>3</td>\n",
       "      <td>Ranger_TwoCrossbows_SS_Vanilla</td>\n",
       "      <td>10.9454</td>\n",
       "      <td>5.74848</td>\n",
       "      <td>15.78656</td>\n",
       "    </tr>\n",
       "    <tr>\n",
       "      <th>12</th>\n",
       "      <td>4</td>\n",
       "      <td>Ranger_Archery_NoFeats</td>\n",
       "      <td>8.2660</td>\n",
       "      <td>3.34844</td>\n",
       "      <td>12.18716</td>\n",
       "    </tr>\n",
       "    <tr>\n",
       "      <th>13</th>\n",
       "      <td>4</td>\n",
       "      <td>Ranger_Archery_SS_Vanilla</td>\n",
       "      <td>9.9530</td>\n",
       "      <td>2.07132</td>\n",
       "      <td>19.12276</td>\n",
       "    </tr>\n",
       "    <tr>\n",
       "      <th>14</th>\n",
       "      <td>4</td>\n",
       "      <td>Ranger_TwoCrossbows_NoFeats</td>\n",
       "      <td>10.9828</td>\n",
       "      <td>5.73276</td>\n",
       "      <td>15.81028</td>\n",
       "    </tr>\n",
       "    <tr>\n",
       "      <th>15</th>\n",
       "      <td>4</td>\n",
       "      <td>Ranger_TwoCrossbows_SS_Vanilla</td>\n",
       "      <td>14.7228</td>\n",
       "      <td>4.73048</td>\n",
       "      <td>25.98664</td>\n",
       "    </tr>\n",
       "    <tr>\n",
       "      <th>16</th>\n",
       "      <td>5</td>\n",
       "      <td>Ranger_Archery_NoFeats</td>\n",
       "      <td>15.9972</td>\n",
       "      <td>9.45408</td>\n",
       "      <td>21.87892</td>\n",
       "    </tr>\n",
       "    <tr>\n",
       "      <th>17</th>\n",
       "      <td>5</td>\n",
       "      <td>Ranger_Archery_SS_Vanilla</td>\n",
       "      <td>20.8034</td>\n",
       "      <td>8.52444</td>\n",
       "      <td>33.52428</td>\n",
       "    </tr>\n",
       "    <tr>\n",
       "      <th>18</th>\n",
       "      <td>5</td>\n",
       "      <td>Ranger_TwoCrossbows_NoFeats</td>\n",
       "      <td>16.5378</td>\n",
       "      <td>10.12848</td>\n",
       "      <td>22.39452</td>\n",
       "    </tr>\n",
       "    <tr>\n",
       "      <th>19</th>\n",
       "      <td>5</td>\n",
       "      <td>Ranger_TwoCrossbows_SS_Vanilla</td>\n",
       "      <td>21.9778</td>\n",
       "      <td>9.52324</td>\n",
       "      <td>36.03000</td>\n",
       "    </tr>\n",
       "    <tr>\n",
       "      <th>20</th>\n",
       "      <td>6</td>\n",
       "      <td>Ranger_Archery_NoFeats</td>\n",
       "      <td>16.0254</td>\n",
       "      <td>9.52288</td>\n",
       "      <td>21.90296</td>\n",
       "    </tr>\n",
       "    <tr>\n",
       "      <th>21</th>\n",
       "      <td>6</td>\n",
       "      <td>Ranger_Archery_SS_Vanilla</td>\n",
       "      <td>20.8692</td>\n",
       "      <td>8.65080</td>\n",
       "      <td>33.61064</td>\n",
       "    </tr>\n",
       "    <tr>\n",
       "      <th>22</th>\n",
       "      <td>6</td>\n",
       "      <td>Ranger_TwoCrossbows_NoFeats</td>\n",
       "      <td>16.2918</td>\n",
       "      <td>10.07324</td>\n",
       "      <td>22.27360</td>\n",
       "    </tr>\n",
       "    <tr>\n",
       "      <th>23</th>\n",
       "      <td>6</td>\n",
       "      <td>Ranger_TwoCrossbows_SS_Vanilla</td>\n",
       "      <td>22.0990</td>\n",
       "      <td>9.48632</td>\n",
       "      <td>35.98932</td>\n",
       "    </tr>\n",
       "    <tr>\n",
       "      <th>24</th>\n",
       "      <td>7</td>\n",
       "      <td>Ranger_Archery_NoFeats</td>\n",
       "      <td>16.0148</td>\n",
       "      <td>9.46844</td>\n",
       "      <td>21.91064</td>\n",
       "    </tr>\n",
       "    <tr>\n",
       "      <th>25</th>\n",
       "      <td>7</td>\n",
       "      <td>Ranger_Archery_SS_Vanilla</td>\n",
       "      <td>20.9980</td>\n",
       "      <td>8.78632</td>\n",
       "      <td>33.63812</td>\n",
       "    </tr>\n",
       "    <tr>\n",
       "      <th>26</th>\n",
       "      <td>7</td>\n",
       "      <td>Ranger_TwoCrossbows_NoFeats</td>\n",
       "      <td>16.4146</td>\n",
       "      <td>10.05892</td>\n",
       "      <td>22.34324</td>\n",
       "    </tr>\n",
       "    <tr>\n",
       "      <th>27</th>\n",
       "      <td>7</td>\n",
       "      <td>Ranger_TwoCrossbows_SS_Vanilla</td>\n",
       "      <td>22.0526</td>\n",
       "      <td>9.57112</td>\n",
       "      <td>36.02808</td>\n",
       "    </tr>\n",
       "    <tr>\n",
       "      <th>28</th>\n",
       "      <td>8</td>\n",
       "      <td>Ranger_Archery_NoFeats</td>\n",
       "      <td>15.9864</td>\n",
       "      <td>9.38112</td>\n",
       "      <td>21.90840</td>\n",
       "    </tr>\n",
       "    <tr>\n",
       "      <th>29</th>\n",
       "      <td>8</td>\n",
       "      <td>Ranger_Archery_SS_Vanilla</td>\n",
       "      <td>20.7880</td>\n",
       "      <td>8.52464</td>\n",
       "      <td>33.40372</td>\n",
       "    </tr>\n",
       "    <tr>\n",
       "      <th>30</th>\n",
       "      <td>8</td>\n",
       "      <td>Ranger_TwoCrossbows_NoFeats</td>\n",
       "      <td>16.3910</td>\n",
       "      <td>10.06620</td>\n",
       "      <td>22.33684</td>\n",
       "    </tr>\n",
       "    <tr>\n",
       "      <th>31</th>\n",
       "      <td>8</td>\n",
       "      <td>Ranger_TwoCrossbows_SS_Vanilla</td>\n",
       "      <td>22.2332</td>\n",
       "      <td>9.65220</td>\n",
       "      <td>36.08880</td>\n",
       "    </tr>\n",
       "    <tr>\n",
       "      <th>32</th>\n",
       "      <td>9</td>\n",
       "      <td>Ranger_Archery_NoFeats</td>\n",
       "      <td>16.0362</td>\n",
       "      <td>9.39788</td>\n",
       "      <td>21.88836</td>\n",
       "    </tr>\n",
       "    <tr>\n",
       "      <th>33</th>\n",
       "      <td>9</td>\n",
       "      <td>Ranger_Archery_SS_Vanilla</td>\n",
       "      <td>20.8306</td>\n",
       "      <td>8.72288</td>\n",
       "      <td>33.55560</td>\n",
       "    </tr>\n",
       "    <tr>\n",
       "      <th>34</th>\n",
       "      <td>9</td>\n",
       "      <td>Ranger_TwoCrossbows_NoFeats</td>\n",
       "      <td>16.3594</td>\n",
       "      <td>10.05848</td>\n",
       "      <td>22.27552</td>\n",
       "    </tr>\n",
       "    <tr>\n",
       "      <th>35</th>\n",
       "      <td>9</td>\n",
       "      <td>Ranger_TwoCrossbows_SS_Vanilla</td>\n",
       "      <td>21.8368</td>\n",
       "      <td>9.41296</td>\n",
       "      <td>35.94548</td>\n",
       "    </tr>\n",
       "    <tr>\n",
       "      <th>36</th>\n",
       "      <td>10</td>\n",
       "      <td>Ranger_Archery_NoFeats</td>\n",
       "      <td>15.9682</td>\n",
       "      <td>9.45516</td>\n",
       "      <td>21.91260</td>\n",
       "    </tr>\n",
       "    <tr>\n",
       "      <th>37</th>\n",
       "      <td>10</td>\n",
       "      <td>Ranger_Archery_SS_Vanilla</td>\n",
       "      <td>20.8162</td>\n",
       "      <td>8.75728</td>\n",
       "      <td>33.43340</td>\n",
       "    </tr>\n",
       "    <tr>\n",
       "      <th>38</th>\n",
       "      <td>10</td>\n",
       "      <td>Ranger_TwoCrossbows_NoFeats</td>\n",
       "      <td>16.4108</td>\n",
       "      <td>10.09208</td>\n",
       "      <td>22.35904</td>\n",
       "    </tr>\n",
       "    <tr>\n",
       "      <th>39</th>\n",
       "      <td>10</td>\n",
       "      <td>Ranger_TwoCrossbows_SS_Vanilla</td>\n",
       "      <td>22.0760</td>\n",
       "      <td>9.59808</td>\n",
       "      <td>35.96920</td>\n",
       "    </tr>\n",
       "    <tr>\n",
       "      <th>40</th>\n",
       "      <td>11</td>\n",
       "      <td>Ranger_Archery_NoFeats</td>\n",
       "      <td>15.8710</td>\n",
       "      <td>9.32048</td>\n",
       "      <td>21.82416</td>\n",
       "    </tr>\n",
       "    <tr>\n",
       "      <th>41</th>\n",
       "      <td>11</td>\n",
       "      <td>Ranger_Archery_SS_Vanilla</td>\n",
       "      <td>20.8070</td>\n",
       "      <td>8.47772</td>\n",
       "      <td>33.60740</td>\n",
       "    </tr>\n",
       "    <tr>\n",
       "      <th>42</th>\n",
       "      <td>11</td>\n",
       "      <td>Ranger_TwoCrossbows_NoFeats</td>\n",
       "      <td>16.3638</td>\n",
       "      <td>9.96868</td>\n",
       "      <td>22.29644</td>\n",
       "    </tr>\n",
       "    <tr>\n",
       "      <th>43</th>\n",
       "      <td>11</td>\n",
       "      <td>Ranger_TwoCrossbows_SS_Vanilla</td>\n",
       "      <td>22.0274</td>\n",
       "      <td>9.46592</td>\n",
       "      <td>36.12032</td>\n",
       "    </tr>\n",
       "    <tr>\n",
       "      <th>44</th>\n",
       "      <td>12</td>\n",
       "      <td>Ranger_Archery_NoFeats</td>\n",
       "      <td>16.0346</td>\n",
       "      <td>9.45300</td>\n",
       "      <td>21.90192</td>\n",
       "    </tr>\n",
       "    <tr>\n",
       "      <th>45</th>\n",
       "      <td>12</td>\n",
       "      <td>Ranger_Archery_SS_Vanilla</td>\n",
       "      <td>20.7502</td>\n",
       "      <td>8.59972</td>\n",
       "      <td>33.42060</td>\n",
       "    </tr>\n",
       "    <tr>\n",
       "      <th>46</th>\n",
       "      <td>12</td>\n",
       "      <td>Ranger_TwoCrossbows_NoFeats</td>\n",
       "      <td>16.4316</td>\n",
       "      <td>10.11708</td>\n",
       "      <td>22.37224</td>\n",
       "    </tr>\n",
       "    <tr>\n",
       "      <th>47</th>\n",
       "      <td>12</td>\n",
       "      <td>Ranger_TwoCrossbows_SS_Vanilla</td>\n",
       "      <td>22.2698</td>\n",
       "      <td>9.64772</td>\n",
       "      <td>36.14480</td>\n",
       "    </tr>\n",
       "  </tbody>\n",
       "</table>\n",
       "</div>"
      ]
     },
     "execution_count": 14,
     "metadata": {},
     "output_type": "execute_result"
    }
   ],
   "execution_count": 14
  },
  {
   "metadata": {
    "ExecuteTime": {
     "end_time": "2024-11-13T18:40:39.617839Z",
     "start_time": "2024-11-13T18:40:39.604269Z"
    }
   },
   "cell_type": "code",
   "source": [
    "import plotly.graph_objects as go\n",
    "import plotly.express as px\n",
    "\n",
    "\n",
    "fig = go.Figure()\n",
    "\n",
    "\n",
    "for name_value in df_overall['name'].unique():\n",
    "    df_name = df_overall[df_overall['name'] == name_value]\n",
    "    color = px.colors.qualitative.Set1[df_overall['name'].unique().tolist().index(name_value)]\n",
    "    \n",
    "    # fig.add_trace(go.Scatter(\n",
    "    #     x=df_name['level'],\n",
    "    #     y=df_name['percentile_90_DPR'],\n",
    "    #     mode='lines',\n",
    "    #     name=f'{name_value} DPR 90%',\n",
    "    #     line=dict(color=color, dash='dash')\n",
    "    # ))\n",
    "    # fig.add_trace(go.Scatter(\n",
    "    #     x=df_name['level'],\n",
    "    #     y=df_name['percentile_10_DPR'],\n",
    "    #     mode='lines',\n",
    "    #     name=f'{name_value} DPR 10%',\n",
    "    #     line=dict(color=color, dash='dot')\n",
    "    # ))\n",
    "    fig.add_trace(go.Scatter(\n",
    "        x=df_name['level'],\n",
    "        y=df_name['median_DPR'],\n",
    "        mode='lines',\n",
    "        name=f'{name_value} DPR Median',\n",
    "        line=dict(color=color)\n",
    "    ))\n",
    "\n",
    "fig.show()"
   ],
   "id": "b5f33f81f075f20f",
   "outputs": [
    {
     "data": {
      "application/vnd.plotly.v1+json": {
       "data": [
        {
         "line": {
          "color": "rgb(228,26,28)"
         },
         "mode": "lines",
         "name": "Ranger_Archery_NoFeats DPR Median",
         "x": [
          1,
          2,
          3,
          4,
          5,
          6,
          7,
          8,
          9,
          10,
          11,
          12
         ],
         "y": [
          8.2654,
          8.2056,
          8.2662,
          8.266,
          15.9972,
          16.0254,
          16.0148,
          15.9864,
          16.0362,
          15.9682,
          15.871,
          16.0346
         ],
         "type": "scatter"
        },
        {
         "line": {
          "color": "rgb(55,126,184)"
         },
         "mode": "lines",
         "name": "Ranger_Archery_SS_Vanilla DPR Median",
         "x": [
          1,
          2,
          3,
          4,
          5,
          6,
          7,
          8,
          9,
          10,
          11,
          12
         ],
         "y": [
          8.1968,
          8.2762,
          8.2006,
          9.953,
          20.8034,
          20.8692,
          20.998,
          20.788,
          20.8306,
          20.8162,
          20.807,
          20.7502
         ],
         "type": "scatter"
        },
        {
         "line": {
          "color": "rgb(77,175,74)"
         },
         "mode": "lines",
         "name": "Ranger_TwoCrossbows_NoFeats DPR Median",
         "x": [
          1,
          2,
          3,
          4,
          5,
          6,
          7,
          8,
          9,
          10,
          11,
          12
         ],
         "y": [
          11.0298,
          10.97,
          10.9816,
          10.9828,
          16.5378,
          16.2918,
          16.4146,
          16.391,
          16.3594,
          16.4108,
          16.3638,
          16.4316
         ],
         "type": "scatter"
        },
        {
         "line": {
          "color": "rgb(152,78,163)"
         },
         "mode": "lines",
         "name": "Ranger_TwoCrossbows_SS_Vanilla DPR Median",
         "x": [
          1,
          2,
          3,
          4,
          5,
          6,
          7,
          8,
          9,
          10,
          11,
          12
         ],
         "y": [
          11.0354,
          10.966,
          10.9454,
          14.7228,
          21.9778,
          22.099,
          22.0526,
          22.2332,
          21.8368,
          22.076,
          22.0274,
          22.2698
         ],
         "type": "scatter"
        }
       ],
       "layout": {
        "template": {
         "data": {
          "histogram2dcontour": [
           {
            "type": "histogram2dcontour",
            "colorbar": {
             "outlinewidth": 0,
             "ticks": ""
            },
            "colorscale": [
             [
              0.0,
              "#0d0887"
             ],
             [
              0.1111111111111111,
              "#46039f"
             ],
             [
              0.2222222222222222,
              "#7201a8"
             ],
             [
              0.3333333333333333,
              "#9c179e"
             ],
             [
              0.4444444444444444,
              "#bd3786"
             ],
             [
              0.5555555555555556,
              "#d8576b"
             ],
             [
              0.6666666666666666,
              "#ed7953"
             ],
             [
              0.7777777777777778,
              "#fb9f3a"
             ],
             [
              0.8888888888888888,
              "#fdca26"
             ],
             [
              1.0,
              "#f0f921"
             ]
            ]
           }
          ],
          "choropleth": [
           {
            "type": "choropleth",
            "colorbar": {
             "outlinewidth": 0,
             "ticks": ""
            }
           }
          ],
          "histogram2d": [
           {
            "type": "histogram2d",
            "colorbar": {
             "outlinewidth": 0,
             "ticks": ""
            },
            "colorscale": [
             [
              0.0,
              "#0d0887"
             ],
             [
              0.1111111111111111,
              "#46039f"
             ],
             [
              0.2222222222222222,
              "#7201a8"
             ],
             [
              0.3333333333333333,
              "#9c179e"
             ],
             [
              0.4444444444444444,
              "#bd3786"
             ],
             [
              0.5555555555555556,
              "#d8576b"
             ],
             [
              0.6666666666666666,
              "#ed7953"
             ],
             [
              0.7777777777777778,
              "#fb9f3a"
             ],
             [
              0.8888888888888888,
              "#fdca26"
             ],
             [
              1.0,
              "#f0f921"
             ]
            ]
           }
          ],
          "heatmap": [
           {
            "type": "heatmap",
            "colorbar": {
             "outlinewidth": 0,
             "ticks": ""
            },
            "colorscale": [
             [
              0.0,
              "#0d0887"
             ],
             [
              0.1111111111111111,
              "#46039f"
             ],
             [
              0.2222222222222222,
              "#7201a8"
             ],
             [
              0.3333333333333333,
              "#9c179e"
             ],
             [
              0.4444444444444444,
              "#bd3786"
             ],
             [
              0.5555555555555556,
              "#d8576b"
             ],
             [
              0.6666666666666666,
              "#ed7953"
             ],
             [
              0.7777777777777778,
              "#fb9f3a"
             ],
             [
              0.8888888888888888,
              "#fdca26"
             ],
             [
              1.0,
              "#f0f921"
             ]
            ]
           }
          ],
          "heatmapgl": [
           {
            "type": "heatmapgl",
            "colorbar": {
             "outlinewidth": 0,
             "ticks": ""
            },
            "colorscale": [
             [
              0.0,
              "#0d0887"
             ],
             [
              0.1111111111111111,
              "#46039f"
             ],
             [
              0.2222222222222222,
              "#7201a8"
             ],
             [
              0.3333333333333333,
              "#9c179e"
             ],
             [
              0.4444444444444444,
              "#bd3786"
             ],
             [
              0.5555555555555556,
              "#d8576b"
             ],
             [
              0.6666666666666666,
              "#ed7953"
             ],
             [
              0.7777777777777778,
              "#fb9f3a"
             ],
             [
              0.8888888888888888,
              "#fdca26"
             ],
             [
              1.0,
              "#f0f921"
             ]
            ]
           }
          ],
          "contourcarpet": [
           {
            "type": "contourcarpet",
            "colorbar": {
             "outlinewidth": 0,
             "ticks": ""
            }
           }
          ],
          "contour": [
           {
            "type": "contour",
            "colorbar": {
             "outlinewidth": 0,
             "ticks": ""
            },
            "colorscale": [
             [
              0.0,
              "#0d0887"
             ],
             [
              0.1111111111111111,
              "#46039f"
             ],
             [
              0.2222222222222222,
              "#7201a8"
             ],
             [
              0.3333333333333333,
              "#9c179e"
             ],
             [
              0.4444444444444444,
              "#bd3786"
             ],
             [
              0.5555555555555556,
              "#d8576b"
             ],
             [
              0.6666666666666666,
              "#ed7953"
             ],
             [
              0.7777777777777778,
              "#fb9f3a"
             ],
             [
              0.8888888888888888,
              "#fdca26"
             ],
             [
              1.0,
              "#f0f921"
             ]
            ]
           }
          ],
          "surface": [
           {
            "type": "surface",
            "colorbar": {
             "outlinewidth": 0,
             "ticks": ""
            },
            "colorscale": [
             [
              0.0,
              "#0d0887"
             ],
             [
              0.1111111111111111,
              "#46039f"
             ],
             [
              0.2222222222222222,
              "#7201a8"
             ],
             [
              0.3333333333333333,
              "#9c179e"
             ],
             [
              0.4444444444444444,
              "#bd3786"
             ],
             [
              0.5555555555555556,
              "#d8576b"
             ],
             [
              0.6666666666666666,
              "#ed7953"
             ],
             [
              0.7777777777777778,
              "#fb9f3a"
             ],
             [
              0.8888888888888888,
              "#fdca26"
             ],
             [
              1.0,
              "#f0f921"
             ]
            ]
           }
          ],
          "mesh3d": [
           {
            "type": "mesh3d",
            "colorbar": {
             "outlinewidth": 0,
             "ticks": ""
            }
           }
          ],
          "scatter": [
           {
            "fillpattern": {
             "fillmode": "overlay",
             "size": 10,
             "solidity": 0.2
            },
            "type": "scatter"
           }
          ],
          "parcoords": [
           {
            "type": "parcoords",
            "line": {
             "colorbar": {
              "outlinewidth": 0,
              "ticks": ""
             }
            }
           }
          ],
          "scatterpolargl": [
           {
            "type": "scatterpolargl",
            "marker": {
             "colorbar": {
              "outlinewidth": 0,
              "ticks": ""
             }
            }
           }
          ],
          "bar": [
           {
            "error_x": {
             "color": "#2a3f5f"
            },
            "error_y": {
             "color": "#2a3f5f"
            },
            "marker": {
             "line": {
              "color": "#E5ECF6",
              "width": 0.5
             },
             "pattern": {
              "fillmode": "overlay",
              "size": 10,
              "solidity": 0.2
             }
            },
            "type": "bar"
           }
          ],
          "scattergeo": [
           {
            "type": "scattergeo",
            "marker": {
             "colorbar": {
              "outlinewidth": 0,
              "ticks": ""
             }
            }
           }
          ],
          "scatterpolar": [
           {
            "type": "scatterpolar",
            "marker": {
             "colorbar": {
              "outlinewidth": 0,
              "ticks": ""
             }
            }
           }
          ],
          "histogram": [
           {
            "marker": {
             "pattern": {
              "fillmode": "overlay",
              "size": 10,
              "solidity": 0.2
             }
            },
            "type": "histogram"
           }
          ],
          "scattergl": [
           {
            "type": "scattergl",
            "marker": {
             "colorbar": {
              "outlinewidth": 0,
              "ticks": ""
             }
            }
           }
          ],
          "scatter3d": [
           {
            "type": "scatter3d",
            "line": {
             "colorbar": {
              "outlinewidth": 0,
              "ticks": ""
             }
            },
            "marker": {
             "colorbar": {
              "outlinewidth": 0,
              "ticks": ""
             }
            }
           }
          ],
          "scattermapbox": [
           {
            "type": "scattermapbox",
            "marker": {
             "colorbar": {
              "outlinewidth": 0,
              "ticks": ""
             }
            }
           }
          ],
          "scatterternary": [
           {
            "type": "scatterternary",
            "marker": {
             "colorbar": {
              "outlinewidth": 0,
              "ticks": ""
             }
            }
           }
          ],
          "scattercarpet": [
           {
            "type": "scattercarpet",
            "marker": {
             "colorbar": {
              "outlinewidth": 0,
              "ticks": ""
             }
            }
           }
          ],
          "carpet": [
           {
            "aaxis": {
             "endlinecolor": "#2a3f5f",
             "gridcolor": "white",
             "linecolor": "white",
             "minorgridcolor": "white",
             "startlinecolor": "#2a3f5f"
            },
            "baxis": {
             "endlinecolor": "#2a3f5f",
             "gridcolor": "white",
             "linecolor": "white",
             "minorgridcolor": "white",
             "startlinecolor": "#2a3f5f"
            },
            "type": "carpet"
           }
          ],
          "table": [
           {
            "cells": {
             "fill": {
              "color": "#EBF0F8"
             },
             "line": {
              "color": "white"
             }
            },
            "header": {
             "fill": {
              "color": "#C8D4E3"
             },
             "line": {
              "color": "white"
             }
            },
            "type": "table"
           }
          ],
          "barpolar": [
           {
            "marker": {
             "line": {
              "color": "#E5ECF6",
              "width": 0.5
             },
             "pattern": {
              "fillmode": "overlay",
              "size": 10,
              "solidity": 0.2
             }
            },
            "type": "barpolar"
           }
          ],
          "pie": [
           {
            "automargin": true,
            "type": "pie"
           }
          ]
         },
         "layout": {
          "autotypenumbers": "strict",
          "colorway": [
           "#636efa",
           "#EF553B",
           "#00cc96",
           "#ab63fa",
           "#FFA15A",
           "#19d3f3",
           "#FF6692",
           "#B6E880",
           "#FF97FF",
           "#FECB52"
          ],
          "font": {
           "color": "#2a3f5f"
          },
          "hovermode": "closest",
          "hoverlabel": {
           "align": "left"
          },
          "paper_bgcolor": "white",
          "plot_bgcolor": "#E5ECF6",
          "polar": {
           "bgcolor": "#E5ECF6",
           "angularaxis": {
            "gridcolor": "white",
            "linecolor": "white",
            "ticks": ""
           },
           "radialaxis": {
            "gridcolor": "white",
            "linecolor": "white",
            "ticks": ""
           }
          },
          "ternary": {
           "bgcolor": "#E5ECF6",
           "aaxis": {
            "gridcolor": "white",
            "linecolor": "white",
            "ticks": ""
           },
           "baxis": {
            "gridcolor": "white",
            "linecolor": "white",
            "ticks": ""
           },
           "caxis": {
            "gridcolor": "white",
            "linecolor": "white",
            "ticks": ""
           }
          },
          "coloraxis": {
           "colorbar": {
            "outlinewidth": 0,
            "ticks": ""
           }
          },
          "colorscale": {
           "sequential": [
            [
             0.0,
             "#0d0887"
            ],
            [
             0.1111111111111111,
             "#46039f"
            ],
            [
             0.2222222222222222,
             "#7201a8"
            ],
            [
             0.3333333333333333,
             "#9c179e"
            ],
            [
             0.4444444444444444,
             "#bd3786"
            ],
            [
             0.5555555555555556,
             "#d8576b"
            ],
            [
             0.6666666666666666,
             "#ed7953"
            ],
            [
             0.7777777777777778,
             "#fb9f3a"
            ],
            [
             0.8888888888888888,
             "#fdca26"
            ],
            [
             1.0,
             "#f0f921"
            ]
           ],
           "sequentialminus": [
            [
             0.0,
             "#0d0887"
            ],
            [
             0.1111111111111111,
             "#46039f"
            ],
            [
             0.2222222222222222,
             "#7201a8"
            ],
            [
             0.3333333333333333,
             "#9c179e"
            ],
            [
             0.4444444444444444,
             "#bd3786"
            ],
            [
             0.5555555555555556,
             "#d8576b"
            ],
            [
             0.6666666666666666,
             "#ed7953"
            ],
            [
             0.7777777777777778,
             "#fb9f3a"
            ],
            [
             0.8888888888888888,
             "#fdca26"
            ],
            [
             1.0,
             "#f0f921"
            ]
           ],
           "diverging": [
            [
             0,
             "#8e0152"
            ],
            [
             0.1,
             "#c51b7d"
            ],
            [
             0.2,
             "#de77ae"
            ],
            [
             0.3,
             "#f1b6da"
            ],
            [
             0.4,
             "#fde0ef"
            ],
            [
             0.5,
             "#f7f7f7"
            ],
            [
             0.6,
             "#e6f5d0"
            ],
            [
             0.7,
             "#b8e186"
            ],
            [
             0.8,
             "#7fbc41"
            ],
            [
             0.9,
             "#4d9221"
            ],
            [
             1,
             "#276419"
            ]
           ]
          },
          "xaxis": {
           "gridcolor": "white",
           "linecolor": "white",
           "ticks": "",
           "title": {
            "standoff": 15
           },
           "zerolinecolor": "white",
           "automargin": true,
           "zerolinewidth": 2
          },
          "yaxis": {
           "gridcolor": "white",
           "linecolor": "white",
           "ticks": "",
           "title": {
            "standoff": 15
           },
           "zerolinecolor": "white",
           "automargin": true,
           "zerolinewidth": 2
          },
          "scene": {
           "xaxis": {
            "backgroundcolor": "#E5ECF6",
            "gridcolor": "white",
            "linecolor": "white",
            "showbackground": true,
            "ticks": "",
            "zerolinecolor": "white",
            "gridwidth": 2
           },
           "yaxis": {
            "backgroundcolor": "#E5ECF6",
            "gridcolor": "white",
            "linecolor": "white",
            "showbackground": true,
            "ticks": "",
            "zerolinecolor": "white",
            "gridwidth": 2
           },
           "zaxis": {
            "backgroundcolor": "#E5ECF6",
            "gridcolor": "white",
            "linecolor": "white",
            "showbackground": true,
            "ticks": "",
            "zerolinecolor": "white",
            "gridwidth": 2
           }
          },
          "shapedefaults": {
           "line": {
            "color": "#2a3f5f"
           }
          },
          "annotationdefaults": {
           "arrowcolor": "#2a3f5f",
           "arrowhead": 0,
           "arrowwidth": 1
          },
          "geo": {
           "bgcolor": "white",
           "landcolor": "#E5ECF6",
           "subunitcolor": "white",
           "showland": true,
           "showlakes": true,
           "lakecolor": "white"
          },
          "title": {
           "x": 0.05
          },
          "mapbox": {
           "style": "light"
          }
         }
        }
       },
       "config": {
        "plotlyServerURL": "https://plot.ly"
       }
      },
      "text/html": [
       "<div>                            <div id=\"b636e045-80dc-419f-9822-14ae598a4c21\" class=\"plotly-graph-div\" style=\"height:525px; width:100%;\"></div>            <script type=\"text/javascript\">                require([\"plotly\"], function(Plotly) {                    window.PLOTLYENV=window.PLOTLYENV || {};                                    if (document.getElementById(\"b636e045-80dc-419f-9822-14ae598a4c21\")) {                    Plotly.newPlot(                        \"b636e045-80dc-419f-9822-14ae598a4c21\",                        [{\"line\":{\"color\":\"rgb(228,26,28)\"},\"mode\":\"lines\",\"name\":\"Ranger_Archery_NoFeats DPR Median\",\"x\":[1,2,3,4,5,6,7,8,9,10,11,12],\"y\":[8.2654,8.2056,8.2662,8.266,15.9972,16.0254,16.0148,15.9864,16.0362,15.9682,15.871,16.0346],\"type\":\"scatter\"},{\"line\":{\"color\":\"rgb(55,126,184)\"},\"mode\":\"lines\",\"name\":\"Ranger_Archery_SS_Vanilla DPR Median\",\"x\":[1,2,3,4,5,6,7,8,9,10,11,12],\"y\":[8.1968,8.2762,8.2006,9.953,20.8034,20.8692,20.998,20.788,20.8306,20.8162,20.807,20.7502],\"type\":\"scatter\"},{\"line\":{\"color\":\"rgb(77,175,74)\"},\"mode\":\"lines\",\"name\":\"Ranger_TwoCrossbows_NoFeats DPR Median\",\"x\":[1,2,3,4,5,6,7,8,9,10,11,12],\"y\":[11.0298,10.97,10.9816,10.9828,16.5378,16.2918,16.4146,16.391,16.3594,16.4108,16.3638,16.4316],\"type\":\"scatter\"},{\"line\":{\"color\":\"rgb(152,78,163)\"},\"mode\":\"lines\",\"name\":\"Ranger_TwoCrossbows_SS_Vanilla DPR Median\",\"x\":[1,2,3,4,5,6,7,8,9,10,11,12],\"y\":[11.0354,10.966,10.9454,14.7228,21.9778,22.099,22.0526,22.2332,21.8368,22.076,22.0274,22.2698],\"type\":\"scatter\"}],                        {\"template\":{\"data\":{\"histogram2dcontour\":[{\"type\":\"histogram2dcontour\",\"colorbar\":{\"outlinewidth\":0,\"ticks\":\"\"},\"colorscale\":[[0.0,\"#0d0887\"],[0.1111111111111111,\"#46039f\"],[0.2222222222222222,\"#7201a8\"],[0.3333333333333333,\"#9c179e\"],[0.4444444444444444,\"#bd3786\"],[0.5555555555555556,\"#d8576b\"],[0.6666666666666666,\"#ed7953\"],[0.7777777777777778,\"#fb9f3a\"],[0.8888888888888888,\"#fdca26\"],[1.0,\"#f0f921\"]]}],\"choropleth\":[{\"type\":\"choropleth\",\"colorbar\":{\"outlinewidth\":0,\"ticks\":\"\"}}],\"histogram2d\":[{\"type\":\"histogram2d\",\"colorbar\":{\"outlinewidth\":0,\"ticks\":\"\"},\"colorscale\":[[0.0,\"#0d0887\"],[0.1111111111111111,\"#46039f\"],[0.2222222222222222,\"#7201a8\"],[0.3333333333333333,\"#9c179e\"],[0.4444444444444444,\"#bd3786\"],[0.5555555555555556,\"#d8576b\"],[0.6666666666666666,\"#ed7953\"],[0.7777777777777778,\"#fb9f3a\"],[0.8888888888888888,\"#fdca26\"],[1.0,\"#f0f921\"]]}],\"heatmap\":[{\"type\":\"heatmap\",\"colorbar\":{\"outlinewidth\":0,\"ticks\":\"\"},\"colorscale\":[[0.0,\"#0d0887\"],[0.1111111111111111,\"#46039f\"],[0.2222222222222222,\"#7201a8\"],[0.3333333333333333,\"#9c179e\"],[0.4444444444444444,\"#bd3786\"],[0.5555555555555556,\"#d8576b\"],[0.6666666666666666,\"#ed7953\"],[0.7777777777777778,\"#fb9f3a\"],[0.8888888888888888,\"#fdca26\"],[1.0,\"#f0f921\"]]}],\"heatmapgl\":[{\"type\":\"heatmapgl\",\"colorbar\":{\"outlinewidth\":0,\"ticks\":\"\"},\"colorscale\":[[0.0,\"#0d0887\"],[0.1111111111111111,\"#46039f\"],[0.2222222222222222,\"#7201a8\"],[0.3333333333333333,\"#9c179e\"],[0.4444444444444444,\"#bd3786\"],[0.5555555555555556,\"#d8576b\"],[0.6666666666666666,\"#ed7953\"],[0.7777777777777778,\"#fb9f3a\"],[0.8888888888888888,\"#fdca26\"],[1.0,\"#f0f921\"]]}],\"contourcarpet\":[{\"type\":\"contourcarpet\",\"colorbar\":{\"outlinewidth\":0,\"ticks\":\"\"}}],\"contour\":[{\"type\":\"contour\",\"colorbar\":{\"outlinewidth\":0,\"ticks\":\"\"},\"colorscale\":[[0.0,\"#0d0887\"],[0.1111111111111111,\"#46039f\"],[0.2222222222222222,\"#7201a8\"],[0.3333333333333333,\"#9c179e\"],[0.4444444444444444,\"#bd3786\"],[0.5555555555555556,\"#d8576b\"],[0.6666666666666666,\"#ed7953\"],[0.7777777777777778,\"#fb9f3a\"],[0.8888888888888888,\"#fdca26\"],[1.0,\"#f0f921\"]]}],\"surface\":[{\"type\":\"surface\",\"colorbar\":{\"outlinewidth\":0,\"ticks\":\"\"},\"colorscale\":[[0.0,\"#0d0887\"],[0.1111111111111111,\"#46039f\"],[0.2222222222222222,\"#7201a8\"],[0.3333333333333333,\"#9c179e\"],[0.4444444444444444,\"#bd3786\"],[0.5555555555555556,\"#d8576b\"],[0.6666666666666666,\"#ed7953\"],[0.7777777777777778,\"#fb9f3a\"],[0.8888888888888888,\"#fdca26\"],[1.0,\"#f0f921\"]]}],\"mesh3d\":[{\"type\":\"mesh3d\",\"colorbar\":{\"outlinewidth\":0,\"ticks\":\"\"}}],\"scatter\":[{\"fillpattern\":{\"fillmode\":\"overlay\",\"size\":10,\"solidity\":0.2},\"type\":\"scatter\"}],\"parcoords\":[{\"type\":\"parcoords\",\"line\":{\"colorbar\":{\"outlinewidth\":0,\"ticks\":\"\"}}}],\"scatterpolargl\":[{\"type\":\"scatterpolargl\",\"marker\":{\"colorbar\":{\"outlinewidth\":0,\"ticks\":\"\"}}}],\"bar\":[{\"error_x\":{\"color\":\"#2a3f5f\"},\"error_y\":{\"color\":\"#2a3f5f\"},\"marker\":{\"line\":{\"color\":\"#E5ECF6\",\"width\":0.5},\"pattern\":{\"fillmode\":\"overlay\",\"size\":10,\"solidity\":0.2}},\"type\":\"bar\"}],\"scattergeo\":[{\"type\":\"scattergeo\",\"marker\":{\"colorbar\":{\"outlinewidth\":0,\"ticks\":\"\"}}}],\"scatterpolar\":[{\"type\":\"scatterpolar\",\"marker\":{\"colorbar\":{\"outlinewidth\":0,\"ticks\":\"\"}}}],\"histogram\":[{\"marker\":{\"pattern\":{\"fillmode\":\"overlay\",\"size\":10,\"solidity\":0.2}},\"type\":\"histogram\"}],\"scattergl\":[{\"type\":\"scattergl\",\"marker\":{\"colorbar\":{\"outlinewidth\":0,\"ticks\":\"\"}}}],\"scatter3d\":[{\"type\":\"scatter3d\",\"line\":{\"colorbar\":{\"outlinewidth\":0,\"ticks\":\"\"}},\"marker\":{\"colorbar\":{\"outlinewidth\":0,\"ticks\":\"\"}}}],\"scattermapbox\":[{\"type\":\"scattermapbox\",\"marker\":{\"colorbar\":{\"outlinewidth\":0,\"ticks\":\"\"}}}],\"scatterternary\":[{\"type\":\"scatterternary\",\"marker\":{\"colorbar\":{\"outlinewidth\":0,\"ticks\":\"\"}}}],\"scattercarpet\":[{\"type\":\"scattercarpet\",\"marker\":{\"colorbar\":{\"outlinewidth\":0,\"ticks\":\"\"}}}],\"carpet\":[{\"aaxis\":{\"endlinecolor\":\"#2a3f5f\",\"gridcolor\":\"white\",\"linecolor\":\"white\",\"minorgridcolor\":\"white\",\"startlinecolor\":\"#2a3f5f\"},\"baxis\":{\"endlinecolor\":\"#2a3f5f\",\"gridcolor\":\"white\",\"linecolor\":\"white\",\"minorgridcolor\":\"white\",\"startlinecolor\":\"#2a3f5f\"},\"type\":\"carpet\"}],\"table\":[{\"cells\":{\"fill\":{\"color\":\"#EBF0F8\"},\"line\":{\"color\":\"white\"}},\"header\":{\"fill\":{\"color\":\"#C8D4E3\"},\"line\":{\"color\":\"white\"}},\"type\":\"table\"}],\"barpolar\":[{\"marker\":{\"line\":{\"color\":\"#E5ECF6\",\"width\":0.5},\"pattern\":{\"fillmode\":\"overlay\",\"size\":10,\"solidity\":0.2}},\"type\":\"barpolar\"}],\"pie\":[{\"automargin\":true,\"type\":\"pie\"}]},\"layout\":{\"autotypenumbers\":\"strict\",\"colorway\":[\"#636efa\",\"#EF553B\",\"#00cc96\",\"#ab63fa\",\"#FFA15A\",\"#19d3f3\",\"#FF6692\",\"#B6E880\",\"#FF97FF\",\"#FECB52\"],\"font\":{\"color\":\"#2a3f5f\"},\"hovermode\":\"closest\",\"hoverlabel\":{\"align\":\"left\"},\"paper_bgcolor\":\"white\",\"plot_bgcolor\":\"#E5ECF6\",\"polar\":{\"bgcolor\":\"#E5ECF6\",\"angularaxis\":{\"gridcolor\":\"white\",\"linecolor\":\"white\",\"ticks\":\"\"},\"radialaxis\":{\"gridcolor\":\"white\",\"linecolor\":\"white\",\"ticks\":\"\"}},\"ternary\":{\"bgcolor\":\"#E5ECF6\",\"aaxis\":{\"gridcolor\":\"white\",\"linecolor\":\"white\",\"ticks\":\"\"},\"baxis\":{\"gridcolor\":\"white\",\"linecolor\":\"white\",\"ticks\":\"\"},\"caxis\":{\"gridcolor\":\"white\",\"linecolor\":\"white\",\"ticks\":\"\"}},\"coloraxis\":{\"colorbar\":{\"outlinewidth\":0,\"ticks\":\"\"}},\"colorscale\":{\"sequential\":[[0.0,\"#0d0887\"],[0.1111111111111111,\"#46039f\"],[0.2222222222222222,\"#7201a8\"],[0.3333333333333333,\"#9c179e\"],[0.4444444444444444,\"#bd3786\"],[0.5555555555555556,\"#d8576b\"],[0.6666666666666666,\"#ed7953\"],[0.7777777777777778,\"#fb9f3a\"],[0.8888888888888888,\"#fdca26\"],[1.0,\"#f0f921\"]],\"sequentialminus\":[[0.0,\"#0d0887\"],[0.1111111111111111,\"#46039f\"],[0.2222222222222222,\"#7201a8\"],[0.3333333333333333,\"#9c179e\"],[0.4444444444444444,\"#bd3786\"],[0.5555555555555556,\"#d8576b\"],[0.6666666666666666,\"#ed7953\"],[0.7777777777777778,\"#fb9f3a\"],[0.8888888888888888,\"#fdca26\"],[1.0,\"#f0f921\"]],\"diverging\":[[0,\"#8e0152\"],[0.1,\"#c51b7d\"],[0.2,\"#de77ae\"],[0.3,\"#f1b6da\"],[0.4,\"#fde0ef\"],[0.5,\"#f7f7f7\"],[0.6,\"#e6f5d0\"],[0.7,\"#b8e186\"],[0.8,\"#7fbc41\"],[0.9,\"#4d9221\"],[1,\"#276419\"]]},\"xaxis\":{\"gridcolor\":\"white\",\"linecolor\":\"white\",\"ticks\":\"\",\"title\":{\"standoff\":15},\"zerolinecolor\":\"white\",\"automargin\":true,\"zerolinewidth\":2},\"yaxis\":{\"gridcolor\":\"white\",\"linecolor\":\"white\",\"ticks\":\"\",\"title\":{\"standoff\":15},\"zerolinecolor\":\"white\",\"automargin\":true,\"zerolinewidth\":2},\"scene\":{\"xaxis\":{\"backgroundcolor\":\"#E5ECF6\",\"gridcolor\":\"white\",\"linecolor\":\"white\",\"showbackground\":true,\"ticks\":\"\",\"zerolinecolor\":\"white\",\"gridwidth\":2},\"yaxis\":{\"backgroundcolor\":\"#E5ECF6\",\"gridcolor\":\"white\",\"linecolor\":\"white\",\"showbackground\":true,\"ticks\":\"\",\"zerolinecolor\":\"white\",\"gridwidth\":2},\"zaxis\":{\"backgroundcolor\":\"#E5ECF6\",\"gridcolor\":\"white\",\"linecolor\":\"white\",\"showbackground\":true,\"ticks\":\"\",\"zerolinecolor\":\"white\",\"gridwidth\":2}},\"shapedefaults\":{\"line\":{\"color\":\"#2a3f5f\"}},\"annotationdefaults\":{\"arrowcolor\":\"#2a3f5f\",\"arrowhead\":0,\"arrowwidth\":1},\"geo\":{\"bgcolor\":\"white\",\"landcolor\":\"#E5ECF6\",\"subunitcolor\":\"white\",\"showland\":true,\"showlakes\":true,\"lakecolor\":\"white\"},\"title\":{\"x\":0.05},\"mapbox\":{\"style\":\"light\"}}}},                        {\"responsive\": true}                    ).then(function(){\n",
       "                            \n",
       "var gd = document.getElementById('b636e045-80dc-419f-9822-14ae598a4c21');\n",
       "var x = new MutationObserver(function (mutations, observer) {{\n",
       "        var display = window.getComputedStyle(gd).display;\n",
       "        if (!display || display === 'none') {{\n",
       "            console.log([gd, 'removed!']);\n",
       "            Plotly.purge(gd);\n",
       "            observer.disconnect();\n",
       "        }}\n",
       "}});\n",
       "\n",
       "// Listen for the removal of the full notebook cells\n",
       "var notebookContainer = gd.closest('#notebook-container');\n",
       "if (notebookContainer) {{\n",
       "    x.observe(notebookContainer, {childList: true});\n",
       "}}\n",
       "\n",
       "// Listen for the clearing of the current output cell\n",
       "var outputEl = gd.closest('.output');\n",
       "if (outputEl) {{\n",
       "    x.observe(outputEl, {childList: true});\n",
       "}}\n",
       "\n",
       "                        })                };                });            </script>        </div>"
      ]
     },
     "metadata": {},
     "output_type": "display_data"
    }
   ],
   "execution_count": 15
  }
 ],
 "metadata": {
  "kernelspec": {
   "display_name": "Python 3",
   "language": "python",
   "name": "python3"
  },
  "language_info": {
   "codemirror_mode": {
    "name": "ipython",
    "version": 2
   },
   "file_extension": ".py",
   "mimetype": "text/x-python",
   "name": "python",
   "nbconvert_exporter": "python",
   "pygments_lexer": "ipython2",
   "version": "2.7.6"
  }
 },
 "nbformat": 4,
 "nbformat_minor": 5
}
