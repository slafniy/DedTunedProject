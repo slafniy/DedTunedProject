{
 "cells": [
  {
   "cell_type": "code",
   "id": "b461bd86dcf4c0a4",
   "metadata": {
    "ExecuteTime": {
     "end_time": "2024-11-15T08:48:10.340066Z",
     "start_time": "2024-11-15T08:47:09.759614Z"
    }
   },
   "source": [
    "import logging\n",
    "\n",
    "from character import Character, logger, Passive\n",
    "import weapon as wpn\n",
    "from data_processing import get_plot\n",
    "from simulator import simulate_combat\n",
    "\n",
    "logger.stream_handler.setLevel(logging.INFO)\n",
    "logger.file_handler.setLevel(logging.INFO)\n",
    "\n",
    "extra_attack_progression = {\n",
    "    5: {Passive.PASSIVE_EXTRA_ATTACK}\n",
    "}\n",
    "\n",
    "specs = [\n",
    "    # Character(\"2H sword\", weapon_main=wpn.TWO_HANDED_SWORD_0),\n",
    "    # Character(\"2H sword + EA\", weapon_main=wpn.TWO_HANDED_SWORD_0, passives_progression=extra_attack_progression),\n",
    "    # Character(\"2H sword + EA + GWF\", weapon_main=wpn.TWO_HANDED_SWORD_0,\n",
    "    #           passives_progression={\n",
    "    #               1: {Passive.FIGHTING_STYLE_GREAT_WEAPON_FIGHTING},\n",
    "    #               5: {Passive.PASSIVE_EXTRA_ATTACK}\n",
    "    #           }),\n",
    "    Character(\"Fighter Big Sword + GWM\", weapon_main=wpn.TWO_HANDED_SWORD_1,\n",
    "              passives_progression={\n",
    "                  1: {Passive.FIGHTING_STYLE_GREAT_WEAPON_FIGHTING},\n",
    "                  4: {Passive.FEAT_GREAT_WEAPON_MASTER_VANILLA},\n",
    "                  5: {Passive.PASSIVE_EXTRA_ATTACK},\n",
    "                  11: {Passive.PASSIVE_SECOND_EXTRA_ATTACK}\n",
    "              }),\n",
    "    # Character(\"Fighter Big Axe + GWM\", weapon_main=wpn.TWO_HANDED_AXE_1,\n",
    "    #           passives_progression={\n",
    "    #               1: {Passive.FIGHTING_STYLE_GREAT_WEAPON_FIGHTING},\n",
    "    #               4: {Passive.FEAT_GREAT_WEAPON_MASTER_VANILLA},\n",
    "    #               5: {Passive.PASSIVE_EXTRA_ATTACK},\n",
    "    #               11: {Passive.PASSIVE_SECOND_EXTRA_ATTACK}\n",
    "    #           }),\n",
    "    # Character(\"Fighter Duals + OEA\", weapon_main=wpn.SHORT_SWORD_1, weapon_offhand=wpn.SHORT_SWORD_1,\n",
    "    #           passives_progression={\n",
    "    #               1: {Passive.FIGHTING_STYLE_TWO_WEAPON_FIGHTING},\n",
    "    #               4: {Passive.FEAT_EXTRA_OFFHAND_ATTACK},\n",
    "    #               5: {Passive.PASSIVE_EXTRA_ATTACK},\n",
    "    #               11: {Passive.PASSIVE_SECOND_EXTRA_ATTACK}\n",
    "    #           }),\n",
    "    # Character(\"Barbarian Big Axe + GWM\", weapon_main=wpn.TWO_HANDED_AXE_1,\n",
    "    #           passives_progression={\n",
    "    #               2: {Passive.PASSIVE_RECKLESS_ATTACK},\n",
    "    #               4: {Passive.FEAT_GREAT_WEAPON_MASTER_VANILLA},\n",
    "    #               5: {Passive.PASSIVE_EXTRA_ATTACK}}),\n",
    "    # Character(\"Barbarian Big Sword + GWM\", weapon_main=wpn.TWO_HANDED_SWORD_1,\n",
    "    #           passives_progression={\n",
    "    #               2: {Passive.PASSIVE_RECKLESS_ATTACK},\n",
    "    #               4: {Passive.FEAT_GREAT_WEAPON_MASTER_VANILLA},\n",
    "    #               5: {Passive.PASSIVE_EXTRA_ATTACK}})\n",
    "\n",
    "    # Character(\"ShortSword\", weapon_main=wpn.SHORT_SWORD_0),\n",
    "    # Character(\"ShortSword + EA\", weapon_main=wpn.SHORT_SWORD_0, passives_progression=extra_attack_progression),\n",
    "\n",
    "    # Character(\"x2 ShortSword\", weapon_main=wpn.SHORT_SWORD_0, weapon_offhand=wpn.SHORT_SWORD_0),\n",
    "    # Character(\"x2 ShortSword + EA\", weapon_main=wpn.SHORT_SWORD_0, weapon_offhand=wpn.SHORT_SWORD_0,\n",
    "    #           passives_progression=extra_attack_progression),\n",
    "    # Character(\"x2 ShortSword + EA + OEA\", weapon_main=wpn.SHORT_SWORD_0, weapon_offhand=wpn.SHORT_SWORD_0,\n",
    "    #           passives_progression={4: {Passive.FEAT_EXTRA_OFFHAND_ATTACK},\n",
    "    #                                 5: {Passive.PASSIVE_EXTRA_ATTACK}\n",
    "    #                                 }),\n",
    "    # Character(\"x2 ShortSword + EA + OEA + 2WF\", weapon_main=wpn.SHORT_SWORD_0, weapon_offhand=wpn.SHORT_SWORD_0,\n",
    "    #           passives_progression={\n",
    "    #               1: {Passive.FIGHTING_STYLE_TWO_WEAPON_FIGHTING},\n",
    "    #               4: {Passive.FEAT_EXTRA_OFFHAND_ATTACK},\n",
    "    #               5: {Passive.PASSIVE_EXTRA_ATTACK}}),\n",
    "    # # Character(\"x2 ShortSword + 2WF\", weapon_main=wpn.SHORT_SWORD_0, weapon_offhand=wpn.SHORT_SWORD_0,\n",
    "    # #           passives_progression={1: {Passive.FIGHTING_STYLE_TWO_WEAPON_FIGHTING}})\n",
    "    # Character(\"2H Crossbow + ARCH + EA + SS\",\n",
    "    #                passives_progression={1: {Passive.FIGHTING_STYLE_ARCHERY},\n",
    "    #                                      4: {Passive.FEAT_SHARPSHOOTER_VANILLA},\n",
    "    #                                      5: {Passive.PASSIVE_EXTRA_ATTACK}},\n",
    "    #                weapon_main=wpn.HEAVY_CROSSBOW_1),\n",
    "    # Character(\"x2 HandCrossbow + 2WF + EA\", weapon_main=wpn.HAND_CROSSBOW_1, weapon_offhand=wpn.HAND_CROSSBOW_1,\n",
    "    #           passives_progression={\n",
    "    #               1: {Passive.FIGHTING_STYLE_TWO_WEAPON_FIGHTING},\n",
    "    #               5: {Passive.PASSIVE_EXTRA_ATTACK}\n",
    "    #           })\n",
    "]\n",
    "df_overall = simulate_combat(\n",
    "    specs,\n",
    "    target_ac_list=(16,),\n",
    "    iterations=3000\n",
    ")\n",
    "\n",
    "df_5_8_11 = df_overall[df_overall['level'].isin([5, 8, 11])]\n",
    "df_5_8_11"
   ],
   "outputs": [
    {
     "data": {
      "text/plain": [
       "    level                       name  target_ac   mean_DPR\n",
       "20      5    Barbarian Big Axe + GWM         16  27.356533\n",
       "21      5  Barbarian Big Sword + GWM         16  27.870933\n",
       "22      5      Fighter Big Axe + GWM         16  16.285267\n",
       "23      5    Fighter Big Sword + GWM         16  17.335933\n",
       "24      5        Fighter Duals + OEA         16  18.622067\n",
       "35      8    Barbarian Big Axe + GWM         16  31.814933\n",
       "36      8  Barbarian Big Sword + GWM         16  32.354733\n",
       "37      8      Fighter Big Axe + GWM         16  19.360667\n",
       "38      8    Fighter Big Sword + GWM         16  20.755800\n",
       "39      8        Fighter Duals + OEA         16  22.953200\n",
       "50     11    Barbarian Big Axe + GWM         16  38.268867\n",
       "51     11  Barbarian Big Sword + GWM         16  39.228467\n",
       "52     11      Fighter Big Axe + GWM         16  37.855400\n",
       "53     11    Fighter Big Sword + GWM         16  39.480467\n",
       "54     11        Fighter Duals + OEA         16  36.434467"
      ],
      "text/html": [
       "<div>\n",
       "<style scoped>\n",
       "    .dataframe tbody tr th:only-of-type {\n",
       "        vertical-align: middle;\n",
       "    }\n",
       "\n",
       "    .dataframe tbody tr th {\n",
       "        vertical-align: top;\n",
       "    }\n",
       "\n",
       "    .dataframe thead th {\n",
       "        text-align: right;\n",
       "    }\n",
       "</style>\n",
       "<table border=\"1\" class=\"dataframe\">\n",
       "  <thead>\n",
       "    <tr style=\"text-align: right;\">\n",
       "      <th></th>\n",
       "      <th>level</th>\n",
       "      <th>name</th>\n",
       "      <th>target_ac</th>\n",
       "      <th>mean_DPR</th>\n",
       "    </tr>\n",
       "  </thead>\n",
       "  <tbody>\n",
       "    <tr>\n",
       "      <th>20</th>\n",
       "      <td>5</td>\n",
       "      <td>Barbarian Big Axe + GWM</td>\n",
       "      <td>16</td>\n",
       "      <td>27.356533</td>\n",
       "    </tr>\n",
       "    <tr>\n",
       "      <th>21</th>\n",
       "      <td>5</td>\n",
       "      <td>Barbarian Big Sword + GWM</td>\n",
       "      <td>16</td>\n",
       "      <td>27.870933</td>\n",
       "    </tr>\n",
       "    <tr>\n",
       "      <th>22</th>\n",
       "      <td>5</td>\n",
       "      <td>Fighter Big Axe + GWM</td>\n",
       "      <td>16</td>\n",
       "      <td>16.285267</td>\n",
       "    </tr>\n",
       "    <tr>\n",
       "      <th>23</th>\n",
       "      <td>5</td>\n",
       "      <td>Fighter Big Sword + GWM</td>\n",
       "      <td>16</td>\n",
       "      <td>17.335933</td>\n",
       "    </tr>\n",
       "    <tr>\n",
       "      <th>24</th>\n",
       "      <td>5</td>\n",
       "      <td>Fighter Duals + OEA</td>\n",
       "      <td>16</td>\n",
       "      <td>18.622067</td>\n",
       "    </tr>\n",
       "    <tr>\n",
       "      <th>35</th>\n",
       "      <td>8</td>\n",
       "      <td>Barbarian Big Axe + GWM</td>\n",
       "      <td>16</td>\n",
       "      <td>31.814933</td>\n",
       "    </tr>\n",
       "    <tr>\n",
       "      <th>36</th>\n",
       "      <td>8</td>\n",
       "      <td>Barbarian Big Sword + GWM</td>\n",
       "      <td>16</td>\n",
       "      <td>32.354733</td>\n",
       "    </tr>\n",
       "    <tr>\n",
       "      <th>37</th>\n",
       "      <td>8</td>\n",
       "      <td>Fighter Big Axe + GWM</td>\n",
       "      <td>16</td>\n",
       "      <td>19.360667</td>\n",
       "    </tr>\n",
       "    <tr>\n",
       "      <th>38</th>\n",
       "      <td>8</td>\n",
       "      <td>Fighter Big Sword + GWM</td>\n",
       "      <td>16</td>\n",
       "      <td>20.755800</td>\n",
       "    </tr>\n",
       "    <tr>\n",
       "      <th>39</th>\n",
       "      <td>8</td>\n",
       "      <td>Fighter Duals + OEA</td>\n",
       "      <td>16</td>\n",
       "      <td>22.953200</td>\n",
       "    </tr>\n",
       "    <tr>\n",
       "      <th>50</th>\n",
       "      <td>11</td>\n",
       "      <td>Barbarian Big Axe + GWM</td>\n",
       "      <td>16</td>\n",
       "      <td>38.268867</td>\n",
       "    </tr>\n",
       "    <tr>\n",
       "      <th>51</th>\n",
       "      <td>11</td>\n",
       "      <td>Barbarian Big Sword + GWM</td>\n",
       "      <td>16</td>\n",
       "      <td>39.228467</td>\n",
       "    </tr>\n",
       "    <tr>\n",
       "      <th>52</th>\n",
       "      <td>11</td>\n",
       "      <td>Fighter Big Axe + GWM</td>\n",
       "      <td>16</td>\n",
       "      <td>37.855400</td>\n",
       "    </tr>\n",
       "    <tr>\n",
       "      <th>53</th>\n",
       "      <td>11</td>\n",
       "      <td>Fighter Big Sword + GWM</td>\n",
       "      <td>16</td>\n",
       "      <td>39.480467</td>\n",
       "    </tr>\n",
       "    <tr>\n",
       "      <th>54</th>\n",
       "      <td>11</td>\n",
       "      <td>Fighter Duals + OEA</td>\n",
       "      <td>16</td>\n",
       "      <td>36.434467</td>\n",
       "    </tr>\n",
       "  </tbody>\n",
       "</table>\n",
       "</div>"
      ]
     },
     "execution_count": 7,
     "metadata": {},
     "output_type": "execute_result"
    }
   ],
   "execution_count": 7
  },
  {
   "cell_type": "code",
   "id": "162c229570acd6d7",
   "metadata": {
    "ExecuteTime": {
     "end_time": "2024-11-15T08:48:10.383901Z",
     "start_time": "2024-11-15T08:48:10.369786Z"
    }
   },
   "source": [
    "fig = get_plot(df_overall)\n",
    "fig.show()"
   ],
   "outputs": [
    {
     "data": {
      "application/vnd.plotly.v1+json": {
       "data": [
        {
         "line": {
          "color": "rgb(228,26,28)"
         },
         "mode": "lines+markers",
         "name": "AC16 Barbarian Big Axe + GWM",
         "x": [
          1,
          2,
          3,
          4,
          5,
          6,
          7,
          8,
          9,
          10,
          11,
          12
         ],
         "y": [
          6.082333333333334,
          8.950266666666666,
          8.9374,
          12.273533333333333,
          27.356533333333335,
          27.441266666666667,
          31.287533333333336,
          31.814933333333336,
          34.340066666666665,
          34.09513333333333,
          38.26886666666667,
          38.27473333333333
         ],
         "type": "scatter"
        },
        {
         "line": {
          "color": "rgb(55,126,184)"
         },
         "mode": "lines+markers",
         "name": "AC16 Barbarian Big Sword + GWM",
         "x": [
          1,
          2,
          3,
          4,
          5,
          6,
          7,
          8,
          9,
          10,
          11,
          12
         ],
         "y": [
          6.454199999999999,
          9.3964,
          9.496933333333333,
          12.590866666666667,
          27.870933333333333,
          28.254666666666665,
          32.4338,
          32.354733333333336,
          35.03666666666667,
          35.37133333333333,
          39.22846666666666,
          39.07273333333333
         ],
         "type": "scatter"
        },
        {
         "line": {
          "color": "rgb(77,175,74)"
         },
         "mode": "lines+markers",
         "name": "AC16 Fighter Big Axe + GWM",
         "x": [
          1,
          2,
          3,
          4,
          5,
          6,
          7,
          8,
          9,
          10,
          11,
          12
         ],
         "y": [
          6.5704,
          6.6374666666666675,
          6.527666666666667,
          7.184066666666667,
          16.28526666666667,
          16.455466666666666,
          19.4782,
          19.360666666666667,
          21.83373333333333,
          21.85826666666667,
          37.855399999999996,
          37.67326666666667
         ],
         "type": "scatter"
        },
        {
         "line": {
          "color": "rgb(152,78,163)"
         },
         "mode": "lines+markers",
         "name": "AC16 Fighter Big Sword + GWM",
         "x": [
          1,
          2,
          3,
          4,
          5,
          6,
          7,
          8,
          9,
          10,
          11,
          12
         ],
         "y": [
          7.295266666666667,
          7.2576,
          7.2270666666666665,
          7.462733333333333,
          17.335933333333333,
          17.470066666666664,
          20.602800000000002,
          20.7558,
          23.0494,
          23.0166,
          39.480466666666665,
          39.70113333333333
         ],
         "type": "scatter"
        },
        {
         "line": {
          "color": "rgb(255,127,0)"
         },
         "mode": "lines+markers",
         "name": "AC16 Fighter Duals + OEA",
         "x": [
          1,
          2,
          3,
          4,
          5,
          6,
          7,
          8,
          9,
          10,
          11,
          12
         ],
         "y": [
          8.631733333333333,
          8.539533333333333,
          8.692266666666667,
          12.8942,
          18.622066666666665,
          18.58353333333333,
          22.80013333333333,
          22.953200000000002,
          24.50013333333333,
          24.485933333333335,
          36.434466666666665,
          36.4506
         ],
         "type": "scatter"
        }
       ],
       "layout": {
        "template": {
         "data": {
          "histogram2dcontour": [
           {
            "type": "histogram2dcontour",
            "colorbar": {
             "outlinewidth": 0,
             "ticks": ""
            },
            "colorscale": [
             [
              0.0,
              "#0d0887"
             ],
             [
              0.1111111111111111,
              "#46039f"
             ],
             [
              0.2222222222222222,
              "#7201a8"
             ],
             [
              0.3333333333333333,
              "#9c179e"
             ],
             [
              0.4444444444444444,
              "#bd3786"
             ],
             [
              0.5555555555555556,
              "#d8576b"
             ],
             [
              0.6666666666666666,
              "#ed7953"
             ],
             [
              0.7777777777777778,
              "#fb9f3a"
             ],
             [
              0.8888888888888888,
              "#fdca26"
             ],
             [
              1.0,
              "#f0f921"
             ]
            ]
           }
          ],
          "choropleth": [
           {
            "type": "choropleth",
            "colorbar": {
             "outlinewidth": 0,
             "ticks": ""
            }
           }
          ],
          "histogram2d": [
           {
            "type": "histogram2d",
            "colorbar": {
             "outlinewidth": 0,
             "ticks": ""
            },
            "colorscale": [
             [
              0.0,
              "#0d0887"
             ],
             [
              0.1111111111111111,
              "#46039f"
             ],
             [
              0.2222222222222222,
              "#7201a8"
             ],
             [
              0.3333333333333333,
              "#9c179e"
             ],
             [
              0.4444444444444444,
              "#bd3786"
             ],
             [
              0.5555555555555556,
              "#d8576b"
             ],
             [
              0.6666666666666666,
              "#ed7953"
             ],
             [
              0.7777777777777778,
              "#fb9f3a"
             ],
             [
              0.8888888888888888,
              "#fdca26"
             ],
             [
              1.0,
              "#f0f921"
             ]
            ]
           }
          ],
          "heatmap": [
           {
            "type": "heatmap",
            "colorbar": {
             "outlinewidth": 0,
             "ticks": ""
            },
            "colorscale": [
             [
              0.0,
              "#0d0887"
             ],
             [
              0.1111111111111111,
              "#46039f"
             ],
             [
              0.2222222222222222,
              "#7201a8"
             ],
             [
              0.3333333333333333,
              "#9c179e"
             ],
             [
              0.4444444444444444,
              "#bd3786"
             ],
             [
              0.5555555555555556,
              "#d8576b"
             ],
             [
              0.6666666666666666,
              "#ed7953"
             ],
             [
              0.7777777777777778,
              "#fb9f3a"
             ],
             [
              0.8888888888888888,
              "#fdca26"
             ],
             [
              1.0,
              "#f0f921"
             ]
            ]
           }
          ],
          "heatmapgl": [
           {
            "type": "heatmapgl",
            "colorbar": {
             "outlinewidth": 0,
             "ticks": ""
            },
            "colorscale": [
             [
              0.0,
              "#0d0887"
             ],
             [
              0.1111111111111111,
              "#46039f"
             ],
             [
              0.2222222222222222,
              "#7201a8"
             ],
             [
              0.3333333333333333,
              "#9c179e"
             ],
             [
              0.4444444444444444,
              "#bd3786"
             ],
             [
              0.5555555555555556,
              "#d8576b"
             ],
             [
              0.6666666666666666,
              "#ed7953"
             ],
             [
              0.7777777777777778,
              "#fb9f3a"
             ],
             [
              0.8888888888888888,
              "#fdca26"
             ],
             [
              1.0,
              "#f0f921"
             ]
            ]
           }
          ],
          "contourcarpet": [
           {
            "type": "contourcarpet",
            "colorbar": {
             "outlinewidth": 0,
             "ticks": ""
            }
           }
          ],
          "contour": [
           {
            "type": "contour",
            "colorbar": {
             "outlinewidth": 0,
             "ticks": ""
            },
            "colorscale": [
             [
              0.0,
              "#0d0887"
             ],
             [
              0.1111111111111111,
              "#46039f"
             ],
             [
              0.2222222222222222,
              "#7201a8"
             ],
             [
              0.3333333333333333,
              "#9c179e"
             ],
             [
              0.4444444444444444,
              "#bd3786"
             ],
             [
              0.5555555555555556,
              "#d8576b"
             ],
             [
              0.6666666666666666,
              "#ed7953"
             ],
             [
              0.7777777777777778,
              "#fb9f3a"
             ],
             [
              0.8888888888888888,
              "#fdca26"
             ],
             [
              1.0,
              "#f0f921"
             ]
            ]
           }
          ],
          "surface": [
           {
            "type": "surface",
            "colorbar": {
             "outlinewidth": 0,
             "ticks": ""
            },
            "colorscale": [
             [
              0.0,
              "#0d0887"
             ],
             [
              0.1111111111111111,
              "#46039f"
             ],
             [
              0.2222222222222222,
              "#7201a8"
             ],
             [
              0.3333333333333333,
              "#9c179e"
             ],
             [
              0.4444444444444444,
              "#bd3786"
             ],
             [
              0.5555555555555556,
              "#d8576b"
             ],
             [
              0.6666666666666666,
              "#ed7953"
             ],
             [
              0.7777777777777778,
              "#fb9f3a"
             ],
             [
              0.8888888888888888,
              "#fdca26"
             ],
             [
              1.0,
              "#f0f921"
             ]
            ]
           }
          ],
          "mesh3d": [
           {
            "type": "mesh3d",
            "colorbar": {
             "outlinewidth": 0,
             "ticks": ""
            }
           }
          ],
          "scatter": [
           {
            "fillpattern": {
             "fillmode": "overlay",
             "size": 10,
             "solidity": 0.2
            },
            "type": "scatter"
           }
          ],
          "parcoords": [
           {
            "type": "parcoords",
            "line": {
             "colorbar": {
              "outlinewidth": 0,
              "ticks": ""
             }
            }
           }
          ],
          "scatterpolargl": [
           {
            "type": "scatterpolargl",
            "marker": {
             "colorbar": {
              "outlinewidth": 0,
              "ticks": ""
             }
            }
           }
          ],
          "bar": [
           {
            "error_x": {
             "color": "#2a3f5f"
            },
            "error_y": {
             "color": "#2a3f5f"
            },
            "marker": {
             "line": {
              "color": "#E5ECF6",
              "width": 0.5
             },
             "pattern": {
              "fillmode": "overlay",
              "size": 10,
              "solidity": 0.2
             }
            },
            "type": "bar"
           }
          ],
          "scattergeo": [
           {
            "type": "scattergeo",
            "marker": {
             "colorbar": {
              "outlinewidth": 0,
              "ticks": ""
             }
            }
           }
          ],
          "scatterpolar": [
           {
            "type": "scatterpolar",
            "marker": {
             "colorbar": {
              "outlinewidth": 0,
              "ticks": ""
             }
            }
           }
          ],
          "histogram": [
           {
            "marker": {
             "pattern": {
              "fillmode": "overlay",
              "size": 10,
              "solidity": 0.2
             }
            },
            "type": "histogram"
           }
          ],
          "scattergl": [
           {
            "type": "scattergl",
            "marker": {
             "colorbar": {
              "outlinewidth": 0,
              "ticks": ""
             }
            }
           }
          ],
          "scatter3d": [
           {
            "type": "scatter3d",
            "line": {
             "colorbar": {
              "outlinewidth": 0,
              "ticks": ""
             }
            },
            "marker": {
             "colorbar": {
              "outlinewidth": 0,
              "ticks": ""
             }
            }
           }
          ],
          "scattermapbox": [
           {
            "type": "scattermapbox",
            "marker": {
             "colorbar": {
              "outlinewidth": 0,
              "ticks": ""
             }
            }
           }
          ],
          "scatterternary": [
           {
            "type": "scatterternary",
            "marker": {
             "colorbar": {
              "outlinewidth": 0,
              "ticks": ""
             }
            }
           }
          ],
          "scattercarpet": [
           {
            "type": "scattercarpet",
            "marker": {
             "colorbar": {
              "outlinewidth": 0,
              "ticks": ""
             }
            }
           }
          ],
          "carpet": [
           {
            "aaxis": {
             "endlinecolor": "#2a3f5f",
             "gridcolor": "white",
             "linecolor": "white",
             "minorgridcolor": "white",
             "startlinecolor": "#2a3f5f"
            },
            "baxis": {
             "endlinecolor": "#2a3f5f",
             "gridcolor": "white",
             "linecolor": "white",
             "minorgridcolor": "white",
             "startlinecolor": "#2a3f5f"
            },
            "type": "carpet"
           }
          ],
          "table": [
           {
            "cells": {
             "fill": {
              "color": "#EBF0F8"
             },
             "line": {
              "color": "white"
             }
            },
            "header": {
             "fill": {
              "color": "#C8D4E3"
             },
             "line": {
              "color": "white"
             }
            },
            "type": "table"
           }
          ],
          "barpolar": [
           {
            "marker": {
             "line": {
              "color": "#E5ECF6",
              "width": 0.5
             },
             "pattern": {
              "fillmode": "overlay",
              "size": 10,
              "solidity": 0.2
             }
            },
            "type": "barpolar"
           }
          ],
          "pie": [
           {
            "automargin": true,
            "type": "pie"
           }
          ]
         },
         "layout": {
          "autotypenumbers": "strict",
          "colorway": [
           "#636efa",
           "#EF553B",
           "#00cc96",
           "#ab63fa",
           "#FFA15A",
           "#19d3f3",
           "#FF6692",
           "#B6E880",
           "#FF97FF",
           "#FECB52"
          ],
          "font": {
           "color": "#2a3f5f"
          },
          "hovermode": "closest",
          "hoverlabel": {
           "align": "left"
          },
          "paper_bgcolor": "white",
          "plot_bgcolor": "#E5ECF6",
          "polar": {
           "bgcolor": "#E5ECF6",
           "angularaxis": {
            "gridcolor": "white",
            "linecolor": "white",
            "ticks": ""
           },
           "radialaxis": {
            "gridcolor": "white",
            "linecolor": "white",
            "ticks": ""
           }
          },
          "ternary": {
           "bgcolor": "#E5ECF6",
           "aaxis": {
            "gridcolor": "white",
            "linecolor": "white",
            "ticks": ""
           },
           "baxis": {
            "gridcolor": "white",
            "linecolor": "white",
            "ticks": ""
           },
           "caxis": {
            "gridcolor": "white",
            "linecolor": "white",
            "ticks": ""
           }
          },
          "coloraxis": {
           "colorbar": {
            "outlinewidth": 0,
            "ticks": ""
           }
          },
          "colorscale": {
           "sequential": [
            [
             0.0,
             "#0d0887"
            ],
            [
             0.1111111111111111,
             "#46039f"
            ],
            [
             0.2222222222222222,
             "#7201a8"
            ],
            [
             0.3333333333333333,
             "#9c179e"
            ],
            [
             0.4444444444444444,
             "#bd3786"
            ],
            [
             0.5555555555555556,
             "#d8576b"
            ],
            [
             0.6666666666666666,
             "#ed7953"
            ],
            [
             0.7777777777777778,
             "#fb9f3a"
            ],
            [
             0.8888888888888888,
             "#fdca26"
            ],
            [
             1.0,
             "#f0f921"
            ]
           ],
           "sequentialminus": [
            [
             0.0,
             "#0d0887"
            ],
            [
             0.1111111111111111,
             "#46039f"
            ],
            [
             0.2222222222222222,
             "#7201a8"
            ],
            [
             0.3333333333333333,
             "#9c179e"
            ],
            [
             0.4444444444444444,
             "#bd3786"
            ],
            [
             0.5555555555555556,
             "#d8576b"
            ],
            [
             0.6666666666666666,
             "#ed7953"
            ],
            [
             0.7777777777777778,
             "#fb9f3a"
            ],
            [
             0.8888888888888888,
             "#fdca26"
            ],
            [
             1.0,
             "#f0f921"
            ]
           ],
           "diverging": [
            [
             0,
             "#8e0152"
            ],
            [
             0.1,
             "#c51b7d"
            ],
            [
             0.2,
             "#de77ae"
            ],
            [
             0.3,
             "#f1b6da"
            ],
            [
             0.4,
             "#fde0ef"
            ],
            [
             0.5,
             "#f7f7f7"
            ],
            [
             0.6,
             "#e6f5d0"
            ],
            [
             0.7,
             "#b8e186"
            ],
            [
             0.8,
             "#7fbc41"
            ],
            [
             0.9,
             "#4d9221"
            ],
            [
             1,
             "#276419"
            ]
           ]
          },
          "xaxis": {
           "gridcolor": "white",
           "linecolor": "white",
           "ticks": "",
           "title": {
            "standoff": 15
           },
           "zerolinecolor": "white",
           "automargin": true,
           "zerolinewidth": 2
          },
          "yaxis": {
           "gridcolor": "white",
           "linecolor": "white",
           "ticks": "",
           "title": {
            "standoff": 15
           },
           "zerolinecolor": "white",
           "automargin": true,
           "zerolinewidth": 2
          },
          "scene": {
           "xaxis": {
            "backgroundcolor": "#E5ECF6",
            "gridcolor": "white",
            "linecolor": "white",
            "showbackground": true,
            "ticks": "",
            "zerolinecolor": "white",
            "gridwidth": 2
           },
           "yaxis": {
            "backgroundcolor": "#E5ECF6",
            "gridcolor": "white",
            "linecolor": "white",
            "showbackground": true,
            "ticks": "",
            "zerolinecolor": "white",
            "gridwidth": 2
           },
           "zaxis": {
            "backgroundcolor": "#E5ECF6",
            "gridcolor": "white",
            "linecolor": "white",
            "showbackground": true,
            "ticks": "",
            "zerolinecolor": "white",
            "gridwidth": 2
           }
          },
          "shapedefaults": {
           "line": {
            "color": "#2a3f5f"
           }
          },
          "annotationdefaults": {
           "arrowcolor": "#2a3f5f",
           "arrowhead": 0,
           "arrowwidth": 1
          },
          "geo": {
           "bgcolor": "white",
           "landcolor": "#E5ECF6",
           "subunitcolor": "white",
           "showland": true,
           "showlakes": true,
           "lakecolor": "white"
          },
          "title": {
           "x": 0.05
          },
          "mapbox": {
           "style": "light"
          }
         }
        },
        "height": 800
       },
       "config": {
        "plotlyServerURL": "https://plot.ly"
       }
      },
      "text/html": [
       "<div>                            <div id=\"452d33e4-d8f4-4415-bbf0-35657caf78df\" class=\"plotly-graph-div\" style=\"height:800px; width:100%;\"></div>            <script type=\"text/javascript\">                require([\"plotly\"], function(Plotly) {                    window.PLOTLYENV=window.PLOTLYENV || {};                                    if (document.getElementById(\"452d33e4-d8f4-4415-bbf0-35657caf78df\")) {                    Plotly.newPlot(                        \"452d33e4-d8f4-4415-bbf0-35657caf78df\",                        [{\"line\":{\"color\":\"rgb(228,26,28)\"},\"mode\":\"lines+markers\",\"name\":\"AC16 Barbarian Big Axe + GWM\",\"x\":[1,2,3,4,5,6,7,8,9,10,11,12],\"y\":[6.082333333333334,8.950266666666666,8.9374,12.273533333333333,27.356533333333335,27.441266666666667,31.287533333333336,31.814933333333336,34.340066666666665,34.09513333333333,38.26886666666667,38.27473333333333],\"type\":\"scatter\"},{\"line\":{\"color\":\"rgb(55,126,184)\"},\"mode\":\"lines+markers\",\"name\":\"AC16 Barbarian Big Sword + GWM\",\"x\":[1,2,3,4,5,6,7,8,9,10,11,12],\"y\":[6.454199999999999,9.3964,9.496933333333333,12.590866666666667,27.870933333333333,28.254666666666665,32.4338,32.354733333333336,35.03666666666667,35.37133333333333,39.22846666666666,39.07273333333333],\"type\":\"scatter\"},{\"line\":{\"color\":\"rgb(77,175,74)\"},\"mode\":\"lines+markers\",\"name\":\"AC16 Fighter Big Axe + GWM\",\"x\":[1,2,3,4,5,6,7,8,9,10,11,12],\"y\":[6.5704,6.6374666666666675,6.527666666666667,7.184066666666667,16.28526666666667,16.455466666666666,19.4782,19.360666666666667,21.83373333333333,21.85826666666667,37.855399999999996,37.67326666666667],\"type\":\"scatter\"},{\"line\":{\"color\":\"rgb(152,78,163)\"},\"mode\":\"lines+markers\",\"name\":\"AC16 Fighter Big Sword + GWM\",\"x\":[1,2,3,4,5,6,7,8,9,10,11,12],\"y\":[7.295266666666667,7.2576,7.2270666666666665,7.462733333333333,17.335933333333333,17.470066666666664,20.602800000000002,20.7558,23.0494,23.0166,39.480466666666665,39.70113333333333],\"type\":\"scatter\"},{\"line\":{\"color\":\"rgb(255,127,0)\"},\"mode\":\"lines+markers\",\"name\":\"AC16 Fighter Duals + OEA\",\"x\":[1,2,3,4,5,6,7,8,9,10,11,12],\"y\":[8.631733333333333,8.539533333333333,8.692266666666667,12.8942,18.622066666666665,18.58353333333333,22.80013333333333,22.953200000000002,24.50013333333333,24.485933333333335,36.434466666666665,36.4506],\"type\":\"scatter\"}],                        {\"template\":{\"data\":{\"histogram2dcontour\":[{\"type\":\"histogram2dcontour\",\"colorbar\":{\"outlinewidth\":0,\"ticks\":\"\"},\"colorscale\":[[0.0,\"#0d0887\"],[0.1111111111111111,\"#46039f\"],[0.2222222222222222,\"#7201a8\"],[0.3333333333333333,\"#9c179e\"],[0.4444444444444444,\"#bd3786\"],[0.5555555555555556,\"#d8576b\"],[0.6666666666666666,\"#ed7953\"],[0.7777777777777778,\"#fb9f3a\"],[0.8888888888888888,\"#fdca26\"],[1.0,\"#f0f921\"]]}],\"choropleth\":[{\"type\":\"choropleth\",\"colorbar\":{\"outlinewidth\":0,\"ticks\":\"\"}}],\"histogram2d\":[{\"type\":\"histogram2d\",\"colorbar\":{\"outlinewidth\":0,\"ticks\":\"\"},\"colorscale\":[[0.0,\"#0d0887\"],[0.1111111111111111,\"#46039f\"],[0.2222222222222222,\"#7201a8\"],[0.3333333333333333,\"#9c179e\"],[0.4444444444444444,\"#bd3786\"],[0.5555555555555556,\"#d8576b\"],[0.6666666666666666,\"#ed7953\"],[0.7777777777777778,\"#fb9f3a\"],[0.8888888888888888,\"#fdca26\"],[1.0,\"#f0f921\"]]}],\"heatmap\":[{\"type\":\"heatmap\",\"colorbar\":{\"outlinewidth\":0,\"ticks\":\"\"},\"colorscale\":[[0.0,\"#0d0887\"],[0.1111111111111111,\"#46039f\"],[0.2222222222222222,\"#7201a8\"],[0.3333333333333333,\"#9c179e\"],[0.4444444444444444,\"#bd3786\"],[0.5555555555555556,\"#d8576b\"],[0.6666666666666666,\"#ed7953\"],[0.7777777777777778,\"#fb9f3a\"],[0.8888888888888888,\"#fdca26\"],[1.0,\"#f0f921\"]]}],\"heatmapgl\":[{\"type\":\"heatmapgl\",\"colorbar\":{\"outlinewidth\":0,\"ticks\":\"\"},\"colorscale\":[[0.0,\"#0d0887\"],[0.1111111111111111,\"#46039f\"],[0.2222222222222222,\"#7201a8\"],[0.3333333333333333,\"#9c179e\"],[0.4444444444444444,\"#bd3786\"],[0.5555555555555556,\"#d8576b\"],[0.6666666666666666,\"#ed7953\"],[0.7777777777777778,\"#fb9f3a\"],[0.8888888888888888,\"#fdca26\"],[1.0,\"#f0f921\"]]}],\"contourcarpet\":[{\"type\":\"contourcarpet\",\"colorbar\":{\"outlinewidth\":0,\"ticks\":\"\"}}],\"contour\":[{\"type\":\"contour\",\"colorbar\":{\"outlinewidth\":0,\"ticks\":\"\"},\"colorscale\":[[0.0,\"#0d0887\"],[0.1111111111111111,\"#46039f\"],[0.2222222222222222,\"#7201a8\"],[0.3333333333333333,\"#9c179e\"],[0.4444444444444444,\"#bd3786\"],[0.5555555555555556,\"#d8576b\"],[0.6666666666666666,\"#ed7953\"],[0.7777777777777778,\"#fb9f3a\"],[0.8888888888888888,\"#fdca26\"],[1.0,\"#f0f921\"]]}],\"surface\":[{\"type\":\"surface\",\"colorbar\":{\"outlinewidth\":0,\"ticks\":\"\"},\"colorscale\":[[0.0,\"#0d0887\"],[0.1111111111111111,\"#46039f\"],[0.2222222222222222,\"#7201a8\"],[0.3333333333333333,\"#9c179e\"],[0.4444444444444444,\"#bd3786\"],[0.5555555555555556,\"#d8576b\"],[0.6666666666666666,\"#ed7953\"],[0.7777777777777778,\"#fb9f3a\"],[0.8888888888888888,\"#fdca26\"],[1.0,\"#f0f921\"]]}],\"mesh3d\":[{\"type\":\"mesh3d\",\"colorbar\":{\"outlinewidth\":0,\"ticks\":\"\"}}],\"scatter\":[{\"fillpattern\":{\"fillmode\":\"overlay\",\"size\":10,\"solidity\":0.2},\"type\":\"scatter\"}],\"parcoords\":[{\"type\":\"parcoords\",\"line\":{\"colorbar\":{\"outlinewidth\":0,\"ticks\":\"\"}}}],\"scatterpolargl\":[{\"type\":\"scatterpolargl\",\"marker\":{\"colorbar\":{\"outlinewidth\":0,\"ticks\":\"\"}}}],\"bar\":[{\"error_x\":{\"color\":\"#2a3f5f\"},\"error_y\":{\"color\":\"#2a3f5f\"},\"marker\":{\"line\":{\"color\":\"#E5ECF6\",\"width\":0.5},\"pattern\":{\"fillmode\":\"overlay\",\"size\":10,\"solidity\":0.2}},\"type\":\"bar\"}],\"scattergeo\":[{\"type\":\"scattergeo\",\"marker\":{\"colorbar\":{\"outlinewidth\":0,\"ticks\":\"\"}}}],\"scatterpolar\":[{\"type\":\"scatterpolar\",\"marker\":{\"colorbar\":{\"outlinewidth\":0,\"ticks\":\"\"}}}],\"histogram\":[{\"marker\":{\"pattern\":{\"fillmode\":\"overlay\",\"size\":10,\"solidity\":0.2}},\"type\":\"histogram\"}],\"scattergl\":[{\"type\":\"scattergl\",\"marker\":{\"colorbar\":{\"outlinewidth\":0,\"ticks\":\"\"}}}],\"scatter3d\":[{\"type\":\"scatter3d\",\"line\":{\"colorbar\":{\"outlinewidth\":0,\"ticks\":\"\"}},\"marker\":{\"colorbar\":{\"outlinewidth\":0,\"ticks\":\"\"}}}],\"scattermapbox\":[{\"type\":\"scattermapbox\",\"marker\":{\"colorbar\":{\"outlinewidth\":0,\"ticks\":\"\"}}}],\"scatterternary\":[{\"type\":\"scatterternary\",\"marker\":{\"colorbar\":{\"outlinewidth\":0,\"ticks\":\"\"}}}],\"scattercarpet\":[{\"type\":\"scattercarpet\",\"marker\":{\"colorbar\":{\"outlinewidth\":0,\"ticks\":\"\"}}}],\"carpet\":[{\"aaxis\":{\"endlinecolor\":\"#2a3f5f\",\"gridcolor\":\"white\",\"linecolor\":\"white\",\"minorgridcolor\":\"white\",\"startlinecolor\":\"#2a3f5f\"},\"baxis\":{\"endlinecolor\":\"#2a3f5f\",\"gridcolor\":\"white\",\"linecolor\":\"white\",\"minorgridcolor\":\"white\",\"startlinecolor\":\"#2a3f5f\"},\"type\":\"carpet\"}],\"table\":[{\"cells\":{\"fill\":{\"color\":\"#EBF0F8\"},\"line\":{\"color\":\"white\"}},\"header\":{\"fill\":{\"color\":\"#C8D4E3\"},\"line\":{\"color\":\"white\"}},\"type\":\"table\"}],\"barpolar\":[{\"marker\":{\"line\":{\"color\":\"#E5ECF6\",\"width\":0.5},\"pattern\":{\"fillmode\":\"overlay\",\"size\":10,\"solidity\":0.2}},\"type\":\"barpolar\"}],\"pie\":[{\"automargin\":true,\"type\":\"pie\"}]},\"layout\":{\"autotypenumbers\":\"strict\",\"colorway\":[\"#636efa\",\"#EF553B\",\"#00cc96\",\"#ab63fa\",\"#FFA15A\",\"#19d3f3\",\"#FF6692\",\"#B6E880\",\"#FF97FF\",\"#FECB52\"],\"font\":{\"color\":\"#2a3f5f\"},\"hovermode\":\"closest\",\"hoverlabel\":{\"align\":\"left\"},\"paper_bgcolor\":\"white\",\"plot_bgcolor\":\"#E5ECF6\",\"polar\":{\"bgcolor\":\"#E5ECF6\",\"angularaxis\":{\"gridcolor\":\"white\",\"linecolor\":\"white\",\"ticks\":\"\"},\"radialaxis\":{\"gridcolor\":\"white\",\"linecolor\":\"white\",\"ticks\":\"\"}},\"ternary\":{\"bgcolor\":\"#E5ECF6\",\"aaxis\":{\"gridcolor\":\"white\",\"linecolor\":\"white\",\"ticks\":\"\"},\"baxis\":{\"gridcolor\":\"white\",\"linecolor\":\"white\",\"ticks\":\"\"},\"caxis\":{\"gridcolor\":\"white\",\"linecolor\":\"white\",\"ticks\":\"\"}},\"coloraxis\":{\"colorbar\":{\"outlinewidth\":0,\"ticks\":\"\"}},\"colorscale\":{\"sequential\":[[0.0,\"#0d0887\"],[0.1111111111111111,\"#46039f\"],[0.2222222222222222,\"#7201a8\"],[0.3333333333333333,\"#9c179e\"],[0.4444444444444444,\"#bd3786\"],[0.5555555555555556,\"#d8576b\"],[0.6666666666666666,\"#ed7953\"],[0.7777777777777778,\"#fb9f3a\"],[0.8888888888888888,\"#fdca26\"],[1.0,\"#f0f921\"]],\"sequentialminus\":[[0.0,\"#0d0887\"],[0.1111111111111111,\"#46039f\"],[0.2222222222222222,\"#7201a8\"],[0.3333333333333333,\"#9c179e\"],[0.4444444444444444,\"#bd3786\"],[0.5555555555555556,\"#d8576b\"],[0.6666666666666666,\"#ed7953\"],[0.7777777777777778,\"#fb9f3a\"],[0.8888888888888888,\"#fdca26\"],[1.0,\"#f0f921\"]],\"diverging\":[[0,\"#8e0152\"],[0.1,\"#c51b7d\"],[0.2,\"#de77ae\"],[0.3,\"#f1b6da\"],[0.4,\"#fde0ef\"],[0.5,\"#f7f7f7\"],[0.6,\"#e6f5d0\"],[0.7,\"#b8e186\"],[0.8,\"#7fbc41\"],[0.9,\"#4d9221\"],[1,\"#276419\"]]},\"xaxis\":{\"gridcolor\":\"white\",\"linecolor\":\"white\",\"ticks\":\"\",\"title\":{\"standoff\":15},\"zerolinecolor\":\"white\",\"automargin\":true,\"zerolinewidth\":2},\"yaxis\":{\"gridcolor\":\"white\",\"linecolor\":\"white\",\"ticks\":\"\",\"title\":{\"standoff\":15},\"zerolinecolor\":\"white\",\"automargin\":true,\"zerolinewidth\":2},\"scene\":{\"xaxis\":{\"backgroundcolor\":\"#E5ECF6\",\"gridcolor\":\"white\",\"linecolor\":\"white\",\"showbackground\":true,\"ticks\":\"\",\"zerolinecolor\":\"white\",\"gridwidth\":2},\"yaxis\":{\"backgroundcolor\":\"#E5ECF6\",\"gridcolor\":\"white\",\"linecolor\":\"white\",\"showbackground\":true,\"ticks\":\"\",\"zerolinecolor\":\"white\",\"gridwidth\":2},\"zaxis\":{\"backgroundcolor\":\"#E5ECF6\",\"gridcolor\":\"white\",\"linecolor\":\"white\",\"showbackground\":true,\"ticks\":\"\",\"zerolinecolor\":\"white\",\"gridwidth\":2}},\"shapedefaults\":{\"line\":{\"color\":\"#2a3f5f\"}},\"annotationdefaults\":{\"arrowcolor\":\"#2a3f5f\",\"arrowhead\":0,\"arrowwidth\":1},\"geo\":{\"bgcolor\":\"white\",\"landcolor\":\"#E5ECF6\",\"subunitcolor\":\"white\",\"showland\":true,\"showlakes\":true,\"lakecolor\":\"white\"},\"title\":{\"x\":0.05},\"mapbox\":{\"style\":\"light\"}}},\"height\":800},                        {\"responsive\": true}                    ).then(function(){\n",
       "                            \n",
       "var gd = document.getElementById('452d33e4-d8f4-4415-bbf0-35657caf78df');\n",
       "var x = new MutationObserver(function (mutations, observer) {{\n",
       "        var display = window.getComputedStyle(gd).display;\n",
       "        if (!display || display === 'none') {{\n",
       "            console.log([gd, 'removed!']);\n",
       "            Plotly.purge(gd);\n",
       "            observer.disconnect();\n",
       "        }}\n",
       "}});\n",
       "\n",
       "// Listen for the removal of the full notebook cells\n",
       "var notebookContainer = gd.closest('#notebook-container');\n",
       "if (notebookContainer) {{\n",
       "    x.observe(notebookContainer, {childList: true});\n",
       "}}\n",
       "\n",
       "// Listen for the clearing of the current output cell\n",
       "var outputEl = gd.closest('.output');\n",
       "if (outputEl) {{\n",
       "    x.observe(outputEl, {childList: true});\n",
       "}}\n",
       "\n",
       "                        })                };                });            </script>        </div>"
      ]
     },
     "metadata": {},
     "output_type": "display_data"
    }
   ],
   "execution_count": 8
  }
 ],
 "metadata": {
  "kernelspec": {
   "display_name": "Python 3 (ipykernel)",
   "language": "python",
   "name": "python3"
  },
  "language_info": {
   "codemirror_mode": {
    "name": "ipython",
    "version": 3
   },
   "file_extension": ".py",
   "mimetype": "text/x-python",
   "name": "python",
   "nbconvert_exporter": "python",
   "pygments_lexer": "ipython3",
   "version": "3.13.0"
  }
 },
 "nbformat": 4,
 "nbformat_minor": 5
}
