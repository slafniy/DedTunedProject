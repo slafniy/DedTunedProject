{
 "cells": [
  {
   "cell_type": "code",
   "id": "b461bd86dcf4c0a4",
   "metadata": {
    "ExecuteTime": {
     "end_time": "2024-11-14T21:44:21.129309Z",
     "start_time": "2024-11-14T21:44:11.061939Z"
    }
   },
   "source": [
    "import logging\n",
    "\n",
    "from character import Character, logger, Passive\n",
    "import weapon as wpn\n",
    "from data_processing import get_plot\n",
    "from simulator import simulate_combat\n",
    "\n",
    "logger.stream_handler.setLevel(logging.INFO)\n",
    "logger.file_handler.setLevel(logging.INFO)\n",
    "\n",
    "extra_attack_progression = {\n",
    "    5: {Passive.PASSIVE_EXTRA_ATTACK}\n",
    "}\n",
    "\n",
    "specs = [\n",
    "    # Character(\"2H sword\", weapon_main=wpn.TWO_HANDED_SWORD_0),\n",
    "    # Character(\"2H sword + EA\", weapon_main=wpn.TWO_HANDED_SWORD_0, passives_progression=extra_attack_progression),\n",
    "    # Character(\"2H sword + EA + GWF\", weapon_main=wpn.TWO_HANDED_SWORD_0,\n",
    "    #           passives_progression={\n",
    "    #               1: {Passive.FIGHTING_STYLE_GREAT_WEAPON_FIGHTING},\n",
    "    #               5: {Passive.PASSIVE_EXTRA_ATTACK}\n",
    "    #           }),\n",
    "    Character(\"Fighter Big Sword + GWM\", weapon_main=wpn.TWO_HANDED_SWORD_1,\n",
    "              passives_progression={\n",
    "                  1: {Passive.FIGHTING_STYLE_GREAT_WEAPON_FIGHTING},\n",
    "                  4: {Passive.FEAT_GREAT_WEAPON_MASTER_VANILLA},\n",
    "                  5: {Passive.PASSIVE_EXTRA_ATTACK}\n",
    "              }),\n",
    "    Character(\"Fighter Duals + OEA\", weapon_main=wpn.SHORT_SWORD_1, weapon_offhand=wpn.SHORT_SWORD_1,\n",
    "              passives_progression={\n",
    "                  1: {Passive.FIGHTING_STYLE_TWO_WEAPON_FIGHTING},\n",
    "                  4: {Passive.FEAT_EXTRA_OFFHAND_ATTACK},\n",
    "                  5: {Passive.PASSIVE_EXTRA_ATTACK}\n",
    "              }),\n",
    "\n",
    "    # Character(\"ShortSword\", weapon_main=wpn.SHORT_SWORD_0),\n",
    "    # Character(\"ShortSword + EA\", weapon_main=wpn.SHORT_SWORD_0, passives_progression=extra_attack_progression),\n",
    "\n",
    "    # Character(\"x2 ShortSword\", weapon_main=wpn.SHORT_SWORD_0, weapon_offhand=wpn.SHORT_SWORD_0),\n",
    "    # Character(\"x2 ShortSword + EA\", weapon_main=wpn.SHORT_SWORD_0, weapon_offhand=wpn.SHORT_SWORD_0,\n",
    "    #           passives_progression=extra_attack_progression),\n",
    "    # Character(\"x2 ShortSword + EA + OEA\", weapon_main=wpn.SHORT_SWORD_0, weapon_offhand=wpn.SHORT_SWORD_0,\n",
    "    #           passives_progression={4: {Passive.FEAT_EXTRA_OFFHAND_ATTACK},\n",
    "    #                                 5: {Passive.PASSIVE_EXTRA_ATTACK}\n",
    "    #                                 }),\n",
    "    # Character(\"x2 ShortSword + EA + OEA + 2WF\", weapon_main=wpn.SHORT_SWORD_0, weapon_offhand=wpn.SHORT_SWORD_0,\n",
    "    #           passives_progression={\n",
    "    #               1: {Passive.FIGHTING_STYLE_TWO_WEAPON_FIGHTING},\n",
    "    #               4: {Passive.FEAT_EXTRA_OFFHAND_ATTACK},\n",
    "    #               5: {Passive.PASSIVE_EXTRA_ATTACK}}),\n",
    "    # # Character(\"x2 ShortSword + 2WF\", weapon_main=wpn.SHORT_SWORD_0, weapon_offhand=wpn.SHORT_SWORD_0,\n",
    "    # #           passives_progression={1: {Passive.FIGHTING_STYLE_TWO_WEAPON_FIGHTING}})\n",
    "    # Character(\"2H Crossbow + ARCH + EA + SS\",\n",
    "    #                passives_progression={1: {Passive.FIGHTING_STYLE_ARCHERY},\n",
    "    #                                      4: {Passive.FEAT_SHARPSHOOTER_VANILLA},\n",
    "    #                                      5: {Passive.PASSIVE_EXTRA_ATTACK}},\n",
    "    #                weapon_main=wpn.HEAVY_CROSSBOW_1),\n",
    "    # Character(\"x2 HandCrossbow + 2WF + EA\", weapon_main=wpn.HAND_CROSSBOW_1, weapon_offhand=wpn.HAND_CROSSBOW_1,\n",
    "    #           passives_progression={\n",
    "    #               1: {Passive.FIGHTING_STYLE_TWO_WEAPON_FIGHTING},\n",
    "    #               5: {Passive.PASSIVE_EXTRA_ATTACK}\n",
    "    #           })\n",
    "]\n",
    "df_overall = simulate_combat(\n",
    "    specs,\n",
    "    target_ac_list=(16,13),\n",
    "    iterations=500\n",
    ")\n",
    "\n",
    "df_overall"
   ],
   "outputs": [
    {
     "data": {
      "text/plain": [
       "    level                     name  target_ac  mean_DPR\n",
       "0       1  Fighter Big Sword + GWM         13    8.9840\n",
       "1       1  Fighter Big Sword + GWM         16    6.9764\n",
       "2       1      Fighter Duals + OEA         13   11.0588\n",
       "3       1      Fighter Duals + OEA         16    8.4568\n",
       "4       2  Fighter Big Sword + GWM         13    9.1492\n",
       "5       2  Fighter Big Sword + GWM         16    7.0904\n",
       "6       2      Fighter Duals + OEA         13   10.7984\n",
       "7       2      Fighter Duals + OEA         16    8.5140\n",
       "8       3  Fighter Big Sword + GWM         13    8.9388\n",
       "9       3  Fighter Big Sword + GWM         16    6.9976\n",
       "10      3      Fighter Duals + OEA         13   10.6696\n",
       "11      3      Fighter Duals + OEA         16    8.7216\n",
       "12      4  Fighter Big Sword + GWM         13   11.0304\n",
       "13      4  Fighter Big Sword + GWM         16    7.2716\n",
       "14      4      Fighter Duals + OEA         13   16.0424\n",
       "15      4      Fighter Duals + OEA         16   12.5364\n",
       "16      5  Fighter Big Sword + GWM         13   24.4476\n",
       "17      5  Fighter Big Sword + GWM         16   16.9240\n",
       "18      5      Fighter Duals + OEA         13   23.2584\n",
       "19      5      Fighter Duals + OEA         16   18.3036\n",
       "20      6  Fighter Big Sword + GWM         13   23.6404\n",
       "21      6  Fighter Big Sword + GWM         16   16.9496\n",
       "22      6      Fighter Duals + OEA         13   23.2588\n",
       "23      6      Fighter Duals + OEA         16   19.0892\n",
       "24      7  Fighter Big Sword + GWM         13   28.2956\n",
       "25      7  Fighter Big Sword + GWM         16   19.9784\n",
       "26      7      Fighter Duals + OEA         13   28.3808\n",
       "27      7      Fighter Duals + OEA         16   22.8908\n",
       "28      8  Fighter Big Sword + GWM         13   27.6564\n",
       "29      8  Fighter Big Sword + GWM         16   20.6108\n",
       "30      8      Fighter Duals + OEA         13   27.7372\n",
       "31      8      Fighter Duals + OEA         16   22.7124\n",
       "32      9  Fighter Big Sword + GWM         13   29.5308\n",
       "33      9  Fighter Big Sword + GWM         16   22.5204\n",
       "34      9      Fighter Duals + OEA         13   29.7544\n",
       "35      9      Fighter Duals + OEA         16   24.7020\n",
       "36     10  Fighter Big Sword + GWM         13   29.6580\n",
       "37     10  Fighter Big Sword + GWM         16   21.9976\n",
       "38     10      Fighter Duals + OEA         13   29.6668\n",
       "39     10      Fighter Duals + OEA         16   24.7932\n",
       "40     11  Fighter Big Sword + GWM         13   34.1768\n",
       "41     11  Fighter Big Sword + GWM         16   26.4928\n",
       "42     11      Fighter Duals + OEA         13   34.6856\n",
       "43     11      Fighter Duals + OEA         16   29.4720\n",
       "44     12  Fighter Big Sword + GWM         13   33.6192\n",
       "45     12  Fighter Big Sword + GWM         16   25.9656\n",
       "46     12      Fighter Duals + OEA         13   34.8340\n",
       "47     12      Fighter Duals + OEA         16   28.8612"
      ],
      "text/html": [
       "<div>\n",
       "<style scoped>\n",
       "    .dataframe tbody tr th:only-of-type {\n",
       "        vertical-align: middle;\n",
       "    }\n",
       "\n",
       "    .dataframe tbody tr th {\n",
       "        vertical-align: top;\n",
       "    }\n",
       "\n",
       "    .dataframe thead th {\n",
       "        text-align: right;\n",
       "    }\n",
       "</style>\n",
       "<table border=\"1\" class=\"dataframe\">\n",
       "  <thead>\n",
       "    <tr style=\"text-align: right;\">\n",
       "      <th></th>\n",
       "      <th>level</th>\n",
       "      <th>name</th>\n",
       "      <th>target_ac</th>\n",
       "      <th>mean_DPR</th>\n",
       "    </tr>\n",
       "  </thead>\n",
       "  <tbody>\n",
       "    <tr>\n",
       "      <th>0</th>\n",
       "      <td>1</td>\n",
       "      <td>Fighter Big Sword + GWM</td>\n",
       "      <td>13</td>\n",
       "      <td>8.9840</td>\n",
       "    </tr>\n",
       "    <tr>\n",
       "      <th>1</th>\n",
       "      <td>1</td>\n",
       "      <td>Fighter Big Sword + GWM</td>\n",
       "      <td>16</td>\n",
       "      <td>6.9764</td>\n",
       "    </tr>\n",
       "    <tr>\n",
       "      <th>2</th>\n",
       "      <td>1</td>\n",
       "      <td>Fighter Duals + OEA</td>\n",
       "      <td>13</td>\n",
       "      <td>11.0588</td>\n",
       "    </tr>\n",
       "    <tr>\n",
       "      <th>3</th>\n",
       "      <td>1</td>\n",
       "      <td>Fighter Duals + OEA</td>\n",
       "      <td>16</td>\n",
       "      <td>8.4568</td>\n",
       "    </tr>\n",
       "    <tr>\n",
       "      <th>4</th>\n",
       "      <td>2</td>\n",
       "      <td>Fighter Big Sword + GWM</td>\n",
       "      <td>13</td>\n",
       "      <td>9.1492</td>\n",
       "    </tr>\n",
       "    <tr>\n",
       "      <th>5</th>\n",
       "      <td>2</td>\n",
       "      <td>Fighter Big Sword + GWM</td>\n",
       "      <td>16</td>\n",
       "      <td>7.0904</td>\n",
       "    </tr>\n",
       "    <tr>\n",
       "      <th>6</th>\n",
       "      <td>2</td>\n",
       "      <td>Fighter Duals + OEA</td>\n",
       "      <td>13</td>\n",
       "      <td>10.7984</td>\n",
       "    </tr>\n",
       "    <tr>\n",
       "      <th>7</th>\n",
       "      <td>2</td>\n",
       "      <td>Fighter Duals + OEA</td>\n",
       "      <td>16</td>\n",
       "      <td>8.5140</td>\n",
       "    </tr>\n",
       "    <tr>\n",
       "      <th>8</th>\n",
       "      <td>3</td>\n",
       "      <td>Fighter Big Sword + GWM</td>\n",
       "      <td>13</td>\n",
       "      <td>8.9388</td>\n",
       "    </tr>\n",
       "    <tr>\n",
       "      <th>9</th>\n",
       "      <td>3</td>\n",
       "      <td>Fighter Big Sword + GWM</td>\n",
       "      <td>16</td>\n",
       "      <td>6.9976</td>\n",
       "    </tr>\n",
       "    <tr>\n",
       "      <th>10</th>\n",
       "      <td>3</td>\n",
       "      <td>Fighter Duals + OEA</td>\n",
       "      <td>13</td>\n",
       "      <td>10.6696</td>\n",
       "    </tr>\n",
       "    <tr>\n",
       "      <th>11</th>\n",
       "      <td>3</td>\n",
       "      <td>Fighter Duals + OEA</td>\n",
       "      <td>16</td>\n",
       "      <td>8.7216</td>\n",
       "    </tr>\n",
       "    <tr>\n",
       "      <th>12</th>\n",
       "      <td>4</td>\n",
       "      <td>Fighter Big Sword + GWM</td>\n",
       "      <td>13</td>\n",
       "      <td>11.0304</td>\n",
       "    </tr>\n",
       "    <tr>\n",
       "      <th>13</th>\n",
       "      <td>4</td>\n",
       "      <td>Fighter Big Sword + GWM</td>\n",
       "      <td>16</td>\n",
       "      <td>7.2716</td>\n",
       "    </tr>\n",
       "    <tr>\n",
       "      <th>14</th>\n",
       "      <td>4</td>\n",
       "      <td>Fighter Duals + OEA</td>\n",
       "      <td>13</td>\n",
       "      <td>16.0424</td>\n",
       "    </tr>\n",
       "    <tr>\n",
       "      <th>15</th>\n",
       "      <td>4</td>\n",
       "      <td>Fighter Duals + OEA</td>\n",
       "      <td>16</td>\n",
       "      <td>12.5364</td>\n",
       "    </tr>\n",
       "    <tr>\n",
       "      <th>16</th>\n",
       "      <td>5</td>\n",
       "      <td>Fighter Big Sword + GWM</td>\n",
       "      <td>13</td>\n",
       "      <td>24.4476</td>\n",
       "    </tr>\n",
       "    <tr>\n",
       "      <th>17</th>\n",
       "      <td>5</td>\n",
       "      <td>Fighter Big Sword + GWM</td>\n",
       "      <td>16</td>\n",
       "      <td>16.9240</td>\n",
       "    </tr>\n",
       "    <tr>\n",
       "      <th>18</th>\n",
       "      <td>5</td>\n",
       "      <td>Fighter Duals + OEA</td>\n",
       "      <td>13</td>\n",
       "      <td>23.2584</td>\n",
       "    </tr>\n",
       "    <tr>\n",
       "      <th>19</th>\n",
       "      <td>5</td>\n",
       "      <td>Fighter Duals + OEA</td>\n",
       "      <td>16</td>\n",
       "      <td>18.3036</td>\n",
       "    </tr>\n",
       "    <tr>\n",
       "      <th>20</th>\n",
       "      <td>6</td>\n",
       "      <td>Fighter Big Sword + GWM</td>\n",
       "      <td>13</td>\n",
       "      <td>23.6404</td>\n",
       "    </tr>\n",
       "    <tr>\n",
       "      <th>21</th>\n",
       "      <td>6</td>\n",
       "      <td>Fighter Big Sword + GWM</td>\n",
       "      <td>16</td>\n",
       "      <td>16.9496</td>\n",
       "    </tr>\n",
       "    <tr>\n",
       "      <th>22</th>\n",
       "      <td>6</td>\n",
       "      <td>Fighter Duals + OEA</td>\n",
       "      <td>13</td>\n",
       "      <td>23.2588</td>\n",
       "    </tr>\n",
       "    <tr>\n",
       "      <th>23</th>\n",
       "      <td>6</td>\n",
       "      <td>Fighter Duals + OEA</td>\n",
       "      <td>16</td>\n",
       "      <td>19.0892</td>\n",
       "    </tr>\n",
       "    <tr>\n",
       "      <th>24</th>\n",
       "      <td>7</td>\n",
       "      <td>Fighter Big Sword + GWM</td>\n",
       "      <td>13</td>\n",
       "      <td>28.2956</td>\n",
       "    </tr>\n",
       "    <tr>\n",
       "      <th>25</th>\n",
       "      <td>7</td>\n",
       "      <td>Fighter Big Sword + GWM</td>\n",
       "      <td>16</td>\n",
       "      <td>19.9784</td>\n",
       "    </tr>\n",
       "    <tr>\n",
       "      <th>26</th>\n",
       "      <td>7</td>\n",
       "      <td>Fighter Duals + OEA</td>\n",
       "      <td>13</td>\n",
       "      <td>28.3808</td>\n",
       "    </tr>\n",
       "    <tr>\n",
       "      <th>27</th>\n",
       "      <td>7</td>\n",
       "      <td>Fighter Duals + OEA</td>\n",
       "      <td>16</td>\n",
       "      <td>22.8908</td>\n",
       "    </tr>\n",
       "    <tr>\n",
       "      <th>28</th>\n",
       "      <td>8</td>\n",
       "      <td>Fighter Big Sword + GWM</td>\n",
       "      <td>13</td>\n",
       "      <td>27.6564</td>\n",
       "    </tr>\n",
       "    <tr>\n",
       "      <th>29</th>\n",
       "      <td>8</td>\n",
       "      <td>Fighter Big Sword + GWM</td>\n",
       "      <td>16</td>\n",
       "      <td>20.6108</td>\n",
       "    </tr>\n",
       "    <tr>\n",
       "      <th>30</th>\n",
       "      <td>8</td>\n",
       "      <td>Fighter Duals + OEA</td>\n",
       "      <td>13</td>\n",
       "      <td>27.7372</td>\n",
       "    </tr>\n",
       "    <tr>\n",
       "      <th>31</th>\n",
       "      <td>8</td>\n",
       "      <td>Fighter Duals + OEA</td>\n",
       "      <td>16</td>\n",
       "      <td>22.7124</td>\n",
       "    </tr>\n",
       "    <tr>\n",
       "      <th>32</th>\n",
       "      <td>9</td>\n",
       "      <td>Fighter Big Sword + GWM</td>\n",
       "      <td>13</td>\n",
       "      <td>29.5308</td>\n",
       "    </tr>\n",
       "    <tr>\n",
       "      <th>33</th>\n",
       "      <td>9</td>\n",
       "      <td>Fighter Big Sword + GWM</td>\n",
       "      <td>16</td>\n",
       "      <td>22.5204</td>\n",
       "    </tr>\n",
       "    <tr>\n",
       "      <th>34</th>\n",
       "      <td>9</td>\n",
       "      <td>Fighter Duals + OEA</td>\n",
       "      <td>13</td>\n",
       "      <td>29.7544</td>\n",
       "    </tr>\n",
       "    <tr>\n",
       "      <th>35</th>\n",
       "      <td>9</td>\n",
       "      <td>Fighter Duals + OEA</td>\n",
       "      <td>16</td>\n",
       "      <td>24.7020</td>\n",
       "    </tr>\n",
       "    <tr>\n",
       "      <th>36</th>\n",
       "      <td>10</td>\n",
       "      <td>Fighter Big Sword + GWM</td>\n",
       "      <td>13</td>\n",
       "      <td>29.6580</td>\n",
       "    </tr>\n",
       "    <tr>\n",
       "      <th>37</th>\n",
       "      <td>10</td>\n",
       "      <td>Fighter Big Sword + GWM</td>\n",
       "      <td>16</td>\n",
       "      <td>21.9976</td>\n",
       "    </tr>\n",
       "    <tr>\n",
       "      <th>38</th>\n",
       "      <td>10</td>\n",
       "      <td>Fighter Duals + OEA</td>\n",
       "      <td>13</td>\n",
       "      <td>29.6668</td>\n",
       "    </tr>\n",
       "    <tr>\n",
       "      <th>39</th>\n",
       "      <td>10</td>\n",
       "      <td>Fighter Duals + OEA</td>\n",
       "      <td>16</td>\n",
       "      <td>24.7932</td>\n",
       "    </tr>\n",
       "    <tr>\n",
       "      <th>40</th>\n",
       "      <td>11</td>\n",
       "      <td>Fighter Big Sword + GWM</td>\n",
       "      <td>13</td>\n",
       "      <td>34.1768</td>\n",
       "    </tr>\n",
       "    <tr>\n",
       "      <th>41</th>\n",
       "      <td>11</td>\n",
       "      <td>Fighter Big Sword + GWM</td>\n",
       "      <td>16</td>\n",
       "      <td>26.4928</td>\n",
       "    </tr>\n",
       "    <tr>\n",
       "      <th>42</th>\n",
       "      <td>11</td>\n",
       "      <td>Fighter Duals + OEA</td>\n",
       "      <td>13</td>\n",
       "      <td>34.6856</td>\n",
       "    </tr>\n",
       "    <tr>\n",
       "      <th>43</th>\n",
       "      <td>11</td>\n",
       "      <td>Fighter Duals + OEA</td>\n",
       "      <td>16</td>\n",
       "      <td>29.4720</td>\n",
       "    </tr>\n",
       "    <tr>\n",
       "      <th>44</th>\n",
       "      <td>12</td>\n",
       "      <td>Fighter Big Sword + GWM</td>\n",
       "      <td>13</td>\n",
       "      <td>33.6192</td>\n",
       "    </tr>\n",
       "    <tr>\n",
       "      <th>45</th>\n",
       "      <td>12</td>\n",
       "      <td>Fighter Big Sword + GWM</td>\n",
       "      <td>16</td>\n",
       "      <td>25.9656</td>\n",
       "    </tr>\n",
       "    <tr>\n",
       "      <th>46</th>\n",
       "      <td>12</td>\n",
       "      <td>Fighter Duals + OEA</td>\n",
       "      <td>13</td>\n",
       "      <td>34.8340</td>\n",
       "    </tr>\n",
       "    <tr>\n",
       "      <th>47</th>\n",
       "      <td>12</td>\n",
       "      <td>Fighter Duals + OEA</td>\n",
       "      <td>16</td>\n",
       "      <td>28.8612</td>\n",
       "    </tr>\n",
       "  </tbody>\n",
       "</table>\n",
       "</div>"
      ]
     },
     "execution_count": 3,
     "metadata": {},
     "output_type": "execute_result"
    }
   ],
   "execution_count": 3
  },
  {
   "cell_type": "code",
   "id": "162c229570acd6d7",
   "metadata": {
    "ExecuteTime": {
     "end_time": "2024-11-14T21:44:21.164623Z",
     "start_time": "2024-11-14T21:44:21.154089Z"
    }
   },
   "source": [
    "fig = get_plot(df_overall)\n",
    "fig.show()"
   ],
   "outputs": [
    {
     "data": {
      "application/vnd.plotly.v1+json": {
       "data": [
        {
         "line": {
          "color": "rgb(228,26,28)"
         },
         "mode": "lines+markers",
         "name": "AC13 Fighter Big Sword + GWM",
         "x": [
          1,
          2,
          3,
          4,
          5,
          6,
          7,
          8,
          9,
          10,
          11,
          12
         ],
         "y": [
          8.984,
          9.1492,
          8.938799999999999,
          11.0304,
          24.447599999999998,
          23.640400000000003,
          28.2956,
          27.6564,
          29.5308,
          29.658,
          34.1768,
          33.6192
         ],
         "type": "scatter"
        },
        {
         "line": {
          "color": "rgb(55,126,184)"
         },
         "mode": "lines+markers",
         "name": "AC16 Fighter Big Sword + GWM",
         "x": [
          1,
          2,
          3,
          4,
          5,
          6,
          7,
          8,
          9,
          10,
          11,
          12
         ],
         "y": [
          6.9764,
          7.0904,
          6.9976,
          7.2716,
          16.924,
          16.9496,
          19.9784,
          20.610799999999998,
          22.520400000000002,
          21.9976,
          26.4928,
          25.9656
         ],
         "type": "scatter"
        },
        {
         "line": {
          "color": "rgb(77,175,74)"
         },
         "mode": "lines+markers",
         "name": "AC13 Fighter Duals + OEA",
         "x": [
          1,
          2,
          3,
          4,
          5,
          6,
          7,
          8,
          9,
          10,
          11,
          12
         ],
         "y": [
          11.0588,
          10.798399999999999,
          10.6696,
          16.0424,
          23.2584,
          23.2588,
          28.3808,
          27.7372,
          29.7544,
          29.6668,
          34.6856,
          34.834
         ],
         "type": "scatter"
        },
        {
         "line": {
          "color": "rgb(152,78,163)"
         },
         "mode": "lines+markers",
         "name": "AC16 Fighter Duals + OEA",
         "x": [
          1,
          2,
          3,
          4,
          5,
          6,
          7,
          8,
          9,
          10,
          11,
          12
         ],
         "y": [
          8.4568,
          8.514,
          8.7216,
          12.5364,
          18.3036,
          19.0892,
          22.8908,
          22.712400000000002,
          24.702,
          24.793200000000002,
          29.472,
          28.8612
         ],
         "type": "scatter"
        }
       ],
       "layout": {
        "template": {
         "data": {
          "histogram2dcontour": [
           {
            "type": "histogram2dcontour",
            "colorbar": {
             "outlinewidth": 0,
             "ticks": ""
            },
            "colorscale": [
             [
              0.0,
              "#0d0887"
             ],
             [
              0.1111111111111111,
              "#46039f"
             ],
             [
              0.2222222222222222,
              "#7201a8"
             ],
             [
              0.3333333333333333,
              "#9c179e"
             ],
             [
              0.4444444444444444,
              "#bd3786"
             ],
             [
              0.5555555555555556,
              "#d8576b"
             ],
             [
              0.6666666666666666,
              "#ed7953"
             ],
             [
              0.7777777777777778,
              "#fb9f3a"
             ],
             [
              0.8888888888888888,
              "#fdca26"
             ],
             [
              1.0,
              "#f0f921"
             ]
            ]
           }
          ],
          "choropleth": [
           {
            "type": "choropleth",
            "colorbar": {
             "outlinewidth": 0,
             "ticks": ""
            }
           }
          ],
          "histogram2d": [
           {
            "type": "histogram2d",
            "colorbar": {
             "outlinewidth": 0,
             "ticks": ""
            },
            "colorscale": [
             [
              0.0,
              "#0d0887"
             ],
             [
              0.1111111111111111,
              "#46039f"
             ],
             [
              0.2222222222222222,
              "#7201a8"
             ],
             [
              0.3333333333333333,
              "#9c179e"
             ],
             [
              0.4444444444444444,
              "#bd3786"
             ],
             [
              0.5555555555555556,
              "#d8576b"
             ],
             [
              0.6666666666666666,
              "#ed7953"
             ],
             [
              0.7777777777777778,
              "#fb9f3a"
             ],
             [
              0.8888888888888888,
              "#fdca26"
             ],
             [
              1.0,
              "#f0f921"
             ]
            ]
           }
          ],
          "heatmap": [
           {
            "type": "heatmap",
            "colorbar": {
             "outlinewidth": 0,
             "ticks": ""
            },
            "colorscale": [
             [
              0.0,
              "#0d0887"
             ],
             [
              0.1111111111111111,
              "#46039f"
             ],
             [
              0.2222222222222222,
              "#7201a8"
             ],
             [
              0.3333333333333333,
              "#9c179e"
             ],
             [
              0.4444444444444444,
              "#bd3786"
             ],
             [
              0.5555555555555556,
              "#d8576b"
             ],
             [
              0.6666666666666666,
              "#ed7953"
             ],
             [
              0.7777777777777778,
              "#fb9f3a"
             ],
             [
              0.8888888888888888,
              "#fdca26"
             ],
             [
              1.0,
              "#f0f921"
             ]
            ]
           }
          ],
          "heatmapgl": [
           {
            "type": "heatmapgl",
            "colorbar": {
             "outlinewidth": 0,
             "ticks": ""
            },
            "colorscale": [
             [
              0.0,
              "#0d0887"
             ],
             [
              0.1111111111111111,
              "#46039f"
             ],
             [
              0.2222222222222222,
              "#7201a8"
             ],
             [
              0.3333333333333333,
              "#9c179e"
             ],
             [
              0.4444444444444444,
              "#bd3786"
             ],
             [
              0.5555555555555556,
              "#d8576b"
             ],
             [
              0.6666666666666666,
              "#ed7953"
             ],
             [
              0.7777777777777778,
              "#fb9f3a"
             ],
             [
              0.8888888888888888,
              "#fdca26"
             ],
             [
              1.0,
              "#f0f921"
             ]
            ]
           }
          ],
          "contourcarpet": [
           {
            "type": "contourcarpet",
            "colorbar": {
             "outlinewidth": 0,
             "ticks": ""
            }
           }
          ],
          "contour": [
           {
            "type": "contour",
            "colorbar": {
             "outlinewidth": 0,
             "ticks": ""
            },
            "colorscale": [
             [
              0.0,
              "#0d0887"
             ],
             [
              0.1111111111111111,
              "#46039f"
             ],
             [
              0.2222222222222222,
              "#7201a8"
             ],
             [
              0.3333333333333333,
              "#9c179e"
             ],
             [
              0.4444444444444444,
              "#bd3786"
             ],
             [
              0.5555555555555556,
              "#d8576b"
             ],
             [
              0.6666666666666666,
              "#ed7953"
             ],
             [
              0.7777777777777778,
              "#fb9f3a"
             ],
             [
              0.8888888888888888,
              "#fdca26"
             ],
             [
              1.0,
              "#f0f921"
             ]
            ]
           }
          ],
          "surface": [
           {
            "type": "surface",
            "colorbar": {
             "outlinewidth": 0,
             "ticks": ""
            },
            "colorscale": [
             [
              0.0,
              "#0d0887"
             ],
             [
              0.1111111111111111,
              "#46039f"
             ],
             [
              0.2222222222222222,
              "#7201a8"
             ],
             [
              0.3333333333333333,
              "#9c179e"
             ],
             [
              0.4444444444444444,
              "#bd3786"
             ],
             [
              0.5555555555555556,
              "#d8576b"
             ],
             [
              0.6666666666666666,
              "#ed7953"
             ],
             [
              0.7777777777777778,
              "#fb9f3a"
             ],
             [
              0.8888888888888888,
              "#fdca26"
             ],
             [
              1.0,
              "#f0f921"
             ]
            ]
           }
          ],
          "mesh3d": [
           {
            "type": "mesh3d",
            "colorbar": {
             "outlinewidth": 0,
             "ticks": ""
            }
           }
          ],
          "scatter": [
           {
            "fillpattern": {
             "fillmode": "overlay",
             "size": 10,
             "solidity": 0.2
            },
            "type": "scatter"
           }
          ],
          "parcoords": [
           {
            "type": "parcoords",
            "line": {
             "colorbar": {
              "outlinewidth": 0,
              "ticks": ""
             }
            }
           }
          ],
          "scatterpolargl": [
           {
            "type": "scatterpolargl",
            "marker": {
             "colorbar": {
              "outlinewidth": 0,
              "ticks": ""
             }
            }
           }
          ],
          "bar": [
           {
            "error_x": {
             "color": "#2a3f5f"
            },
            "error_y": {
             "color": "#2a3f5f"
            },
            "marker": {
             "line": {
              "color": "#E5ECF6",
              "width": 0.5
             },
             "pattern": {
              "fillmode": "overlay",
              "size": 10,
              "solidity": 0.2
             }
            },
            "type": "bar"
           }
          ],
          "scattergeo": [
           {
            "type": "scattergeo",
            "marker": {
             "colorbar": {
              "outlinewidth": 0,
              "ticks": ""
             }
            }
           }
          ],
          "scatterpolar": [
           {
            "type": "scatterpolar",
            "marker": {
             "colorbar": {
              "outlinewidth": 0,
              "ticks": ""
             }
            }
           }
          ],
          "histogram": [
           {
            "marker": {
             "pattern": {
              "fillmode": "overlay",
              "size": 10,
              "solidity": 0.2
             }
            },
            "type": "histogram"
           }
          ],
          "scattergl": [
           {
            "type": "scattergl",
            "marker": {
             "colorbar": {
              "outlinewidth": 0,
              "ticks": ""
             }
            }
           }
          ],
          "scatter3d": [
           {
            "type": "scatter3d",
            "line": {
             "colorbar": {
              "outlinewidth": 0,
              "ticks": ""
             }
            },
            "marker": {
             "colorbar": {
              "outlinewidth": 0,
              "ticks": ""
             }
            }
           }
          ],
          "scattermapbox": [
           {
            "type": "scattermapbox",
            "marker": {
             "colorbar": {
              "outlinewidth": 0,
              "ticks": ""
             }
            }
           }
          ],
          "scatterternary": [
           {
            "type": "scatterternary",
            "marker": {
             "colorbar": {
              "outlinewidth": 0,
              "ticks": ""
             }
            }
           }
          ],
          "scattercarpet": [
           {
            "type": "scattercarpet",
            "marker": {
             "colorbar": {
              "outlinewidth": 0,
              "ticks": ""
             }
            }
           }
          ],
          "carpet": [
           {
            "aaxis": {
             "endlinecolor": "#2a3f5f",
             "gridcolor": "white",
             "linecolor": "white",
             "minorgridcolor": "white",
             "startlinecolor": "#2a3f5f"
            },
            "baxis": {
             "endlinecolor": "#2a3f5f",
             "gridcolor": "white",
             "linecolor": "white",
             "minorgridcolor": "white",
             "startlinecolor": "#2a3f5f"
            },
            "type": "carpet"
           }
          ],
          "table": [
           {
            "cells": {
             "fill": {
              "color": "#EBF0F8"
             },
             "line": {
              "color": "white"
             }
            },
            "header": {
             "fill": {
              "color": "#C8D4E3"
             },
             "line": {
              "color": "white"
             }
            },
            "type": "table"
           }
          ],
          "barpolar": [
           {
            "marker": {
             "line": {
              "color": "#E5ECF6",
              "width": 0.5
             },
             "pattern": {
              "fillmode": "overlay",
              "size": 10,
              "solidity": 0.2
             }
            },
            "type": "barpolar"
           }
          ],
          "pie": [
           {
            "automargin": true,
            "type": "pie"
           }
          ]
         },
         "layout": {
          "autotypenumbers": "strict",
          "colorway": [
           "#636efa",
           "#EF553B",
           "#00cc96",
           "#ab63fa",
           "#FFA15A",
           "#19d3f3",
           "#FF6692",
           "#B6E880",
           "#FF97FF",
           "#FECB52"
          ],
          "font": {
           "color": "#2a3f5f"
          },
          "hovermode": "closest",
          "hoverlabel": {
           "align": "left"
          },
          "paper_bgcolor": "white",
          "plot_bgcolor": "#E5ECF6",
          "polar": {
           "bgcolor": "#E5ECF6",
           "angularaxis": {
            "gridcolor": "white",
            "linecolor": "white",
            "ticks": ""
           },
           "radialaxis": {
            "gridcolor": "white",
            "linecolor": "white",
            "ticks": ""
           }
          },
          "ternary": {
           "bgcolor": "#E5ECF6",
           "aaxis": {
            "gridcolor": "white",
            "linecolor": "white",
            "ticks": ""
           },
           "baxis": {
            "gridcolor": "white",
            "linecolor": "white",
            "ticks": ""
           },
           "caxis": {
            "gridcolor": "white",
            "linecolor": "white",
            "ticks": ""
           }
          },
          "coloraxis": {
           "colorbar": {
            "outlinewidth": 0,
            "ticks": ""
           }
          },
          "colorscale": {
           "sequential": [
            [
             0.0,
             "#0d0887"
            ],
            [
             0.1111111111111111,
             "#46039f"
            ],
            [
             0.2222222222222222,
             "#7201a8"
            ],
            [
             0.3333333333333333,
             "#9c179e"
            ],
            [
             0.4444444444444444,
             "#bd3786"
            ],
            [
             0.5555555555555556,
             "#d8576b"
            ],
            [
             0.6666666666666666,
             "#ed7953"
            ],
            [
             0.7777777777777778,
             "#fb9f3a"
            ],
            [
             0.8888888888888888,
             "#fdca26"
            ],
            [
             1.0,
             "#f0f921"
            ]
           ],
           "sequentialminus": [
            [
             0.0,
             "#0d0887"
            ],
            [
             0.1111111111111111,
             "#46039f"
            ],
            [
             0.2222222222222222,
             "#7201a8"
            ],
            [
             0.3333333333333333,
             "#9c179e"
            ],
            [
             0.4444444444444444,
             "#bd3786"
            ],
            [
             0.5555555555555556,
             "#d8576b"
            ],
            [
             0.6666666666666666,
             "#ed7953"
            ],
            [
             0.7777777777777778,
             "#fb9f3a"
            ],
            [
             0.8888888888888888,
             "#fdca26"
            ],
            [
             1.0,
             "#f0f921"
            ]
           ],
           "diverging": [
            [
             0,
             "#8e0152"
            ],
            [
             0.1,
             "#c51b7d"
            ],
            [
             0.2,
             "#de77ae"
            ],
            [
             0.3,
             "#f1b6da"
            ],
            [
             0.4,
             "#fde0ef"
            ],
            [
             0.5,
             "#f7f7f7"
            ],
            [
             0.6,
             "#e6f5d0"
            ],
            [
             0.7,
             "#b8e186"
            ],
            [
             0.8,
             "#7fbc41"
            ],
            [
             0.9,
             "#4d9221"
            ],
            [
             1,
             "#276419"
            ]
           ]
          },
          "xaxis": {
           "gridcolor": "white",
           "linecolor": "white",
           "ticks": "",
           "title": {
            "standoff": 15
           },
           "zerolinecolor": "white",
           "automargin": true,
           "zerolinewidth": 2
          },
          "yaxis": {
           "gridcolor": "white",
           "linecolor": "white",
           "ticks": "",
           "title": {
            "standoff": 15
           },
           "zerolinecolor": "white",
           "automargin": true,
           "zerolinewidth": 2
          },
          "scene": {
           "xaxis": {
            "backgroundcolor": "#E5ECF6",
            "gridcolor": "white",
            "linecolor": "white",
            "showbackground": true,
            "ticks": "",
            "zerolinecolor": "white",
            "gridwidth": 2
           },
           "yaxis": {
            "backgroundcolor": "#E5ECF6",
            "gridcolor": "white",
            "linecolor": "white",
            "showbackground": true,
            "ticks": "",
            "zerolinecolor": "white",
            "gridwidth": 2
           },
           "zaxis": {
            "backgroundcolor": "#E5ECF6",
            "gridcolor": "white",
            "linecolor": "white",
            "showbackground": true,
            "ticks": "",
            "zerolinecolor": "white",
            "gridwidth": 2
           }
          },
          "shapedefaults": {
           "line": {
            "color": "#2a3f5f"
           }
          },
          "annotationdefaults": {
           "arrowcolor": "#2a3f5f",
           "arrowhead": 0,
           "arrowwidth": 1
          },
          "geo": {
           "bgcolor": "white",
           "landcolor": "#E5ECF6",
           "subunitcolor": "white",
           "showland": true,
           "showlakes": true,
           "lakecolor": "white"
          },
          "title": {
           "x": 0.05
          },
          "mapbox": {
           "style": "light"
          }
         }
        },
        "height": 800
       },
       "config": {
        "plotlyServerURL": "https://plot.ly"
       }
      },
      "text/html": [
       "<div>                            <div id=\"fa9672e0-5964-4b93-a75a-e85d2fc0d5e0\" class=\"plotly-graph-div\" style=\"height:800px; width:100%;\"></div>            <script type=\"text/javascript\">                require([\"plotly\"], function(Plotly) {                    window.PLOTLYENV=window.PLOTLYENV || {};                                    if (document.getElementById(\"fa9672e0-5964-4b93-a75a-e85d2fc0d5e0\")) {                    Plotly.newPlot(                        \"fa9672e0-5964-4b93-a75a-e85d2fc0d5e0\",                        [{\"line\":{\"color\":\"rgb(228,26,28)\"},\"mode\":\"lines+markers\",\"name\":\"AC13 Fighter Big Sword + GWM\",\"x\":[1,2,3,4,5,6,7,8,9,10,11,12],\"y\":[8.984,9.1492,8.938799999999999,11.0304,24.447599999999998,23.640400000000003,28.2956,27.6564,29.5308,29.658,34.1768,33.6192],\"type\":\"scatter\"},{\"line\":{\"color\":\"rgb(55,126,184)\"},\"mode\":\"lines+markers\",\"name\":\"AC16 Fighter Big Sword + GWM\",\"x\":[1,2,3,4,5,6,7,8,9,10,11,12],\"y\":[6.9764,7.0904,6.9976,7.2716,16.924,16.9496,19.9784,20.610799999999998,22.520400000000002,21.9976,26.4928,25.9656],\"type\":\"scatter\"},{\"line\":{\"color\":\"rgb(77,175,74)\"},\"mode\":\"lines+markers\",\"name\":\"AC13 Fighter Duals + OEA\",\"x\":[1,2,3,4,5,6,7,8,9,10,11,12],\"y\":[11.0588,10.798399999999999,10.6696,16.0424,23.2584,23.2588,28.3808,27.7372,29.7544,29.6668,34.6856,34.834],\"type\":\"scatter\"},{\"line\":{\"color\":\"rgb(152,78,163)\"},\"mode\":\"lines+markers\",\"name\":\"AC16 Fighter Duals + OEA\",\"x\":[1,2,3,4,5,6,7,8,9,10,11,12],\"y\":[8.4568,8.514,8.7216,12.5364,18.3036,19.0892,22.8908,22.712400000000002,24.702,24.793200000000002,29.472,28.8612],\"type\":\"scatter\"}],                        {\"template\":{\"data\":{\"histogram2dcontour\":[{\"type\":\"histogram2dcontour\",\"colorbar\":{\"outlinewidth\":0,\"ticks\":\"\"},\"colorscale\":[[0.0,\"#0d0887\"],[0.1111111111111111,\"#46039f\"],[0.2222222222222222,\"#7201a8\"],[0.3333333333333333,\"#9c179e\"],[0.4444444444444444,\"#bd3786\"],[0.5555555555555556,\"#d8576b\"],[0.6666666666666666,\"#ed7953\"],[0.7777777777777778,\"#fb9f3a\"],[0.8888888888888888,\"#fdca26\"],[1.0,\"#f0f921\"]]}],\"choropleth\":[{\"type\":\"choropleth\",\"colorbar\":{\"outlinewidth\":0,\"ticks\":\"\"}}],\"histogram2d\":[{\"type\":\"histogram2d\",\"colorbar\":{\"outlinewidth\":0,\"ticks\":\"\"},\"colorscale\":[[0.0,\"#0d0887\"],[0.1111111111111111,\"#46039f\"],[0.2222222222222222,\"#7201a8\"],[0.3333333333333333,\"#9c179e\"],[0.4444444444444444,\"#bd3786\"],[0.5555555555555556,\"#d8576b\"],[0.6666666666666666,\"#ed7953\"],[0.7777777777777778,\"#fb9f3a\"],[0.8888888888888888,\"#fdca26\"],[1.0,\"#f0f921\"]]}],\"heatmap\":[{\"type\":\"heatmap\",\"colorbar\":{\"outlinewidth\":0,\"ticks\":\"\"},\"colorscale\":[[0.0,\"#0d0887\"],[0.1111111111111111,\"#46039f\"],[0.2222222222222222,\"#7201a8\"],[0.3333333333333333,\"#9c179e\"],[0.4444444444444444,\"#bd3786\"],[0.5555555555555556,\"#d8576b\"],[0.6666666666666666,\"#ed7953\"],[0.7777777777777778,\"#fb9f3a\"],[0.8888888888888888,\"#fdca26\"],[1.0,\"#f0f921\"]]}],\"heatmapgl\":[{\"type\":\"heatmapgl\",\"colorbar\":{\"outlinewidth\":0,\"ticks\":\"\"},\"colorscale\":[[0.0,\"#0d0887\"],[0.1111111111111111,\"#46039f\"],[0.2222222222222222,\"#7201a8\"],[0.3333333333333333,\"#9c179e\"],[0.4444444444444444,\"#bd3786\"],[0.5555555555555556,\"#d8576b\"],[0.6666666666666666,\"#ed7953\"],[0.7777777777777778,\"#fb9f3a\"],[0.8888888888888888,\"#fdca26\"],[1.0,\"#f0f921\"]]}],\"contourcarpet\":[{\"type\":\"contourcarpet\",\"colorbar\":{\"outlinewidth\":0,\"ticks\":\"\"}}],\"contour\":[{\"type\":\"contour\",\"colorbar\":{\"outlinewidth\":0,\"ticks\":\"\"},\"colorscale\":[[0.0,\"#0d0887\"],[0.1111111111111111,\"#46039f\"],[0.2222222222222222,\"#7201a8\"],[0.3333333333333333,\"#9c179e\"],[0.4444444444444444,\"#bd3786\"],[0.5555555555555556,\"#d8576b\"],[0.6666666666666666,\"#ed7953\"],[0.7777777777777778,\"#fb9f3a\"],[0.8888888888888888,\"#fdca26\"],[1.0,\"#f0f921\"]]}],\"surface\":[{\"type\":\"surface\",\"colorbar\":{\"outlinewidth\":0,\"ticks\":\"\"},\"colorscale\":[[0.0,\"#0d0887\"],[0.1111111111111111,\"#46039f\"],[0.2222222222222222,\"#7201a8\"],[0.3333333333333333,\"#9c179e\"],[0.4444444444444444,\"#bd3786\"],[0.5555555555555556,\"#d8576b\"],[0.6666666666666666,\"#ed7953\"],[0.7777777777777778,\"#fb9f3a\"],[0.8888888888888888,\"#fdca26\"],[1.0,\"#f0f921\"]]}],\"mesh3d\":[{\"type\":\"mesh3d\",\"colorbar\":{\"outlinewidth\":0,\"ticks\":\"\"}}],\"scatter\":[{\"fillpattern\":{\"fillmode\":\"overlay\",\"size\":10,\"solidity\":0.2},\"type\":\"scatter\"}],\"parcoords\":[{\"type\":\"parcoords\",\"line\":{\"colorbar\":{\"outlinewidth\":0,\"ticks\":\"\"}}}],\"scatterpolargl\":[{\"type\":\"scatterpolargl\",\"marker\":{\"colorbar\":{\"outlinewidth\":0,\"ticks\":\"\"}}}],\"bar\":[{\"error_x\":{\"color\":\"#2a3f5f\"},\"error_y\":{\"color\":\"#2a3f5f\"},\"marker\":{\"line\":{\"color\":\"#E5ECF6\",\"width\":0.5},\"pattern\":{\"fillmode\":\"overlay\",\"size\":10,\"solidity\":0.2}},\"type\":\"bar\"}],\"scattergeo\":[{\"type\":\"scattergeo\",\"marker\":{\"colorbar\":{\"outlinewidth\":0,\"ticks\":\"\"}}}],\"scatterpolar\":[{\"type\":\"scatterpolar\",\"marker\":{\"colorbar\":{\"outlinewidth\":0,\"ticks\":\"\"}}}],\"histogram\":[{\"marker\":{\"pattern\":{\"fillmode\":\"overlay\",\"size\":10,\"solidity\":0.2}},\"type\":\"histogram\"}],\"scattergl\":[{\"type\":\"scattergl\",\"marker\":{\"colorbar\":{\"outlinewidth\":0,\"ticks\":\"\"}}}],\"scatter3d\":[{\"type\":\"scatter3d\",\"line\":{\"colorbar\":{\"outlinewidth\":0,\"ticks\":\"\"}},\"marker\":{\"colorbar\":{\"outlinewidth\":0,\"ticks\":\"\"}}}],\"scattermapbox\":[{\"type\":\"scattermapbox\",\"marker\":{\"colorbar\":{\"outlinewidth\":0,\"ticks\":\"\"}}}],\"scatterternary\":[{\"type\":\"scatterternary\",\"marker\":{\"colorbar\":{\"outlinewidth\":0,\"ticks\":\"\"}}}],\"scattercarpet\":[{\"type\":\"scattercarpet\",\"marker\":{\"colorbar\":{\"outlinewidth\":0,\"ticks\":\"\"}}}],\"carpet\":[{\"aaxis\":{\"endlinecolor\":\"#2a3f5f\",\"gridcolor\":\"white\",\"linecolor\":\"white\",\"minorgridcolor\":\"white\",\"startlinecolor\":\"#2a3f5f\"},\"baxis\":{\"endlinecolor\":\"#2a3f5f\",\"gridcolor\":\"white\",\"linecolor\":\"white\",\"minorgridcolor\":\"white\",\"startlinecolor\":\"#2a3f5f\"},\"type\":\"carpet\"}],\"table\":[{\"cells\":{\"fill\":{\"color\":\"#EBF0F8\"},\"line\":{\"color\":\"white\"}},\"header\":{\"fill\":{\"color\":\"#C8D4E3\"},\"line\":{\"color\":\"white\"}},\"type\":\"table\"}],\"barpolar\":[{\"marker\":{\"line\":{\"color\":\"#E5ECF6\",\"width\":0.5},\"pattern\":{\"fillmode\":\"overlay\",\"size\":10,\"solidity\":0.2}},\"type\":\"barpolar\"}],\"pie\":[{\"automargin\":true,\"type\":\"pie\"}]},\"layout\":{\"autotypenumbers\":\"strict\",\"colorway\":[\"#636efa\",\"#EF553B\",\"#00cc96\",\"#ab63fa\",\"#FFA15A\",\"#19d3f3\",\"#FF6692\",\"#B6E880\",\"#FF97FF\",\"#FECB52\"],\"font\":{\"color\":\"#2a3f5f\"},\"hovermode\":\"closest\",\"hoverlabel\":{\"align\":\"left\"},\"paper_bgcolor\":\"white\",\"plot_bgcolor\":\"#E5ECF6\",\"polar\":{\"bgcolor\":\"#E5ECF6\",\"angularaxis\":{\"gridcolor\":\"white\",\"linecolor\":\"white\",\"ticks\":\"\"},\"radialaxis\":{\"gridcolor\":\"white\",\"linecolor\":\"white\",\"ticks\":\"\"}},\"ternary\":{\"bgcolor\":\"#E5ECF6\",\"aaxis\":{\"gridcolor\":\"white\",\"linecolor\":\"white\",\"ticks\":\"\"},\"baxis\":{\"gridcolor\":\"white\",\"linecolor\":\"white\",\"ticks\":\"\"},\"caxis\":{\"gridcolor\":\"white\",\"linecolor\":\"white\",\"ticks\":\"\"}},\"coloraxis\":{\"colorbar\":{\"outlinewidth\":0,\"ticks\":\"\"}},\"colorscale\":{\"sequential\":[[0.0,\"#0d0887\"],[0.1111111111111111,\"#46039f\"],[0.2222222222222222,\"#7201a8\"],[0.3333333333333333,\"#9c179e\"],[0.4444444444444444,\"#bd3786\"],[0.5555555555555556,\"#d8576b\"],[0.6666666666666666,\"#ed7953\"],[0.7777777777777778,\"#fb9f3a\"],[0.8888888888888888,\"#fdca26\"],[1.0,\"#f0f921\"]],\"sequentialminus\":[[0.0,\"#0d0887\"],[0.1111111111111111,\"#46039f\"],[0.2222222222222222,\"#7201a8\"],[0.3333333333333333,\"#9c179e\"],[0.4444444444444444,\"#bd3786\"],[0.5555555555555556,\"#d8576b\"],[0.6666666666666666,\"#ed7953\"],[0.7777777777777778,\"#fb9f3a\"],[0.8888888888888888,\"#fdca26\"],[1.0,\"#f0f921\"]],\"diverging\":[[0,\"#8e0152\"],[0.1,\"#c51b7d\"],[0.2,\"#de77ae\"],[0.3,\"#f1b6da\"],[0.4,\"#fde0ef\"],[0.5,\"#f7f7f7\"],[0.6,\"#e6f5d0\"],[0.7,\"#b8e186\"],[0.8,\"#7fbc41\"],[0.9,\"#4d9221\"],[1,\"#276419\"]]},\"xaxis\":{\"gridcolor\":\"white\",\"linecolor\":\"white\",\"ticks\":\"\",\"title\":{\"standoff\":15},\"zerolinecolor\":\"white\",\"automargin\":true,\"zerolinewidth\":2},\"yaxis\":{\"gridcolor\":\"white\",\"linecolor\":\"white\",\"ticks\":\"\",\"title\":{\"standoff\":15},\"zerolinecolor\":\"white\",\"automargin\":true,\"zerolinewidth\":2},\"scene\":{\"xaxis\":{\"backgroundcolor\":\"#E5ECF6\",\"gridcolor\":\"white\",\"linecolor\":\"white\",\"showbackground\":true,\"ticks\":\"\",\"zerolinecolor\":\"white\",\"gridwidth\":2},\"yaxis\":{\"backgroundcolor\":\"#E5ECF6\",\"gridcolor\":\"white\",\"linecolor\":\"white\",\"showbackground\":true,\"ticks\":\"\",\"zerolinecolor\":\"white\",\"gridwidth\":2},\"zaxis\":{\"backgroundcolor\":\"#E5ECF6\",\"gridcolor\":\"white\",\"linecolor\":\"white\",\"showbackground\":true,\"ticks\":\"\",\"zerolinecolor\":\"white\",\"gridwidth\":2}},\"shapedefaults\":{\"line\":{\"color\":\"#2a3f5f\"}},\"annotationdefaults\":{\"arrowcolor\":\"#2a3f5f\",\"arrowhead\":0,\"arrowwidth\":1},\"geo\":{\"bgcolor\":\"white\",\"landcolor\":\"#E5ECF6\",\"subunitcolor\":\"white\",\"showland\":true,\"showlakes\":true,\"lakecolor\":\"white\"},\"title\":{\"x\":0.05},\"mapbox\":{\"style\":\"light\"}}},\"height\":800},                        {\"responsive\": true}                    ).then(function(){\n",
       "                            \n",
       "var gd = document.getElementById('fa9672e0-5964-4b93-a75a-e85d2fc0d5e0');\n",
       "var x = new MutationObserver(function (mutations, observer) {{\n",
       "        var display = window.getComputedStyle(gd).display;\n",
       "        if (!display || display === 'none') {{\n",
       "            console.log([gd, 'removed!']);\n",
       "            Plotly.purge(gd);\n",
       "            observer.disconnect();\n",
       "        }}\n",
       "}});\n",
       "\n",
       "// Listen for the removal of the full notebook cells\n",
       "var notebookContainer = gd.closest('#notebook-container');\n",
       "if (notebookContainer) {{\n",
       "    x.observe(notebookContainer, {childList: true});\n",
       "}}\n",
       "\n",
       "// Listen for the clearing of the current output cell\n",
       "var outputEl = gd.closest('.output');\n",
       "if (outputEl) {{\n",
       "    x.observe(outputEl, {childList: true});\n",
       "}}\n",
       "\n",
       "                        })                };                });            </script>        </div>"
      ]
     },
     "metadata": {},
     "output_type": "display_data"
    }
   ],
   "execution_count": 4
  }
 ],
 "metadata": {
  "kernelspec": {
   "display_name": "Python 3 (ipykernel)",
   "language": "python",
   "name": "python3"
  },
  "language_info": {
   "codemirror_mode": {
    "name": "ipython",
    "version": 3
   },
   "file_extension": ".py",
   "mimetype": "text/x-python",
   "name": "python",
   "nbconvert_exporter": "python",
   "pygments_lexer": "ipython3",
   "version": "3.13.0"
  }
 },
 "nbformat": 4,
 "nbformat_minor": 5
}
