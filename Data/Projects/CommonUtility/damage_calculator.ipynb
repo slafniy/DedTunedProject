{
 "cells": [
  {
   "metadata": {
    "ExecuteTime": {
     "end_time": "2024-11-09T16:33:46.729284Z",
     "start_time": "2024-11-09T16:33:46.726645Z"
    }
   },
   "cell_type": "code",
   "source": [
    "# def dice_avg(dice_size) -> float:\n",
    "#     return (dice_size + 1) / 2.0\n",
    "# \n",
    "# dice_avg(4), dice_avg(6), dice_avg(8), dice_avg(10), dice_avg(12)"
   ],
   "id": "149fd30c1aaec1ca",
   "outputs": [],
   "execution_count": 173
  },
  {
   "cell_type": "code",
   "id": "initial_id",
   "metadata": {
    "collapsed": true,
    "ExecuteTime": {
     "end_time": "2024-11-09T16:33:46.750722Z",
     "start_time": "2024-11-09T16:33:46.747244Z"
    }
   },
   "source": [
    "import math\n",
    "import random\n",
    "\n",
    "ATTACK_ROLL_DICE_SIZE = 20\n",
    "BASE_ABILITY_SIZE = 10\n",
    "DEFAULT_TARGET_AC = 15\n",
    "\n",
    "\n",
    "def roll_dice(dice_size=ATTACK_ROLL_DICE_SIZE) -> int:\n",
    "    return random.randint(1, dice_size)\n",
    "\n",
    "\n",
    "[roll_dice() for _ in range(10)]\n"
   ],
   "outputs": [
    {
     "data": {
      "text/plain": [
       "[6, 5, 3, 7, 2, 9, 16, 7, 11, 14]"
      ]
     },
     "execution_count": 174,
     "metadata": {},
     "output_type": "execute_result"
    }
   ],
   "execution_count": 174
  },
  {
   "metadata": {
    "ExecuteTime": {
     "end_time": "2024-11-09T16:33:46.765676Z",
     "start_time": "2024-11-09T16:33:46.763650Z"
    }
   },
   "cell_type": "code",
   "source": [
    "# def base_weapon_damage_avg(dice_size, dice_count=1, bonus=0):\n",
    "#     return (dice_avg(dice_size) + bonus) * dice_count\n",
    "# \n",
    "# base_weapon_damage_avg(10, bonus=1), base_weapon_damage_avg(6, bonus=1)"
   ],
   "id": "4af76d59c67b3841",
   "outputs": [],
   "execution_count": 175
  },
  {
   "metadata": {
    "ExecuteTime": {
     "end_time": "2024-11-09T16:33:46.785992Z",
     "start_time": "2024-11-09T16:33:46.781049Z"
    }
   },
   "cell_type": "code",
   "source": [
    "from dataclasses import dataclass\n",
    "\n",
    "\n",
    "@dataclass\n",
    "class Weapon:\n",
    "    name: str\n",
    "    dice_size: int\n",
    "    dice_count: int = 1\n",
    "    bonus: int = 0\n",
    "\n",
    "    def damage_roll(self, critical=False) -> int:\n",
    "        dice_count = self.dice_count * 2 if critical else self.dice_count\n",
    "        return sum([roll_dice(self.dice_size) for _ in range(dice_count)]) + self.bonus\n",
    "\n",
    "\n",
    "hand_crossbow_0 = Weapon(\"Hand Crossbow\", dice_size=6)\n",
    "hand_crossbow_1 = Weapon(\"Hand Crossbow +1\", dice_size=6, bonus=1)\n",
    "hand_crossbow_2 = Weapon(\"Hand Crossbow +2\", dice_size=6, bonus=2)\n",
    "heavy_crossbow_0 = Weapon(\"Heavy Crossbow\", dice_size=10)\n",
    "heavy_crossbow_1 = Weapon(\"Heavy Crossbow +1\", dice_size=10, bonus=1)\n",
    "heavy_crossbow_2 = Weapon(\"Heavy Crossbow +2\", dice_size=10, bonus=2)\n",
    "hand_crossbow_0.damage_roll(), hand_crossbow_0.damage_roll(), hand_crossbow_0.damage_roll(), hand_crossbow_0.damage_roll(\n",
    "    critical=True)"
   ],
   "id": "aae92c62c3de1807",
   "outputs": [
    {
     "data": {
      "text/plain": [
       "(2, 2, 4, 5)"
      ]
     },
     "execution_count": 176,
     "metadata": {},
     "output_type": "execute_result"
    }
   ],
   "execution_count": 176
  },
  {
   "metadata": {
    "ExecuteTime": {
     "end_time": "2024-11-09T16:33:46.827114Z",
     "start_time": "2024-11-09T16:33:46.823521Z"
    }
   },
   "cell_type": "code",
   "source": [
    "longbow_0 = Weapon(\"Longbow\", dice_size=8)\n",
    "longbow_1 = Weapon(\"Longbow\", dice_size=8, bonus=1)\n",
    "longbow_2 = Weapon(\"Longbow\", dice_size=8, bonus=2)\n",
    "longbow_3 = Weapon(\"Longbow\", dice_size=8, bonus=3)\n",
    "longbow_3.damage_roll(), longbow_3.damage_roll(critical=True)"
   ],
   "id": "2d2098b8ab764929",
   "outputs": [
    {
     "data": {
      "text/plain": [
       "(9, 5)"
      ]
     },
     "execution_count": 177,
     "metadata": {},
     "output_type": "execute_result"
    }
   ],
   "execution_count": 177
  },
  {
   "metadata": {
    "ExecuteTime": {
     "end_time": "2024-11-09T16:33:46.843400Z",
     "start_time": "2024-11-09T16:33:46.840224Z"
    }
   },
   "cell_type": "code",
   "source": [
    "heavy_crossbow_2.damage_roll(critical=True), heavy_crossbow_2.damage_roll(critical=True), heavy_crossbow_2.damage_roll(\n",
    "    critical=True),"
   ],
   "id": "bae74181ba3b314a",
   "outputs": [
    {
     "data": {
      "text/plain": [
       "(7, 14, 10)"
      ]
     },
     "execution_count": 178,
     "metadata": {},
     "output_type": "execute_result"
    }
   ],
   "execution_count": 178
  },
  {
   "metadata": {
    "ExecuteTime": {
     "end_time": "2024-11-09T16:33:46.870703Z",
     "start_time": "2024-11-09T16:33:46.868347Z"
    }
   },
   "cell_type": "code",
   "source": [
    "proficiency_bonus_on_level = {\n",
    "    1: 2,\n",
    "    2: 2,\n",
    "    3: 2,\n",
    "    4: 2,\n",
    "    5: 3,\n",
    "    6: 3,\n",
    "    7: 3,\n",
    "    8: 3,\n",
    "    9: 4,\n",
    "    10: 4,\n",
    "    11: 4,\n",
    "    12: 4\n",
    "}"
   ],
   "id": "3acdab201607cdbd",
   "outputs": [],
   "execution_count": 179
  },
  {
   "metadata": {
    "ExecuteTime": {
     "end_time": "2024-11-09T16:33:46.888266Z",
     "start_time": "2024-11-09T16:33:46.885505Z"
    }
   },
   "cell_type": "code",
   "source": [
    "main_ability_on_level_default = {\n",
    "    1: 17,\n",
    "    2: 17,\n",
    "    3: 18,\n",
    "    4: 18,\n",
    "    5: 18,\n",
    "    6: 19,\n",
    "    7: 19,\n",
    "    8: 19,\n",
    "    9: 20,\n",
    "    10: 20,\n",
    "    11: 20,\n",
    "    12: 21\n",
    "}"
   ],
   "id": "fb2279b2bc6db42",
   "outputs": [],
   "execution_count": 180
  },
  {
   "metadata": {
    "ExecuteTime": {
     "end_time": "2024-11-09T16:33:46.898587Z",
     "start_time": "2024-11-09T16:33:46.895207Z"
    }
   },
   "cell_type": "code",
   "source": [
    "import sys\n",
    "import logging\n",
    "from pathlib import Path\n",
    "\n",
    "logger = logging.Logger(\">>\")\n",
    "stream_handler = logging.StreamHandler(sys.stdout)\n",
    "stream_handler.setLevel(logging.DEBUG)\n",
    "formatter = logging.Formatter('%(asctime)s %(name)s [%(levelname)s]: %(message)s')\n",
    "stream_handler.setFormatter(formatter)\n",
    "logger.addHandler(stream_handler)\n",
    "\n",
    "path_to_log = Path(r\"C:\\Users\\slafniy\\Desktop\\bg3modding\\DedTunedProject\\Data\\Projects\\CommonUtility\\damage_calculator.log\")\n",
    "file_handler = logging.FileHandler(path_to_log)\n",
    "logger.addHandler(file_handler)"
   ],
   "id": "2ff8a3e716cab708",
   "outputs": [],
   "execution_count": 181
  },
  {
   "metadata": {
    "ExecuteTime": {
     "end_time": "2024-11-09T16:33:46.909775Z",
     "start_time": "2024-11-09T16:33:46.905187Z"
    }
   },
   "cell_type": "code",
   "source": [
    "class Character:\n",
    "    def __init__(self, name: str,\n",
    "                 level: int,\n",
    "                 weapon_main: Weapon,\n",
    "                 weapon_offhand: Weapon = None):\n",
    "        self.name = name\n",
    "        self.level = level\n",
    "        self.weapon_main = weapon_main\n",
    "        self.weapon_offhand = weapon_offhand\n",
    "        self.base_proficiency_bonus = proficiency_bonus_on_level[level]\n",
    "        self.ability_proficiency_bonus = int(math.floor((main_ability_on_level_default[level] - BASE_ABILITY_SIZE) / 2))\n",
    "\n",
    "    def do_attack(self, weapon: Weapon, target_ac) -> int:\n",
    "        attack_roll = roll_dice(ATTACK_ROLL_DICE_SIZE)\n",
    "        if attack_roll == 1:\n",
    "            logger.info(f\"{self.name} -> 0 damage, Critical miss!\")\n",
    "            return 0\n",
    "\n",
    "        if attack_roll == ATTACK_ROLL_DICE_SIZE:\n",
    "            res = weapon.damage_roll(critical=True)\n",
    "            logger.info(f\"{self.name} -> {res} damage, Critical hit!\")\n",
    "            return res\n",
    "        \n",
    "        attack_roll = attack_roll + self.base_proficiency_bonus + self.ability_proficiency_bonus + weapon.bonus\n",
    "        if attack_roll< target_ac:\n",
    "            logger.info(f\"{self.name} -> 0 damage, rolled {attack_roll} against {target_ac}\")\n",
    "            return 0\n",
    "        \n",
    "        res = weapon.damage_roll()\n",
    "        logger.info(f\"{self.name} -> {res} damage, rolled {attack_roll} against {target_ac}\")\n",
    "        return res\n",
    "\n",
    "    def main_hand_attack(self, target_ac=DEFAULT_TARGET_AC):\n",
    "        return self.do_attack(self.weapon_main, target_ac)\n",
    "    \n",
    "    def offhand_attack(self, target_ac=DEFAULT_TARGET_AC):\n",
    "        return self.do_attack(self.weapon_offhand, target_ac)\n",
    "\n"
   ],
   "id": "c4704e5389a8e7f6",
   "outputs": [],
   "execution_count": 182
  },
  {
   "metadata": {
    "ExecuteTime": {
     "end_time": "2024-11-09T16:34:23.388787Z",
     "start_time": "2024-11-09T16:34:23.376951Z"
    }
   },
   "cell_type": "code",
   "source": [
    "lvl2_hand_crossbow_shooter = Character(\"Hand crossbow user\", 2, hand_crossbow_1, hand_crossbow_1)\n",
    " \n",
    "[lvl2_hand_crossbow_shooter.main_hand_attack() for _ in range(20)]"
   ],
   "id": "fee6d3cebec7a220",
   "outputs": [
    {
     "name": "stdout",
     "output_type": "stream",
     "text": [
      "2024-11-09 20:34:23,378 >> [INFO]: Hand crossbow user -> 0 damage, rolled 8 against 15\n",
      "2024-11-09 20:34:23,379 >> [INFO]: Hand crossbow user -> 0 damage, rolled 11 against 15\n",
      "2024-11-09 20:34:23,379 >> [INFO]: Hand crossbow user -> 5 damage, rolled 23 against 15\n",
      "2024-11-09 20:34:23,379 >> [INFO]: Hand crossbow user -> 4 damage, rolled 21 against 15\n",
      "2024-11-09 20:34:23,380 >> [INFO]: Hand crossbow user -> 0 damage, rolled 8 against 15\n",
      "2024-11-09 20:34:23,380 >> [INFO]: Hand crossbow user -> 0 damage, rolled 13 against 15\n",
      "2024-11-09 20:34:23,381 >> [INFO]: Hand crossbow user -> 4 damage, rolled 22 against 15\n",
      "2024-11-09 20:34:23,381 >> [INFO]: Hand crossbow user -> 5 damage, rolled 25 against 15\n",
      "2024-11-09 20:34:23,381 >> [INFO]: Hand crossbow user -> 3 damage, rolled 20 against 15\n",
      "2024-11-09 20:34:23,382 >> [INFO]: Hand crossbow user -> 5 damage, rolled 18 against 15\n",
      "2024-11-09 20:34:23,382 >> [INFO]: Hand crossbow user -> 6 damage, rolled 16 against 15\n",
      "2024-11-09 20:34:23,382 >> [INFO]: Hand crossbow user -> 8 damage, Critical hit!\n",
      "2024-11-09 20:34:23,383 >> [INFO]: Hand crossbow user -> 2 damage, rolled 19 against 15\n",
      "2024-11-09 20:34:23,384 >> [INFO]: Hand crossbow user -> 7 damage, rolled 20 against 15\n",
      "2024-11-09 20:34:23,384 >> [INFO]: Hand crossbow user -> 7 damage, rolled 16 against 15\n",
      "2024-11-09 20:34:23,384 >> [INFO]: Hand crossbow user -> 4 damage, rolled 18 against 15\n",
      "2024-11-09 20:34:23,385 >> [INFO]: Hand crossbow user -> 6 damage, rolled 23 against 15\n",
      "2024-11-09 20:34:23,385 >> [INFO]: Hand crossbow user -> 3 damage, rolled 23 against 15\n",
      "2024-11-09 20:34:23,385 >> [INFO]: Hand crossbow user -> 0 damage, rolled 11 against 15\n",
      "2024-11-09 20:34:23,386 >> [INFO]: Hand crossbow user -> 2 damage, rolled 22 against 15\n"
     ]
    },
    {
     "data": {
      "text/plain": [
       "[0, 0, 5, 4, 0, 0, 4, 5, 3, 5, 6, 8, 2, 7, 7, 4, 6, 3, 0, 2]"
      ]
     },
     "execution_count": 184,
     "metadata": {},
     "output_type": "execute_result"
    }
   ],
   "execution_count": 184
  },
  {
   "metadata": {
    "ExecuteTime": {
     "end_time": "2024-11-09T16:33:46.946439Z",
     "start_time": "2024-11-09T16:33:46.944674Z"
    }
   },
   "cell_type": "code",
   "source": "",
   "id": "2f5af2ca33e0fdc",
   "outputs": [],
   "execution_count": null
  }
 ],
 "metadata": {
  "kernelspec": {
   "display_name": "Python 3",
   "language": "python",
   "name": "python3"
  },
  "language_info": {
   "codemirror_mode": {
    "name": "ipython",
    "version": 2
   },
   "file_extension": ".py",
   "mimetype": "text/x-python",
   "name": "python",
   "nbconvert_exporter": "python",
   "pygments_lexer": "ipython2",
   "version": "2.7.6"
  }
 },
 "nbformat": 4,
 "nbformat_minor": 5
}
