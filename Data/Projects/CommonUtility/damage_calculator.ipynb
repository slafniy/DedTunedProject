{
 "cells": [
  {
   "metadata": {
    "ExecuteTime": {
     "end_time": "2024-11-09T17:39:16.186041Z",
     "start_time": "2024-11-09T17:39:16.183669Z"
    }
   },
   "cell_type": "code",
   "source": [
    "# def dice_avg(dice_size) -> float:\n",
    "#     return (dice_size + 1) / 2.0\n",
    "# \n",
    "# dice_avg(4), dice_avg(6), dice_avg(8), dice_avg(10), dice_avg(12)"
   ],
   "id": "149fd30c1aaec1ca",
   "outputs": [],
   "execution_count": 741
  },
  {
   "cell_type": "code",
   "id": "initial_id",
   "metadata": {
    "collapsed": true,
    "ExecuteTime": {
     "end_time": "2024-11-09T17:39:16.243110Z",
     "start_time": "2024-11-09T17:39:16.239366Z"
    }
   },
   "source": [
    "import math\n",
    "import random\n",
    "\n",
    "ATTACK_ROLL_DICE_SIZE = 20\n",
    "BASE_ABILITY_SIZE = 10\n",
    "DEFAULT_TARGET_AC = 13\n",
    "\n",
    "\n",
    "def roll_dice(dice_size=ATTACK_ROLL_DICE_SIZE) -> int:\n",
    "    return random.randint(1, dice_size)\n",
    "\n",
    "\n",
    "[roll_dice() for _ in range(10)]\n"
   ],
   "outputs": [
    {
     "data": {
      "text/plain": [
       "[10, 14, 15, 14, 19, 10, 4, 1, 18, 18]"
      ]
     },
     "execution_count": 742,
     "metadata": {},
     "output_type": "execute_result"
    }
   ],
   "execution_count": 742
  },
  {
   "metadata": {
    "ExecuteTime": {
     "end_time": "2024-11-09T17:39:16.255407Z",
     "start_time": "2024-11-09T17:39:16.252970Z"
    }
   },
   "cell_type": "code",
   "source": [
    "# def base_weapon_damage_avg(dice_size, dice_count=1, bonus=0):\n",
    "#     return (dice_avg(dice_size) + bonus) * dice_count\n",
    "# \n",
    "# base_weapon_damage_avg(10, bonus=1), base_weapon_damage_avg(6, bonus=1)"
   ],
   "id": "4af76d59c67b3841",
   "outputs": [],
   "execution_count": 743
  },
  {
   "metadata": {
    "ExecuteTime": {
     "end_time": "2024-11-09T17:39:16.278621Z",
     "start_time": "2024-11-09T17:39:16.272565Z"
    }
   },
   "cell_type": "code",
   "source": [
    "from dataclasses import dataclass\n",
    "\n",
    "\n",
    "@dataclass\n",
    "class Weapon:\n",
    "    name: str\n",
    "    dice_size: int\n",
    "    dice_count: int = 1\n",
    "    bonus: int = 0\n",
    "\n",
    "    def damage_roll(self, critical=False, proficiency_bonus=0) -> int:\n",
    "        dice_count = self.dice_count * 2 if critical else self.dice_count\n",
    "        return sum([roll_dice(self.dice_size) for _ in range(dice_count)]) + self.bonus + proficiency_bonus\n",
    "\n",
    "\n",
    "hand_crossbow_0 = Weapon(\"Hand Crossbow\", dice_size=6)\n",
    "hand_crossbow_1 = Weapon(\"Hand Crossbow +1\", dice_size=6, bonus=1)\n",
    "hand_crossbow_2 = Weapon(\"Hand Crossbow +2\", dice_size=6, bonus=2)\n",
    "heavy_crossbow_0 = Weapon(\"Heavy Crossbow\", dice_size=10)\n",
    "heavy_crossbow_1 = Weapon(\"Heavy Crossbow +1\", dice_size=10, bonus=1)\n",
    "heavy_crossbow_2 = Weapon(\"Heavy Crossbow +2\", dice_size=10, bonus=2)\n",
    "hand_crossbow_0.damage_roll(), hand_crossbow_0.damage_roll(), hand_crossbow_0.damage_roll(), hand_crossbow_0.damage_roll(\n",
    "    critical=True)"
   ],
   "id": "aae92c62c3de1807",
   "outputs": [
    {
     "data": {
      "text/plain": [
       "(1, 4, 4, 11)"
      ]
     },
     "execution_count": 744,
     "metadata": {},
     "output_type": "execute_result"
    }
   ],
   "execution_count": 744
  },
  {
   "metadata": {
    "ExecuteTime": {
     "end_time": "2024-11-09T17:39:16.295900Z",
     "start_time": "2024-11-09T17:39:16.292377Z"
    }
   },
   "cell_type": "code",
   "source": [
    "longbow_0 = Weapon(\"Longbow\", dice_size=8)\n",
    "longbow_1 = Weapon(\"Longbow\", dice_size=8, bonus=1)\n",
    "longbow_2 = Weapon(\"Longbow\", dice_size=8, bonus=2)\n",
    "longbow_3 = Weapon(\"Longbow\", dice_size=8, bonus=3)\n",
    "longbow_3.damage_roll(), longbow_3.damage_roll(critical=True)"
   ],
   "id": "2d2098b8ab764929",
   "outputs": [
    {
     "data": {
      "text/plain": [
       "(10, 13)"
      ]
     },
     "execution_count": 745,
     "metadata": {},
     "output_type": "execute_result"
    }
   ],
   "execution_count": 745
  },
  {
   "metadata": {
    "ExecuteTime": {
     "end_time": "2024-11-09T17:39:16.319095Z",
     "start_time": "2024-11-09T17:39:16.315515Z"
    }
   },
   "cell_type": "code",
   "source": [
    "heavy_crossbow_2.damage_roll(critical=True), heavy_crossbow_2.damage_roll(critical=True), heavy_crossbow_2.damage_roll(\n",
    "    critical=True),"
   ],
   "id": "bae74181ba3b314a",
   "outputs": [
    {
     "data": {
      "text/plain": [
       "(12, 12, 14)"
      ]
     },
     "execution_count": 746,
     "metadata": {},
     "output_type": "execute_result"
    }
   ],
   "execution_count": 746
  },
  {
   "metadata": {
    "ExecuteTime": {
     "end_time": "2024-11-09T17:39:16.340623Z",
     "start_time": "2024-11-09T17:39:16.337927Z"
    }
   },
   "cell_type": "code",
   "source": [
    "proficiency_bonus_on_level = {\n",
    "    1: 2,\n",
    "    2: 2,\n",
    "    3: 2,\n",
    "    4: 2,\n",
    "    5: 3,\n",
    "    6: 3,\n",
    "    7: 3,\n",
    "    8: 3,\n",
    "    9: 4,\n",
    "    10: 4,\n",
    "    11: 4,\n",
    "    12: 4\n",
    "}"
   ],
   "id": "3acdab201607cdbd",
   "outputs": [],
   "execution_count": 747
  },
  {
   "metadata": {
    "ExecuteTime": {
     "end_time": "2024-11-09T17:39:16.372538Z",
     "start_time": "2024-11-09T17:39:16.370385Z"
    }
   },
   "cell_type": "code",
   "source": [
    "main_ability_on_level_default = {\n",
    "    1: 17,\n",
    "    2: 17,\n",
    "    3: 18,\n",
    "    4: 18,\n",
    "    5: 18,\n",
    "    6: 19,\n",
    "    7: 19,\n",
    "    8: 19,\n",
    "    9: 20,\n",
    "    10: 20,\n",
    "    11: 20,\n",
    "    12: 21\n",
    "}"
   ],
   "id": "fb2279b2bc6db42",
   "outputs": [],
   "execution_count": 748
  },
  {
   "metadata": {
    "ExecuteTime": {
     "end_time": "2024-11-09T17:39:16.380482Z",
     "start_time": "2024-11-09T17:39:16.376277Z"
    }
   },
   "cell_type": "code",
   "source": [
    "import sys\n",
    "import logging\n",
    "from pathlib import Path\n",
    "\n",
    "SHOULD_LOG = False\n",
    "\n",
    "logger = logging.Logger(\">>\")\n",
    "stream_handler = logging.StreamHandler(sys.stdout)\n",
    "stream_handler.setLevel(logging.DEBUG)\n",
    "formatter = logging.Formatter('%(asctime)s %(name)s [%(levelname)s]: %(message)s')\n",
    "stream_handler.setFormatter(formatter)\n",
    "logger.addHandler(stream_handler)\n",
    "\n",
    "path_to_log = Path(\n",
    "    r\"C:\\Users\\slafniy\\Desktop\\bg3modding\\DedTunedProject\\Data\\Projects\\CommonUtility\\damage_calculator.log\")\n",
    "file_handler = logging.FileHandler(path_to_log, mode='w')\n",
    "logger.addHandler(file_handler)\n",
    "\n",
    "\n",
    "def do_nothing(*args, **kwargs):\n",
    "    pass\n",
    "\n",
    "\n",
    "if not SHOULD_LOG:\n",
    "    logger.info = do_nothing"
   ],
   "id": "2ff8a3e716cab708",
   "outputs": [],
   "execution_count": 749
  },
  {
   "metadata": {
    "ExecuteTime": {
     "end_time": "2024-11-09T17:39:16.395702Z",
     "start_time": "2024-11-09T17:39:16.389441Z"
    }
   },
   "cell_type": "code",
   "source": [
    "class Character:\n",
    "    def __init__(self, name: str,\n",
    "                 level: int,\n",
    "                 weapon_main: Weapon,\n",
    "                 weapon_offhand: Weapon = None,\n",
    "                 fighting_style_archery=False,\n",
    "                 fighting_style_dual_weapon=False):\n",
    "        self.name = name\n",
    "        self.level = level\n",
    "        self.weapon_main = weapon_main\n",
    "        self.weapon_offhand = weapon_offhand\n",
    "        self.base_proficiency_bonus = proficiency_bonus_on_level[level]\n",
    "        self.ability_proficiency_bonus = int(math.floor((main_ability_on_level_default[level] - BASE_ABILITY_SIZE) / 2))\n",
    "        self.has_fighting_style_archery = fighting_style_archery\n",
    "        self.has_fighting_style_dual_weapon = fighting_style_dual_weapon\n",
    "\n",
    "    def do_attack(self, weapon: Weapon, target_ac, apply_proficiency_bonus=True) -> int:\n",
    "        attack_roll = roll_dice(ATTACK_ROLL_DICE_SIZE)\n",
    "        if attack_roll == 1:\n",
    "            logger.info(f\"{self.name} -> 0 damage, Critical miss!\")\n",
    "            return 0\n",
    "\n",
    "        if attack_roll == ATTACK_ROLL_DICE_SIZE:\n",
    "            res = weapon.damage_roll(critical=True,\n",
    "                                     proficiency_bonus=self.ability_proficiency_bonus if apply_proficiency_bonus else 0)\n",
    "            logger.info(f\"{self.name} -> {res} damage, Critical hit!\")\n",
    "            return res\n",
    "\n",
    "        style_bonus = 2 if self.has_fighting_style_archery else 0\n",
    "        attack_roll = attack_roll + self.base_proficiency_bonus + self.ability_proficiency_bonus + weapon.bonus + style_bonus\n",
    "        if attack_roll < target_ac:\n",
    "            logger.info(f\"{self.name} -> 0 damage, rolled {attack_roll} against {target_ac}\")\n",
    "            return 0\n",
    "\n",
    "        res = weapon.damage_roll(proficiency_bonus=self.ability_proficiency_bonus if apply_proficiency_bonus else 0)\n",
    "        logger.info(f\"{self.name} -> {res} damage, rolled {attack_roll} against {target_ac}\")\n",
    "        return res\n",
    "\n",
    "    def main_hand_attack(self, target_ac=DEFAULT_TARGET_AC):\n",
    "        return self.do_attack(self.weapon_main, target_ac)\n",
    "\n",
    "    def offhand_attack(self, target_ac=DEFAULT_TARGET_AC):\n",
    "        return self.do_attack(self.weapon_offhand, target_ac, self.has_fighting_style_dual_weapon)\n",
    "    \n",
    "    def simulate(self, rounds=5, target_ac=DEFAULT_TARGET_AC, iterations=1000):\n",
    "        results = []\n",
    "        for _ in range(iterations):\n",
    "            results_per_round = []\n",
    "            for _ in range(rounds):\n",
    "                dpr = self.main_hand_attack(target_ac)\n",
    "                dpr += self.offhand_attack(target_ac) if self.weapon_offhand is not None else 0\n",
    "                dpr += self.main_hand_attack(target_ac) if self.level >= 5 else 0\n",
    "                results_per_round.append(dpr)\n",
    "            results.append(sum(results_per_round) / rounds)\n",
    "        avg_damage = sum(results) / iterations\n",
    "        print(f'{self.name} lvl {self.level} with {self.weapon_main.name} '\n",
    "              f'{\"and \" if self.weapon_offhand is not None else \"\"}'\n",
    "              f'{self.weapon_offhand.name if self.weapon_offhand is not None else \"\"}, avg DPR: {avg_damage:.1f}')\n",
    "    \n"
   ],
   "id": "c4704e5389a8e7f6",
   "outputs": [],
   "execution_count": 750
  },
  {
   "metadata": {
    "ExecuteTime": {
     "end_time": "2024-11-09T17:39:38.248525Z",
     "start_time": "2024-11-09T17:39:38.132650Z"
    }
   },
   "cell_type": "code",
   "source": [
    "Character(\"Ranger archery\", 5, heavy_crossbow_1, fighting_style_archery=True).simulate(rounds=15)\n",
    "Character(\"Ranger duals\", 5, hand_crossbow_1, hand_crossbow_1, fighting_style_dual_weapon=True).simulate(rounds=15)\n",
    "\n"
   ],
   "id": "fbb6e210503b5a61",
   "outputs": [
    {
     "name": "stdout",
     "output_type": "stream",
     "text": [
      "Ranger archery lvl 5 with Heavy Crossbow +1 , avg DPR: 19.4\n",
      "Ranger duals lvl 5 with Hand Crossbow +1 and Hand Crossbow +1, avg DPR: 20.9\n"
     ]
    }
   ],
   "execution_count": 752
  },
  {
   "metadata": {
    "ExecuteTime": {
     "end_time": "2024-11-09T17:39:16.573645Z",
     "start_time": "2024-11-09T17:39:16.572122Z"
    }
   },
   "cell_type": "code",
   "source": "",
   "id": "3d333478a860afa3",
   "outputs": [],
   "execution_count": null
  }
 ],
 "metadata": {
  "kernelspec": {
   "display_name": "Python 3",
   "language": "python",
   "name": "python3"
  },
  "language_info": {
   "codemirror_mode": {
    "name": "ipython",
    "version": 2
   },
   "file_extension": ".py",
   "mimetype": "text/x-python",
   "name": "python",
   "nbconvert_exporter": "python",
   "pygments_lexer": "ipython2",
   "version": "2.7.6"
  }
 },
 "nbformat": 4,
 "nbformat_minor": 5
}
